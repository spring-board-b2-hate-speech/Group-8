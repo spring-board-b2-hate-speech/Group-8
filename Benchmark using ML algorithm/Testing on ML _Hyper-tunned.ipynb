{
 "cells": [
  {
   "cell_type": "code",
   "execution_count": 1,
   "id": "bdfa0dbd",
   "metadata": {},
   "outputs": [],
   "source": [
    "import pandas as pd\n",
    "import matplotlib.pyplot as plt"
   ]
  },
  {
   "cell_type": "code",
   "execution_count": 2,
   "id": "abea1a74",
   "metadata": {},
   "outputs": [],
   "source": [
    "df = pd.read_csv(\"Preprocessed_cleaned_Final_dataset.csv\")\n"
   ]
  },
  {
   "cell_type": "markdown",
   "id": "557f7615",
   "metadata": {},
   "source": [
    "#### ****The Dataset Is mostly balanced and no need to perform any imbalanced data handling techniques on it.****"
   ]
  },
  {
   "cell_type": "code",
   "execution_count": 3,
   "id": "a6055a96",
   "metadata": {},
   "outputs": [
    {
     "data": {
      "image/png": "[encoded data removed]",
      "text/plain": [
       "<Figure size 432x288 with 1 Axes>"
      ]
     },
     "metadata": {
      "needs_background": "light"
     },
     "output_type": "display_data"
    }
   ],
   "source": [
    "counts = df['IsHatespeech'].value_counts()\n",
    "counts.plot(kind='bar', color=['blue', 'orange'])\n",
    "\n",
    "\n",
    "plt.title('Number of 0 and 1 in IsHatespeech Column')\n",
    "plt.xlabel('IsHatespeech')\n",
    "plt.ylabel('Count')\n",
    "plt.xticks([0, 1], ['0 (Non-Hate Speech)', '1 (Hate Speech)'], rotation=0)\n",
    "\n",
    "plt.show()"
   ]
  },
  {
   "cell_type": "code",
   "execution_count": 4,
   "id": "fe6e866a",
   "metadata": {},
   "outputs": [
    {
     "name": "stdout",
     "output_type": "stream",
     "text": [
      "<class 'pandas.core.frame.DataFrame'>\n",
      "RangeIndex: 9310 entries, 0 to 9309\n",
      "Data columns (total 5 columns):\n",
      " #   Column        Non-Null Count  Dtype \n",
      "---  ------        --------------  ----- \n",
      " 0   Text          9310 non-null   object\n",
      " 1   IsHatespeech  9310 non-null   int64 \n",
      " 2   tokens        9310 non-null   object\n",
      " 3   clean_text    9307 non-null   object\n",
      " 4   text_length   9310 non-null   int64 \n",
      "dtypes: int64(2), object(3)\n",
      "memory usage: 363.8+ KB\n"
     ]
    }
   ],
   "source": [
    "df.info()"
   ]
  },
  {
   "cell_type": "code",
   "execution_count": 5,
   "id": "109edb11",
   "metadata": {},
   "outputs": [
    {
     "data": {
      "text/html": [
       "<div>\n",
       "<style scoped>\n",
       "    .dataframe tbody tr th:only-of-type {\n",
       "        vertical-align: middle;\n",
       "    }\n",
       "\n",
       "    .dataframe tbody tr th {\n",
       "        vertical-align: top;\n",
       "    }\n",
       "\n",
       "    .dataframe thead th {\n",
       "        text-align: right;\n",
       "    }\n",
       "</style>\n",
       "<table border=\"1\" class=\"dataframe\">\n",
       "  <thead>\n",
       "    <tr style=\"text-align: right;\">\n",
       "      <th></th>\n",
       "      <th>Text</th>\n",
       "      <th>IsHatespeech</th>\n",
       "      <th>tokens</th>\n",
       "      <th>clean_text</th>\n",
       "      <th>text_length</th>\n",
       "    </tr>\n",
       "  </thead>\n",
       "  <tbody>\n",
       "    <tr>\n",
       "      <th>0</th>\n",
       "      <td>frustratingly small please find an image at le...</td>\n",
       "      <td>0</td>\n",
       "      <td>['frustratingly', 'small', 'please', 'find', '...</td>\n",
       "      <td>frustratingly small please find image least pi...</td>\n",
       "      <td>117</td>\n",
       "    </tr>\n",
       "    <tr>\n",
       "      <th>1</th>\n",
       "      <td>padding cell padding class mainpagebg solid ve...</td>\n",
       "      <td>0</td>\n",
       "      <td>['padding', 'cell', 'padding', 'class', 'mainp...</td>\n",
       "      <td>padding cell padding class mainpagebg solid ve...</td>\n",
       "      <td>1192</td>\n",
       "    </tr>\n",
       "    <tr>\n",
       "      <th>2</th>\n",
       "      <td>from the scenarios you present i see you belie...</td>\n",
       "      <td>0</td>\n",
       "      <td>['scenario', 'present', 'see', 'believe', 'peo...</td>\n",
       "      <td>scenario present see believe people robot abra...</td>\n",
       "      <td>560</td>\n",
       "    </tr>\n",
       "    <tr>\n",
       "      <th>3</th>\n",
       "      <td>i have to go inside you tomorrow i hate myself...</td>\n",
       "      <td>0</td>\n",
       "      <td>['go', 'inside', 'tomorrow', 'hate', 'every', ...</td>\n",
       "      <td>go inside tomorrow hate every time feel cheap ...</td>\n",
       "      <td>51</td>\n",
       "    </tr>\n",
       "    <tr>\n",
       "      <th>4</th>\n",
       "      <td>retweet china s bird flu outbreak good signs b...</td>\n",
       "      <td>0</td>\n",
       "      <td>['retweet', 'china', 'bird', 'flu', 'outbreak'...</td>\n",
       "      <td>retweet china bird flu outbreak good sign bad ...</td>\n",
       "      <td>59</td>\n",
       "    </tr>\n",
       "  </tbody>\n",
       "</table>\n",
       "</div>"
      ],
      "text/plain": [
       "                                                Text  IsHatespeech  \\\n",
       "0  frustratingly small please find an image at le...             0   \n",
       "1  padding cell padding class mainpagebg solid ve...             0   \n",
       "2  from the scenarios you present i see you belie...             0   \n",
       "3  i have to go inside you tomorrow i hate myself...             0   \n",
       "4  retweet china s bird flu outbreak good signs b...             0   \n",
       "\n",
       "                                              tokens  \\\n",
       "0  ['frustratingly', 'small', 'please', 'find', '...   \n",
       "1  ['padding', 'cell', 'padding', 'class', 'mainp...   \n",
       "2  ['scenario', 'present', 'see', 'believe', 'peo...   \n",
       "3  ['go', 'inside', 'tomorrow', 'hate', 'every', ...   \n",
       "4  ['retweet', 'china', 'bird', 'flu', 'outbreak'...   \n",
       "\n",
       "                                          clean_text  text_length  \n",
       "0  frustratingly small please find image least pi...          117  \n",
       "1  padding cell padding class mainpagebg solid ve...         1192  \n",
       "2  scenario present see believe people robot abra...          560  \n",
       "3  go inside tomorrow hate every time feel cheap ...           51  \n",
       "4  retweet china bird flu outbreak good sign bad ...           59  "
      ]
     },
     "execution_count": 5,
     "metadata": {},
     "output_type": "execute_result"
    }
   ],
   "source": [
    "df.head()"
   ]
  },
  {
   "cell_type": "code",
   "execution_count": 6,
   "id": "70798eee",
   "metadata": {},
   "outputs": [],
   "source": [
    "df = df.dropna()"
   ]
  },
  {
   "cell_type": "code",
   "execution_count": 26,
   "id": "4303d0d4",
   "metadata": {},
   "outputs": [],
   "source": [
    "from sklearn.feature_extraction.text import CountVectorizer\n",
    "\n",
    "cv=CountVectorizer() \n",
    " \n",
    "word_count_vector=cv.fit_transform(df['clean_text'])"
   ]
  },
  {
   "cell_type": "code",
   "execution_count": 59,
   "id": "30ebecfd",
   "metadata": {},
   "outputs": [
    {
     "name": "stdout",
     "output_type": "stream",
     "text": [
      "(2550,)\n"
     ]
    }
   ],
   "source": [
    "word_counts = pd.DataFrame(word_count_vector.toarray(), columns=cv.get_feature_names_out())\n",
    "word_counts_sum = word_counts.sum().sort_values(ascending=False)\n",
    "\n",
    "words_above_threshold = word_counts_sum[word_counts_sum > 10]\n",
    "\n",
    "\n",
    "print(words_above_threshold.shape)"
   ]
  },
  {
   "cell_type": "code",
   "execution_count": null,
   "id": "ed9a18a3",
   "metadata": {},
   "outputs": [],
   "source": []
  },
  {
   "cell_type": "markdown",
   "id": "50b97e57",
   "metadata": {},
   "source": [
    "#### Testing how much accuracy can be achived by choosing the best hyper-parameter \n",
    "#### We split and perform TF-IDF Embedding on it"
   ]
  },
  {
   "cell_type": "code",
   "execution_count": 50,
   "id": "3874bc23",
   "metadata": {},
   "outputs": [],
   "source": [
    "import pandas as pd\n",
    "import numpy as np\n",
    "from sklearn.model_selection import train_test_split, GridSearchCV\n",
    "from sklearn.feature_extraction.text import TfidfVectorizer\n",
    "\n",
    "\n",
    "\n",
    "X = df['clean_text']\n",
    "y = df['IsHatespeech']\n",
    "\n",
    "X_train, X_test, y_train, y_test = train_test_split(X, y, test_size=0.2, random_state=42)\n",
    "\n",
    "tfidf_vectorizer = TfidfVectorizer(max_features=2000)\n",
    "X_train_tfidf = tfidf_vectorizer.fit_transform(X_train)\n",
    "X_test_tfidf = tfidf_vectorizer.transform(X_test)"
   ]
  },
  {
   "cell_type": "markdown",
   "id": "7cf97d50",
   "metadata": {},
   "source": [
    "### Random Forest alogorithm was able to achive Accuracy: 0.71535 with Hyper Parameter Tunning"
   ]
  },
  {
   "cell_type": "code",
   "execution_count": 51,
   "id": "57da7104",
   "metadata": {},
   "outputs": [
    {
     "name": "stdout",
     "output_type": "stream",
     "text": [
      "Fitting 5 folds for each of 750 candidates, totalling 3750 fits\n",
      "Random Forest Performance with TF-IDF:\n",
      "Best Parameters: {'max_depth': 20, 'max_features': 2, 'max_leaf_nodes': 20, 'n_estimators': 5000}\n",
      "Classification Report:\n",
      "               precision    recall  f1-score   support\n",
      "\n",
      "           0       0.73      0.72      0.72       944\n",
      "           1       0.71      0.73      0.72       918\n",
      "\n",
      "    accuracy                           0.72      1862\n",
      "   macro avg       0.72      0.72      0.72      1862\n",
      "weighted avg       0.72      0.72      0.72      1862\n",
      "\n",
      "Accuracy: 0.7223415682062299\n",
      "AUC-ROC: 0.7224299324249474\n",
      "Confusion Matrix:\n",
      " [[676 268]\n",
      " [249 669]]\n"
     ]
    }
   ],
   "source": [
    "from sklearn.ensemble import RandomForestClassifier\n",
    "from sklearn.metrics import classification_report, accuracy_score, roc_auc_score, confusion_matrix\n",
    "\n",
    "param_grid = {\n",
    "    'n_estimators': [25,150,500,1000,5000], \n",
    "    'max_features': [1,2,'auto','sqrt', 'log2', None], \n",
    "    'max_depth': [3, 6, 9,15,20], \n",
    "    'max_leaf_nodes': [3, 6, 9,15,20]\n",
    "    \n",
    "}\n",
    "\n",
    "rf = RandomForestClassifier(random_state=42)\n",
    "\n",
    "grid_search = GridSearchCV(estimator=rf, param_grid=param_grid, cv=5, n_jobs=-1, verbose=2, scoring='accuracy')\n",
    "\n",
    "grid_search.fit(X_train_tfidf, y_train)\n",
    "\n",
    "best_rf = grid_search.best_estimator_\n",
    "\n",
    "y_pred = best_rf.predict(X_test_tfidf)\n",
    "\n",
    "print(\"Random Forest Performance with TF-IDF:\")\n",
    "print(\"Best Parameters:\", grid_search.best_params_)\n",
    "print(\"Classification Report:\\n\", classification_report(y_test, y_pred))\n",
    "print(\"Accuracy:\", accuracy_score(y_test, y_pred))\n",
    "print(\"AUC-ROC:\", roc_auc_score(y_test, y_pred))\n",
    "print(\"Confusion Matrix:\\n\", confusion_matrix(y_test, y_pred))\n",
    "print(\"F1 Score:\", f1_score(y_test, y_pred))\n",
    "print(\"Precision:\",precision_score(y_test, y_pred))\n",
    "print(\"Recall:\", recall_score(y_test, y_pred))\n",
    "\n"
   ]
  },
  {
   "cell_type": "code",
   "execution_count": 57,
   "id": "98ddef5d",
   "metadata": {},
   "outputs": [
    {
     "name": "stdout",
     "output_type": "stream",
     "text": [
      "F1 Score: 0.7212938005390834\n",
      "Precision: 0.7139807897545357\n",
      "Recall: 0.7287581699346405\n"
     ]
    }
   ],
   "source": [
    "print(\"F1 Score:\", f1_score(y_test, y_pred))\n",
    "print(\"Precision:\",precision_score(y_test, y_pred))\n",
    "print(\"Recall:\", recall_score(y_test, y_pred))"
   ]
  },
  {
   "cell_type": "markdown",
   "id": "9bdb66e6",
   "metadata": {},
   "source": [
    "### Logistic Regression Model Hyper-tunning parameters\n"
   ]
  },
  {
   "cell_type": "code",
   "execution_count": 54,
   "id": "077f6f28",
   "metadata": {
    "scrolled": true
   },
   "outputs": [
    {
     "name": "stdout",
     "output_type": "stream",
     "text": [
      "Fitting 5 folds for each of 100 candidates, totalling 500 fits\n",
      "Logistic Regression Performance with TF-IDF:\n",
      "Best Parameters: {'C': 1, 'penalty': 'l2', 'solver': 'liblinear'}\n",
      "Classification Report:\n",
      "               precision    recall  f1-score   support\n",
      "\n",
      "           0       0.76      0.75      0.76       944\n",
      "           1       0.75      0.76      0.75       918\n",
      "\n",
      "    accuracy                           0.76      1862\n",
      "   macro avg       0.76      0.76      0.76      1862\n",
      "weighted avg       0.76      0.76      0.76      1862\n",
      "\n",
      "Accuracy: 0.7556390977443609\n",
      "AUC-ROC: 0.755688951663528\n",
      "Confusion Matrix:\n",
      " [[710 234]\n",
      " [221 697]]\n",
      "F1 Score: 0.7539210383991347\n",
      "Precision: 0.748657357679914\n",
      "Recall: 0.7592592592592593\n"
     ]
    },
    {
     "name": "stderr",
     "output_type": "stream",
     "text": [
      "C:\\Users\\shrey\\anaconda3\\lib\\site-packages\\sklearn\\model_selection\\_validation.py:372: FitFailedWarning: \n",
      "225 fits failed out of a total of 500.\n",
      "The score on these train-test partitions for these parameters will be set to nan.\n",
      "If these failures are not expected, you can try to debug them by setting error_score='raise'.\n",
      "\n",
      "Below are more details about the failures:\n",
      "--------------------------------------------------------------------------------\n",
      "25 fits failed with the following error:\n",
      "Traceback (most recent call last):\n",
      "  File \"C:\\Users\\shrey\\anaconda3\\lib\\site-packages\\sklearn\\model_selection\\_validation.py\", line 680, in _fit_and_score\n",
      "    estimator.fit(X_train, y_train, **fit_params)\n",
      "  File \"C:\\Users\\shrey\\anaconda3\\lib\\site-packages\\sklearn\\linear_model\\_logistic.py\", line 1461, in fit\n",
      "    solver = _check_solver(self.solver, self.penalty, self.dual)\n",
      "  File \"C:\\Users\\shrey\\anaconda3\\lib\\site-packages\\sklearn\\linear_model\\_logistic.py\", line 447, in _check_solver\n",
      "    raise ValueError(\n",
      "ValueError: Solver newton-cg supports only 'l2' or 'none' penalties, got l1 penalty.\n",
      "\n",
      "--------------------------------------------------------------------------------\n",
      "25 fits failed with the following error:\n",
      "Traceback (most recent call last):\n",
      "  File \"C:\\Users\\shrey\\anaconda3\\lib\\site-packages\\sklearn\\model_selection\\_validation.py\", line 680, in _fit_and_score\n",
      "    estimator.fit(X_train, y_train, **fit_params)\n",
      "  File \"C:\\Users\\shrey\\anaconda3\\lib\\site-packages\\sklearn\\linear_model\\_logistic.py\", line 1461, in fit\n",
      "    solver = _check_solver(self.solver, self.penalty, self.dual)\n",
      "  File \"C:\\Users\\shrey\\anaconda3\\lib\\site-packages\\sklearn\\linear_model\\_logistic.py\", line 447, in _check_solver\n",
      "    raise ValueError(\n",
      "ValueError: Solver lbfgs supports only 'l2' or 'none' penalties, got l1 penalty.\n",
      "\n",
      "--------------------------------------------------------------------------------\n",
      "25 fits failed with the following error:\n",
      "Traceback (most recent call last):\n",
      "  File \"C:\\Users\\shrey\\anaconda3\\lib\\site-packages\\sklearn\\model_selection\\_validation.py\", line 680, in _fit_and_score\n",
      "    estimator.fit(X_train, y_train, **fit_params)\n",
      "  File \"C:\\Users\\shrey\\anaconda3\\lib\\site-packages\\sklearn\\linear_model\\_logistic.py\", line 1461, in fit\n",
      "    solver = _check_solver(self.solver, self.penalty, self.dual)\n",
      "  File \"C:\\Users\\shrey\\anaconda3\\lib\\site-packages\\sklearn\\linear_model\\_logistic.py\", line 447, in _check_solver\n",
      "    raise ValueError(\n",
      "ValueError: Solver sag supports only 'l2' or 'none' penalties, got l1 penalty.\n",
      "\n",
      "--------------------------------------------------------------------------------\n",
      "25 fits failed with the following error:\n",
      "Traceback (most recent call last):\n",
      "  File \"C:\\Users\\shrey\\anaconda3\\lib\\site-packages\\sklearn\\model_selection\\_validation.py\", line 680, in _fit_and_score\n",
      "    estimator.fit(X_train, y_train, **fit_params)\n",
      "  File \"C:\\Users\\shrey\\anaconda3\\lib\\site-packages\\sklearn\\linear_model\\_logistic.py\", line 1461, in fit\n",
      "    solver = _check_solver(self.solver, self.penalty, self.dual)\n",
      "  File \"C:\\Users\\shrey\\anaconda3\\lib\\site-packages\\sklearn\\linear_model\\_logistic.py\", line 447, in _check_solver\n",
      "    raise ValueError(\n",
      "ValueError: Solver newton-cg supports only 'l2' or 'none' penalties, got elasticnet penalty.\n",
      "\n",
      "--------------------------------------------------------------------------------\n",
      "25 fits failed with the following error:\n",
      "Traceback (most recent call last):\n",
      "  File \"C:\\Users\\shrey\\anaconda3\\lib\\site-packages\\sklearn\\model_selection\\_validation.py\", line 680, in _fit_and_score\n",
      "    estimator.fit(X_train, y_train, **fit_params)\n",
      "  File \"C:\\Users\\shrey\\anaconda3\\lib\\site-packages\\sklearn\\linear_model\\_logistic.py\", line 1461, in fit\n",
      "    solver = _check_solver(self.solver, self.penalty, self.dual)\n",
      "  File \"C:\\Users\\shrey\\anaconda3\\lib\\site-packages\\sklearn\\linear_model\\_logistic.py\", line 447, in _check_solver\n",
      "    raise ValueError(\n",
      "ValueError: Solver lbfgs supports only 'l2' or 'none' penalties, got elasticnet penalty.\n",
      "\n",
      "--------------------------------------------------------------------------------\n",
      "25 fits failed with the following error:\n",
      "Traceback (most recent call last):\n",
      "  File \"C:\\Users\\shrey\\anaconda3\\lib\\site-packages\\sklearn\\model_selection\\_validation.py\", line 680, in _fit_and_score\n",
      "    estimator.fit(X_train, y_train, **fit_params)\n",
      "  File \"C:\\Users\\shrey\\anaconda3\\lib\\site-packages\\sklearn\\linear_model\\_logistic.py\", line 1461, in fit\n",
      "    solver = _check_solver(self.solver, self.penalty, self.dual)\n",
      "  File \"C:\\Users\\shrey\\anaconda3\\lib\\site-packages\\sklearn\\linear_model\\_logistic.py\", line 457, in _check_solver\n",
      "    raise ValueError(\n",
      "ValueError: Only 'saga' solver supports elasticnet penalty, got solver=liblinear.\n",
      "\n",
      "--------------------------------------------------------------------------------\n",
      "25 fits failed with the following error:\n",
      "Traceback (most recent call last):\n",
      "  File \"C:\\Users\\shrey\\anaconda3\\lib\\site-packages\\sklearn\\model_selection\\_validation.py\", line 680, in _fit_and_score\n",
      "    estimator.fit(X_train, y_train, **fit_params)\n",
      "  File \"C:\\Users\\shrey\\anaconda3\\lib\\site-packages\\sklearn\\linear_model\\_logistic.py\", line 1461, in fit\n",
      "    solver = _check_solver(self.solver, self.penalty, self.dual)\n",
      "  File \"C:\\Users\\shrey\\anaconda3\\lib\\site-packages\\sklearn\\linear_model\\_logistic.py\", line 447, in _check_solver\n",
      "    raise ValueError(\n",
      "ValueError: Solver sag supports only 'l2' or 'none' penalties, got elasticnet penalty.\n",
      "\n",
      "--------------------------------------------------------------------------------\n",
      "25 fits failed with the following error:\n",
      "Traceback (most recent call last):\n",
      "  File \"C:\\Users\\shrey\\anaconda3\\lib\\site-packages\\sklearn\\model_selection\\_validation.py\", line 680, in _fit_and_score\n",
      "    estimator.fit(X_train, y_train, **fit_params)\n",
      "  File \"C:\\Users\\shrey\\anaconda3\\lib\\site-packages\\sklearn\\linear_model\\_logistic.py\", line 1471, in fit\n",
      "    raise ValueError(\n",
      "ValueError: l1_ratio must be between 0 and 1; got (l1_ratio=None)\n",
      "\n",
      "--------------------------------------------------------------------------------\n",
      "25 fits failed with the following error:\n",
      "Traceback (most recent call last):\n",
      "  File \"C:\\Users\\shrey\\anaconda3\\lib\\site-packages\\sklearn\\model_selection\\_validation.py\", line 680, in _fit_and_score\n",
      "    estimator.fit(X_train, y_train, **fit_params)\n",
      "  File \"C:\\Users\\shrey\\anaconda3\\lib\\site-packages\\sklearn\\linear_model\\_logistic.py\", line 1461, in fit\n",
      "    solver = _check_solver(self.solver, self.penalty, self.dual)\n",
      "  File \"C:\\Users\\shrey\\anaconda3\\lib\\site-packages\\sklearn\\linear_model\\_logistic.py\", line 464, in _check_solver\n",
      "    raise ValueError(\"penalty='none' is not supported for the liblinear solver\")\n",
      "ValueError: penalty='none' is not supported for the liblinear solver\n",
      "\n",
      "  warnings.warn(some_fits_failed_message, FitFailedWarning)\n",
      "C:\\Users\\shrey\\anaconda3\\lib\\site-packages\\sklearn\\model_selection\\_search.py:969: UserWarning: One or more of the test scores are non-finite: [       nan        nan 0.51067831        nan 0.51067831 0.6916051\n",
      " 0.6916051  0.69751511 0.6922767  0.69173942        nan        nan\n",
      "        nan        nan        nan 0.67199463 0.67226326        nan\n",
      " 0.68341169 0.68636669        nan        nan 0.65359302        nan\n",
      " 0.65278711 0.76373405 0.76373405 0.76359973 0.76373405 0.76359973\n",
      "        nan        nan        nan        nan        nan 0.67199463\n",
      " 0.67226326        nan 0.68341169 0.68636669        nan        nan\n",
      " 0.75057085        nan 0.75043653 0.76386837 0.76386837 0.76400269\n",
      " 0.76386837 0.76386837        nan        nan        nan        nan\n",
      "        nan 0.67199463 0.67226326        nan 0.68341169 0.68636669\n",
      "        nan        nan 0.72733378        nan 0.72733378 0.74425789\n",
      " 0.74425789 0.74439221 0.74425789 0.74439221        nan        nan\n",
      "        nan        nan        nan 0.67199463 0.67226326        nan\n",
      " 0.68341169 0.68636669        nan        nan 0.68932169        nan\n",
      " 0.69214238 0.71524513 0.71537945 0.71524513 0.71537945 0.71524513\n",
      "        nan        nan        nan        nan        nan 0.67199463\n",
      " 0.67226326        nan 0.68341169 0.68636669]\n",
      "  warnings.warn(\n"
     ]
    }
   ],
   "source": [
    "from sklearn.linear_model import LogisticRegression\n",
    "from sklearn.metrics import classification_report, accuracy_score, roc_auc_score, confusion_matrix\n",
    "from sklearn.metrics import classification_report, accuracy_score, roc_auc_score, precision_score, recall_score, f1_score\n",
    "\n",
    "param_grid = {\n",
    "    'penalty': ['l1', 'l2', 'elasticnet', 'none'],\n",
    "    'C': [0.01, 0.1, 1, 10, 100],\n",
    "    'solver': ['newton-cg', 'lbfgs', 'liblinear', 'sag', 'saga']\n",
    "}\n",
    "\n",
    "logistic_model = LogisticRegression(random_state=42, max_iter=1000)\n",
    "\n",
    "grid_search_logistic = GridSearchCV(estimator=logistic_model, param_grid=param_grid, cv=5, n_jobs=-1, verbose=2, scoring='accuracy')\n",
    "\n",
    "grid_search_logistic.fit(X_train_tfidf, y_train)\n",
    "\n",
    "best_logistic = grid_search_logistic.best_estimator_\n",
    "\n",
    "y_pred_logistic = best_logistic.predict(X_test_tfidf)\n",
    "\n",
    "print(\"Logistic Regression Performance with TF-IDF:\")\n",
    "print(\"Best Parameters:\", grid_search_logistic.best_params_)\n",
    "print(\"Classification Report:\\n\", classification_report(y_test, y_pred_logistic))\n",
    "print(\"Accuracy:\", accuracy_score(y_test, y_pred_logistic))\n",
    "print(\"AUC-ROC:\", roc_auc_score(y_test, y_pred_logistic))\n",
    "print(\"Confusion Matrix:\\n\", confusion_matrix(y_test, y_pred_logistic))\n",
    "print(\"F1 Score:\", f1_score(y_test, y_pred_logistic))\n",
    "print(\"Precision:\",precision_score(y_test, y_pred_logistic))\n",
    "print(\"Recall:\", recall_score(y_test, y_pred_logistic))\n"
   ]
  },
  {
   "cell_type": "markdown",
   "id": "8d674ffe",
   "metadata": {},
   "source": [
    "### Naive Bayes Model Hyper-tunning parameters\n"
   ]
  },
  {
   "cell_type": "code",
   "execution_count": 55,
   "id": "13891b35",
   "metadata": {},
   "outputs": [
    {
     "name": "stdout",
     "output_type": "stream",
     "text": [
      "Fitting 5 folds for each of 6 candidates, totalling 30 fits\n",
      "Naive Bayes Performance with TF-IDF:\n",
      "Best Parameters: {'alpha': 1}\n",
      "Classification Report:\n",
      "               precision    recall  f1-score   support\n",
      "\n",
      "           0       0.78      0.71      0.75       944\n",
      "           1       0.73      0.80      0.76       918\n",
      "\n",
      "    accuracy                           0.75      1862\n",
      "   macro avg       0.76      0.76      0.75      1862\n",
      "weighted avg       0.76      0.75      0.75      1862\n",
      "\n",
      "Accuracy: 0.7545649838882922\n",
      "AUC-ROC: 0.755139673571877\n",
      "Confusion Matrix:\n",
      " [[674 270]\n",
      " [187 731]]\n",
      "F1 Score: 0.7618551328817093\n",
      "Precision: 0.7302697302697303\n",
      "Recall: 0.7962962962962963\n"
     ]
    }
   ],
   "source": [
    "from sklearn.naive_bayes import MultinomialNB\n",
    "from sklearn.metrics import classification_report, accuracy_score, roc_auc_score, confusion_matrix\n",
    "\n",
    "param_grid = {\n",
    "    'alpha': [0.01, 0.1, 0.5, 1, 5, 10]\n",
    "}\n",
    "\n",
    "naive_bayes_model = MultinomialNB()\n",
    "\n",
    "grid_search_nb = GridSearchCV(estimator=naive_bayes_model, param_grid=param_grid, cv=5, n_jobs=-1, verbose=2, scoring='accuracy')\n",
    "\n",
    "grid_search_nb.fit(X_train_tfidf, y_train)\n",
    "\n",
    "best_nb = grid_search_nb.best_estimator_\n",
    "\n",
    "y_pred_nb = best_nb.predict(X_test_tfidf)\n",
    "\n",
    "print(\"Naive Bayes Performance with TF-IDF:\")\n",
    "print(\"Best Parameters:\", grid_search_nb.best_params_)\n",
    "print(\"Classification Report:\\n\", classification_report(y_test, y_pred_nb))\n",
    "print(\"Accuracy:\", accuracy_score(y_test, y_pred_nb))\n",
    "print(\"AUC-ROC:\", roc_auc_score(y_test, y_pred_nb))\n",
    "print(\"Confusion Matrix:\\n\", confusion_matrix(y_test, y_pred_nb))\n",
    "print(\"F1 Score:\", f1_score(y_test, y_pred_nb))\n",
    "print(\"Precision:\",precision_score(y_test, y_pred_nb))\n",
    "print(\"Recall:\", recall_score(y_test, y_pred_nb))"
   ]
  },
  {
   "cell_type": "markdown",
   "id": "9ad71248",
   "metadata": {},
   "source": [
    "### SVM Model Hyper-tunning parameters\n"
   ]
  },
  {
   "cell_type": "code",
   "execution_count": 58,
   "id": "83d1a68a",
   "metadata": {},
   "outputs": [
    {
     "name": "stdout",
     "output_type": "stream",
     "text": [
      "Fitting 5 folds for each of 40 candidates, totalling 200 fits\n",
      "SVM Performance with TF-IDF:\n",
      "Best Parameters: {'C': 1, 'gamma': 'scale', 'kernel': 'rbf'}\n",
      "Classification Report:\n",
      "               precision    recall  f1-score   support\n",
      "\n",
      "           0       0.79      0.74      0.76       944\n",
      "           1       0.75      0.79      0.77       918\n",
      "\n",
      "    accuracy                           0.77      1862\n",
      "   macro avg       0.77      0.77      0.77      1862\n",
      "weighted avg       0.77      0.77      0.77      1862\n",
      "\n",
      "Accuracy: 0.7663802363050484\n",
      "AUC-ROC: 0.8326848159226026\n",
      "Confusion Matrix:\n",
      " [[699 245]\n",
      " [190 728]]\n",
      "F1 Score: 0.7699629825489159\n",
      "Precision: 0.7482014388489209\n",
      "Recall: 0.7930283224400871\n"
     ]
    }
   ],
   "source": [
    "from sklearn.svm import SVC\n",
    "from sklearn.metrics import classification_report, accuracy_score, roc_auc_score, confusion_matrix\n",
    "\n",
    "param_grid = {\n",
    "    'C': [0.01, 0.1, 1, 10, 100],\n",
    "    'kernel': ['linear', 'poly', 'rbf', 'sigmoid'],\n",
    "    'gamma': ['scale', 'auto']\n",
    "}\n",
    "\n",
    "svm_model = SVC(random_state=42, probability=True)\n",
    "\n",
    "grid_search_svm = GridSearchCV(estimator=svm_model, param_grid=param_grid, cv=5, n_jobs=-1, verbose=2, scoring='accuracy')\n",
    "\n",
    "grid_search_svm.fit(X_train_tfidf, y_train)\n",
    "\n",
    "best_svm = grid_search_svm.best_estimator_\n",
    "\n",
    "y_pred_svm = best_svm.predict(X_test_tfidf)\n",
    "y_pred_svm_proba = best_svm.predict_proba(X_test_tfidf)[:, 1]\n",
    "\n",
    "print(\"SVM Performance with TF-IDF:\")\n",
    "print(\"Best Parameters:\", grid_search_svm.best_params_)\n",
    "print(\"Classification Report:\\n\", classification_report(y_test, y_pred_svm))\n",
    "print(\"Accuracy:\", accuracy_score(y_test, y_pred_svm))\n",
    "print(\"AUC-ROC:\", roc_auc_score(y_test, y_pred_svm_proba))\n",
    "print(\"Confusion Matrix:\\n\", confusion_matrix(y_test, y_pred_svm))\n",
    "print(\"F1 Score:\", f1_score(y_test, y_pred_svm))\n",
    "print(\"Precision:\",precision_score(y_test, y_pred_svm))\n",
    "print(\"Recall:\", recall_score(y_test, y_pred_svm))"
   ]
  },
  {
   "cell_type": "code",
   "execution_count": null,
   "id": "684376a7",
   "metadata": {},
   "outputs": [],
   "source": []
  }
 ],
 "metadata": {
  "kernelspec": {
   "display_name": "Python 3 (ipykernel)",
   "language": "python",
   "name": "python3"
  },
  "language_info": {
   "codemirror_mode": {
    "name": "ipython",
    "version": 3
   },
   "file_extension": ".py",
   "mimetype": "text/x-python",
   "name": "python",
   "nbconvert_exporter": "python",
   "pygments_lexer": "ipython3",
   "version": "3.9.12"
  }
 },
 "nbformat": 4,
 "nbformat_minor": 5
}
