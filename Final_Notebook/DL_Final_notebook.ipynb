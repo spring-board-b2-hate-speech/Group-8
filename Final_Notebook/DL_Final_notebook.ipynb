{
  "cells": [
    {
      "cell_type": "markdown",
      "metadata": {
        "id": "view-in-github",
        "colab_type": "text"
      },
      "source": [
        "<a href=\"https://colab.research.google.com/github/spring-board-b2-hate-speech/Group-8/blob/s_work/Final_Notebook/DL_Final_notebook.ipynb\" target=\"_parent\"><img src=\"https://colab.research.google.com/assets/colab-badge.svg\" alt=\"Open In Colab\"/></a>"
      ]
    },
    {
      "cell_type": "markdown",
      "id": "1f4ab42a",
      "metadata": {
        "id": "1f4ab42a"
      },
      "source": [
        "\n",
        "# Hate Speech Detection in Social Media Comment Section\n",
        "**Develop a hate speech detection system capable identifying and classifying hate speech in comments sections of various Social media.**\n",
        "\n",
        "\n",
        "## Project Overview\n",
        "\n",
        "In the digital age, social media platforms face significant challenges in maintaining a safe and respectful online community, particularly with the proliferation of hate speech in user-generated comments.\n",
        "The primary objective is to develop a robust hate speech detection system using advanced natural language processing (NLP) techniques to enhance content moderation capabilities on Social Media Platforms.\n",
        "Efficient hate speech detection is pivotal for maintaining platform integrity and user trust, ensuring comments are following the Guidlines.\n",
        "\n",
        "## Solution\n",
        "\n",
        "This project aims to develop an AI model to detect hate speech in the Social Media comment Section. The model is trained using a labeled dataset and employs various natural language processing (NLP) techniques to identify and classify hate speech.\n",
        "\n",
        "Steps:\n",
        "\n",
        "**Data Preparation**: Collected and preprocessed data. The Preprocessing Involves various data cleaning steps and EDA for getting insights about the quality of the data.\n",
        "\n",
        "**Model Development**: Implemented and optimized a Deep Learning model. Here we made use of TF-IDF embedding and a built a deep learning model involving various layers. The Model was trained on the cleaned data.\n",
        "\n",
        "**Performance**: The Deep Learning models performance was then evaluated using various metrices but the main focus was on F1 score which is a combination of Precision and recall. The DL Model was able to achive a good F1 score making it effiecient for next step.\n",
        "\n",
        "**Prediction**: Using DL Model for real-time detection on some of the comments to check how the model performs on real-time data.\n",
        "\n",
        "## Dataset Description\n",
        "\n",
        "The Dataset Contains 10,000 entries which are taken from the Hatespeech Curated Dataset from Kaggle. The Kaggle dataset is huge and tough while using so we decided to take nearly 10,000 rows from that big dataset and the ratio of hatespeech to non-hatespeech is 1:1 so as to have a balanced dataset.\n",
        "The Dataset is simple it contains Text and Labels. The text contains the comments from various social medial platform combined in one and the label is state wheather it is hatespeech or not.\n",
        "\n",
        "\n",
        " ### Train & Test  data size:\n",
        "\n",
        " The Dataset after cleaning was split into train and test. The 80 % Data was used for training the model while 20 % for the testing perpose.\n",
        "\n",
        "### Label wise split in train data:\n",
        "\n",
        "As per stated early the dataset is combination of half hatespeech and other half Non-hatespeech. This is also followe in the Training and testing split, Both of them are having 50% Hatespeech and 50% Non hatespeech\n"
      ]
    },
    {
      "cell_type": "code",
      "execution_count": 1,
      "id": "71b4be30",
      "metadata": {
        "id": "71b4be30"
      },
      "outputs": [],
      "source": [
        "import pandas as pd\n",
        "import numpy as np\n",
        "import matplotlib.pyplot as plt\n",
        "import seaborn as sns\n",
        "import nltk\n",
        "import re"
      ]
    },
    {
      "cell_type": "code",
      "execution_count": 2,
      "id": "c50c69dd",
      "metadata": {
        "id": "c50c69dd"
      },
      "outputs": [],
      "source": [
        "df = pd.read_csv(\"Small_Hatespeech10k.csv\")"
      ]
    },
    {
      "cell_type": "markdown",
      "id": "62175532",
      "metadata": {
        "id": "62175532"
      },
      "source": [
        "# Data Description\n",
        "\n",
        "### BASIC ANALYSIS"
      ]
    },
    {
      "cell_type": "markdown",
      "id": "70daa8c4",
      "metadata": {
        "id": "70daa8c4"
      },
      "source": [
        "#### Dataset Information:\n",
        "\n",
        "Function: info()\n",
        "\n",
        "Purpose: Provides a concise summary of the DataFrame including the index dtype, column dtypes, non-null values, and memory usage."
      ]
    },
    {
      "cell_type": "code",
      "execution_count": 3,
      "id": "c9f3faa9",
      "metadata": {
        "scrolled": true,
        "colab": {
          "base_uri": "https://localhost:8080/"
        },
        "id": "c9f3faa9",
        "outputId": "3b624ddb-f7d2-4e4f-9c57-a786ff895d24"
      },
      "outputs": [
        {
          "output_type": "stream",
          "name": "stdout",
          "text": [
            "<class 'pandas.core.frame.DataFrame'>\n",
            "RangeIndex: 10000 entries, 0 to 9999\n",
            "Data columns (total 2 columns):\n",
            " #   Column        Non-Null Count  Dtype \n",
            "---  ------        --------------  ----- \n",
            " 0   Text          10000 non-null  object\n",
            " 1   IsHatespeech  10000 non-null  int64 \n",
            "dtypes: int64(1), object(1)\n",
            "memory usage: 156.4+ KB\n"
          ]
        }
      ],
      "source": [
        "df.info()"
      ]
    },
    {
      "cell_type": "markdown",
      "id": "c07e10b7",
      "metadata": {
        "id": "c07e10b7"
      },
      "source": [
        "#### First Few Rows of the Dataset:\n",
        "\n",
        "Function: head()\n",
        "\n",
        "Purpose: Displays the first few rows of the dataset."
      ]
    },
    {
      "cell_type": "code",
      "execution_count": 4,
      "id": "4fbf6163",
      "metadata": {
        "colab": {
          "base_uri": "https://localhost:8080/",
          "height": 206
        },
        "id": "4fbf6163",
        "outputId": "e49c9165-0775-4d03-8fb2-f073b9a71f10"
      },
      "outputs": [
        {
          "output_type": "execute_result",
          "data": {
            "text/plain": [
              "                                                Text  IsHatespeech\n",
              "0  frustratingly small please find an image at le...             0\n",
              "1  padding cell padding class mainpagebg solid ve...             0\n",
              "2  from the scenarios you present i see you belie...             0\n",
              "3  i have to go inside you tomorrow i hate myself...             0\n",
              "4  retweet china s bird flu outbreak good signs b...             0"
            ],
            "text/html": [
              "\n",
              "  <div id=\"df-66964864-2014-4b35-b6fa-a282b83bc468\" class=\"colab-df-container\">\n",
              "    <div>\n",
              "<style scoped>\n",
              "    .dataframe tbody tr th:only-of-type {\n",
              "        vertical-align: middle;\n",
              "    }\n",
              "\n",
              "    .dataframe tbody tr th {\n",
              "        vertical-align: top;\n",
              "    }\n",
              "\n",
              "    .dataframe thead th {\n",
              "        text-align: right;\n",
              "    }\n",
              "</style>\n",
              "<table border=\"1\" class=\"dataframe\">\n",
              "  <thead>\n",
              "    <tr style=\"text-align: right;\">\n",
              "      <th></th>\n",
              "      <th>Text</th>\n",
              "      <th>IsHatespeech</th>\n",
              "    </tr>\n",
              "  </thead>\n",
              "  <tbody>\n",
              "    <tr>\n",
              "      <th>0</th>\n",
              "      <td>frustratingly small please find an image at le...</td>\n",
              "      <td>0</td>\n",
              "    </tr>\n",
              "    <tr>\n",
              "      <th>1</th>\n",
              "      <td>padding cell padding class mainpagebg solid ve...</td>\n",
              "      <td>0</td>\n",
              "    </tr>\n",
              "    <tr>\n",
              "      <th>2</th>\n",
              "      <td>from the scenarios you present i see you belie...</td>\n",
              "      <td>0</td>\n",
              "    </tr>\n",
              "    <tr>\n",
              "      <th>3</th>\n",
              "      <td>i have to go inside you tomorrow i hate myself...</td>\n",
              "      <td>0</td>\n",
              "    </tr>\n",
              "    <tr>\n",
              "      <th>4</th>\n",
              "      <td>retweet china s bird flu outbreak good signs b...</td>\n",
              "      <td>0</td>\n",
              "    </tr>\n",
              "  </tbody>\n",
              "</table>\n",
              "</div>\n",
              "    <div class=\"colab-df-buttons\">\n",
              "\n",
              "  <div class=\"colab-df-container\">\n",
              "    <button class=\"colab-df-convert\" onclick=\"convertToInteractive('df-66964864-2014-4b35-b6fa-a282b83bc468')\"\n",
              "            title=\"Convert this dataframe to an interactive table.\"\n",
              "            style=\"display:none;\">\n",
              "\n",
              "  <svg xmlns=\"http://www.w3.org/2000/svg\" height=\"24px\" viewBox=\"0 -960 960 960\">\n",
              "    <path d=\"M120-120v-720h720v720H120Zm60-500h600v-160H180v160Zm220 220h160v-160H400v160Zm0 220h160v-160H400v160ZM180-400h160v-160H180v160Zm440 0h160v-160H620v160ZM180-180h160v-160H180v160Zm440 0h160v-160H620v160Z\"/>\n",
              "  </svg>\n",
              "    </button>\n",
              "\n",
              "  <style>\n",
              "    .colab-df-container {\n",
              "      display:flex;\n",
              "      gap: 12px;\n",
              "    }\n",
              "\n",
              "    .colab-df-convert {\n",
              "      background-color: #E8F0FE;\n",
              "      border: none;\n",
              "      border-radius: 50%;\n",
              "      cursor: pointer;\n",
              "      display: none;\n",
              "      fill: #1967D2;\n",
              "      height: 32px;\n",
              "      padding: 0 0 0 0;\n",
              "      width: 32px;\n",
              "    }\n",
              "\n",
              "    .colab-df-convert:hover {\n",
              "      background-color: #E2EBFA;\n",
              "      box-shadow: 0px 1px 2px rgba(60, 64, 67, 0.3), 0px 1px 3px 1px rgba(60, 64, 67, 0.15);\n",
              "      fill: #174EA6;\n",
              "    }\n",
              "\n",
              "    .colab-df-buttons div {\n",
              "      margin-bottom: 4px;\n",
              "    }\n",
              "\n",
              "    [theme=dark] .colab-df-convert {\n",
              "      background-color: #3B4455;\n",
              "      fill: #D2E3FC;\n",
              "    }\n",
              "\n",
              "    [theme=dark] .colab-df-convert:hover {\n",
              "      background-color: #434B5C;\n",
              "      box-shadow: 0px 1px 3px 1px rgba(0, 0, 0, 0.15);\n",
              "      filter: drop-shadow(0px 1px 2px rgba(0, 0, 0, 0.3));\n",
              "      fill: #FFFFFF;\n",
              "    }\n",
              "  </style>\n",
              "\n",
              "    <script>\n",
              "      const buttonEl =\n",
              "        document.querySelector('#df-66964864-2014-4b35-b6fa-a282b83bc468 button.colab-df-convert');\n",
              "      buttonEl.style.display =\n",
              "        google.colab.kernel.accessAllowed ? 'block' : 'none';\n",
              "\n",
              "      async function convertToInteractive(key) {\n",
              "        const element = document.querySelector('#df-66964864-2014-4b35-b6fa-a282b83bc468');\n",
              "        const dataTable =\n",
              "          await google.colab.kernel.invokeFunction('convertToInteractive',\n",
              "                                                    [key], {});\n",
              "        if (!dataTable) return;\n",
              "\n",
              "        const docLinkHtml = 'Like what you see? Visit the ' +\n",
              "          '<a target=\"_blank\" href=https://colab.research.google.com/notebooks/data_table.ipynb>data table notebook</a>'\n",
              "          + ' to learn more about interactive tables.';\n",
              "        element.innerHTML = '';\n",
              "        dataTable['output_type'] = 'display_data';\n",
              "        await google.colab.output.renderOutput(dataTable, element);\n",
              "        const docLink = document.createElement('div');\n",
              "        docLink.innerHTML = docLinkHtml;\n",
              "        element.appendChild(docLink);\n",
              "      }\n",
              "    </script>\n",
              "  </div>\n",
              "\n",
              "\n",
              "<div id=\"df-a8b874b4-45bd-4d84-93f2-7fc3c63ed496\">\n",
              "  <button class=\"colab-df-quickchart\" onclick=\"quickchart('df-a8b874b4-45bd-4d84-93f2-7fc3c63ed496')\"\n",
              "            title=\"Suggest charts\"\n",
              "            style=\"display:none;\">\n",
              "\n",
              "<svg xmlns=\"http://www.w3.org/2000/svg\" height=\"24px\"viewBox=\"0 0 24 24\"\n",
              "     width=\"24px\">\n",
              "    <g>\n",
              "        <path d=\"M19 3H5c-1.1 0-2 .9-2 2v14c0 1.1.9 2 2 2h14c1.1 0 2-.9 2-2V5c0-1.1-.9-2-2-2zM9 17H7v-7h2v7zm4 0h-2V7h2v10zm4 0h-2v-4h2v4z\"/>\n",
              "    </g>\n",
              "</svg>\n",
              "  </button>\n",
              "\n",
              "<style>\n",
              "  .colab-df-quickchart {\n",
              "      --bg-color: #E8F0FE;\n",
              "      --fill-color: #1967D2;\n",
              "      --hover-bg-color: #E2EBFA;\n",
              "      --hover-fill-color: #174EA6;\n",
              "      --disabled-fill-color: #AAA;\n",
              "      --disabled-bg-color: #DDD;\n",
              "  }\n",
              "\n",
              "  [theme=dark] .colab-df-quickchart {\n",
              "      --bg-color: #3B4455;\n",
              "      --fill-color: #D2E3FC;\n",
              "      --hover-bg-color: #434B5C;\n",
              "      --hover-fill-color: #FFFFFF;\n",
              "      --disabled-bg-color: #3B4455;\n",
              "      --disabled-fill-color: #666;\n",
              "  }\n",
              "\n",
              "  .colab-df-quickchart {\n",
              "    background-color: var(--bg-color);\n",
              "    border: none;\n",
              "    border-radius: 50%;\n",
              "    cursor: pointer;\n",
              "    display: none;\n",
              "    fill: var(--fill-color);\n",
              "    height: 32px;\n",
              "    padding: 0;\n",
              "    width: 32px;\n",
              "  }\n",
              "\n",
              "  .colab-df-quickchart:hover {\n",
              "    background-color: var(--hover-bg-color);\n",
              "    box-shadow: 0 1px 2px rgba(60, 64, 67, 0.3), 0 1px 3px 1px rgba(60, 64, 67, 0.15);\n",
              "    fill: var(--button-hover-fill-color);\n",
              "  }\n",
              "\n",
              "  .colab-df-quickchart-complete:disabled,\n",
              "  .colab-df-quickchart-complete:disabled:hover {\n",
              "    background-color: var(--disabled-bg-color);\n",
              "    fill: var(--disabled-fill-color);\n",
              "    box-shadow: none;\n",
              "  }\n",
              "\n",
              "  .colab-df-spinner {\n",
              "    border: 2px solid var(--fill-color);\n",
              "    border-color: transparent;\n",
              "    border-bottom-color: var(--fill-color);\n",
              "    animation:\n",
              "      spin 1s steps(1) infinite;\n",
              "  }\n",
              "\n",
              "  @keyframes spin {\n",
              "    0% {\n",
              "      border-color: transparent;\n",
              "      border-bottom-color: var(--fill-color);\n",
              "      border-left-color: var(--fill-color);\n",
              "    }\n",
              "    20% {\n",
              "      border-color: transparent;\n",
              "      border-left-color: var(--fill-color);\n",
              "      border-top-color: var(--fill-color);\n",
              "    }\n",
              "    30% {\n",
              "      border-color: transparent;\n",
              "      border-left-color: var(--fill-color);\n",
              "      border-top-color: var(--fill-color);\n",
              "      border-right-color: var(--fill-color);\n",
              "    }\n",
              "    40% {\n",
              "      border-color: transparent;\n",
              "      border-right-color: var(--fill-color);\n",
              "      border-top-color: var(--fill-color);\n",
              "    }\n",
              "    60% {\n",
              "      border-color: transparent;\n",
              "      border-right-color: var(--fill-color);\n",
              "    }\n",
              "    80% {\n",
              "      border-color: transparent;\n",
              "      border-right-color: var(--fill-color);\n",
              "      border-bottom-color: var(--fill-color);\n",
              "    }\n",
              "    90% {\n",
              "      border-color: transparent;\n",
              "      border-bottom-color: var(--fill-color);\n",
              "    }\n",
              "  }\n",
              "</style>\n",
              "\n",
              "  <script>\n",
              "    async function quickchart(key) {\n",
              "      const quickchartButtonEl =\n",
              "        document.querySelector('#' + key + ' button');\n",
              "      quickchartButtonEl.disabled = true;  // To prevent multiple clicks.\n",
              "      quickchartButtonEl.classList.add('colab-df-spinner');\n",
              "      try {\n",
              "        const charts = await google.colab.kernel.invokeFunction(\n",
              "            'suggestCharts', [key], {});\n",
              "      } catch (error) {\n",
              "        console.error('Error during call to suggestCharts:', error);\n",
              "      }\n",
              "      quickchartButtonEl.classList.remove('colab-df-spinner');\n",
              "      quickchartButtonEl.classList.add('colab-df-quickchart-complete');\n",
              "    }\n",
              "    (() => {\n",
              "      let quickchartButtonEl =\n",
              "        document.querySelector('#df-a8b874b4-45bd-4d84-93f2-7fc3c63ed496 button');\n",
              "      quickchartButtonEl.style.display =\n",
              "        google.colab.kernel.accessAllowed ? 'block' : 'none';\n",
              "    })();\n",
              "  </script>\n",
              "</div>\n",
              "\n",
              "    </div>\n",
              "  </div>\n"
            ],
            "application/vnd.google.colaboratory.intrinsic+json": {
              "type": "dataframe",
              "variable_name": "df",
              "summary": "{\n  \"name\": \"df\",\n  \"rows\": 10000,\n  \"fields\": [\n    {\n      \"column\": \"Text\",\n      \"properties\": {\n        \"dtype\": \"string\",\n        \"num_unique_values\": 9993,\n        \"samples\": [\n          \"calm down nikhil whatever all understand how important this is to you just open your mind for a moment and see how ridiculous your arguments are becoming you bring up ravel nope poor comparison how about mateo czech father born in romance his mother half german half polish did not master the polish language either but he is now polish actually more so because no one really cares about him and wants to argue the point do you would calling mateo a czech polish painter be true or would it upset you\",\n          \"scots attacotti and dash hi steven if i have not said so before i am truly sorry to hear about your recent bereavement i would like your opinion on the above short addition i made to prehistoric settlement of great britain and ireland cheers\",\n          \"cambridgebayweather i fucked your mama man lick a dick shithead\"\n        ],\n        \"semantic_type\": \"\",\n        \"description\": \"\"\n      }\n    },\n    {\n      \"column\": \"IsHatespeech\",\n      \"properties\": {\n        \"dtype\": \"number\",\n        \"std\": 0,\n        \"min\": 0,\n        \"max\": 1,\n        \"num_unique_values\": 2,\n        \"samples\": [\n          1,\n          0\n        ],\n        \"semantic_type\": \"\",\n        \"description\": \"\"\n      }\n    }\n  ]\n}"
            }
          },
          "metadata": {},
          "execution_count": 4
        }
      ],
      "source": [
        "df.head()"
      ]
    },
    {
      "cell_type": "markdown",
      "id": "c2960bc7",
      "metadata": {
        "id": "c2960bc7"
      },
      "source": [
        "#### Last Few Rows of the Dataset:\n",
        "\n",
        "Function: tail()\n",
        "    \n",
        "Purpose: Displays the last few rows of the dataset.\n"
      ]
    },
    {
      "cell_type": "code",
      "execution_count": 5,
      "id": "e05dd3dd",
      "metadata": {
        "scrolled": true,
        "colab": {
          "base_uri": "https://localhost:8080/",
          "height": 206
        },
        "id": "e05dd3dd",
        "outputId": "49846f62-71e0-4dff-9b77-bc4d58ea39dd"
      },
      "outputs": [
        {
          "output_type": "execute_result",
          "data": {
            "text/plain": [
              "                                                   Text  IsHatespeech\n",
              "9995  chastity is really the quality with girls the ...             1\n",
              "9996  wow cannot be like these folks riding this sub...             1\n",
              "9997                     now you are such a mean nigger             1\n",
              "9998  but i let them know girls don't run shit round...             1\n",
              "9999  why does gavin williamson i still still work f...             1"
            ],
            "text/html": [
              "\n",
              "  <div id=\"df-59dd35c3-408b-42d6-b8e8-356239c622e0\" class=\"colab-df-container\">\n",
              "    <div>\n",
              "<style scoped>\n",
              "    .dataframe tbody tr th:only-of-type {\n",
              "        vertical-align: middle;\n",
              "    }\n",
              "\n",
              "    .dataframe tbody tr th {\n",
              "        vertical-align: top;\n",
              "    }\n",
              "\n",
              "    .dataframe thead th {\n",
              "        text-align: right;\n",
              "    }\n",
              "</style>\n",
              "<table border=\"1\" class=\"dataframe\">\n",
              "  <thead>\n",
              "    <tr style=\"text-align: right;\">\n",
              "      <th></th>\n",
              "      <th>Text</th>\n",
              "      <th>IsHatespeech</th>\n",
              "    </tr>\n",
              "  </thead>\n",
              "  <tbody>\n",
              "    <tr>\n",
              "      <th>9995</th>\n",
              "      <td>chastity is really the quality with girls the ...</td>\n",
              "      <td>1</td>\n",
              "    </tr>\n",
              "    <tr>\n",
              "      <th>9996</th>\n",
              "      <td>wow cannot be like these folks riding this sub...</td>\n",
              "      <td>1</td>\n",
              "    </tr>\n",
              "    <tr>\n",
              "      <th>9997</th>\n",
              "      <td>now you are such a mean nigger</td>\n",
              "      <td>1</td>\n",
              "    </tr>\n",
              "    <tr>\n",
              "      <th>9998</th>\n",
              "      <td>but i let them know girls don't run shit round...</td>\n",
              "      <td>1</td>\n",
              "    </tr>\n",
              "    <tr>\n",
              "      <th>9999</th>\n",
              "      <td>why does gavin williamson i still still work f...</td>\n",
              "      <td>1</td>\n",
              "    </tr>\n",
              "  </tbody>\n",
              "</table>\n",
              "</div>\n",
              "    <div class=\"colab-df-buttons\">\n",
              "\n",
              "  <div class=\"colab-df-container\">\n",
              "    <button class=\"colab-df-convert\" onclick=\"convertToInteractive('df-59dd35c3-408b-42d6-b8e8-356239c622e0')\"\n",
              "            title=\"Convert this dataframe to an interactive table.\"\n",
              "            style=\"display:none;\">\n",
              "\n",
              "  <svg xmlns=\"http://www.w3.org/2000/svg\" height=\"24px\" viewBox=\"0 -960 960 960\">\n",
              "    <path d=\"M120-120v-720h720v720H120Zm60-500h600v-160H180v160Zm220 220h160v-160H400v160Zm0 220h160v-160H400v160ZM180-400h160v-160H180v160Zm440 0h160v-160H620v160ZM180-180h160v-160H180v160Zm440 0h160v-160H620v160Z\"/>\n",
              "  </svg>\n",
              "    </button>\n",
              "\n",
              "  <style>\n",
              "    .colab-df-container {\n",
              "      display:flex;\n",
              "      gap: 12px;\n",
              "    }\n",
              "\n",
              "    .colab-df-convert {\n",
              "      background-color: #E8F0FE;\n",
              "      border: none;\n",
              "      border-radius: 50%;\n",
              "      cursor: pointer;\n",
              "      display: none;\n",
              "      fill: #1967D2;\n",
              "      height: 32px;\n",
              "      padding: 0 0 0 0;\n",
              "      width: 32px;\n",
              "    }\n",
              "\n",
              "    .colab-df-convert:hover {\n",
              "      background-color: #E2EBFA;\n",
              "      box-shadow: 0px 1px 2px rgba(60, 64, 67, 0.3), 0px 1px 3px 1px rgba(60, 64, 67, 0.15);\n",
              "      fill: #174EA6;\n",
              "    }\n",
              "\n",
              "    .colab-df-buttons div {\n",
              "      margin-bottom: 4px;\n",
              "    }\n",
              "\n",
              "    [theme=dark] .colab-df-convert {\n",
              "      background-color: #3B4455;\n",
              "      fill: #D2E3FC;\n",
              "    }\n",
              "\n",
              "    [theme=dark] .colab-df-convert:hover {\n",
              "      background-color: #434B5C;\n",
              "      box-shadow: 0px 1px 3px 1px rgba(0, 0, 0, 0.15);\n",
              "      filter: drop-shadow(0px 1px 2px rgba(0, 0, 0, 0.3));\n",
              "      fill: #FFFFFF;\n",
              "    }\n",
              "  </style>\n",
              "\n",
              "    <script>\n",
              "      const buttonEl =\n",
              "        document.querySelector('#df-59dd35c3-408b-42d6-b8e8-356239c622e0 button.colab-df-convert');\n",
              "      buttonEl.style.display =\n",
              "        google.colab.kernel.accessAllowed ? 'block' : 'none';\n",
              "\n",
              "      async function convertToInteractive(key) {\n",
              "        const element = document.querySelector('#df-59dd35c3-408b-42d6-b8e8-356239c622e0');\n",
              "        const dataTable =\n",
              "          await google.colab.kernel.invokeFunction('convertToInteractive',\n",
              "                                                    [key], {});\n",
              "        if (!dataTable) return;\n",
              "\n",
              "        const docLinkHtml = 'Like what you see? Visit the ' +\n",
              "          '<a target=\"_blank\" href=https://colab.research.google.com/notebooks/data_table.ipynb>data table notebook</a>'\n",
              "          + ' to learn more about interactive tables.';\n",
              "        element.innerHTML = '';\n",
              "        dataTable['output_type'] = 'display_data';\n",
              "        await google.colab.output.renderOutput(dataTable, element);\n",
              "        const docLink = document.createElement('div');\n",
              "        docLink.innerHTML = docLinkHtml;\n",
              "        element.appendChild(docLink);\n",
              "      }\n",
              "    </script>\n",
              "  </div>\n",
              "\n",
              "\n",
              "<div id=\"df-72dec5a5-b96a-465b-9f1e-1973d9ae114f\">\n",
              "  <button class=\"colab-df-quickchart\" onclick=\"quickchart('df-72dec5a5-b96a-465b-9f1e-1973d9ae114f')\"\n",
              "            title=\"Suggest charts\"\n",
              "            style=\"display:none;\">\n",
              "\n",
              "<svg xmlns=\"http://www.w3.org/2000/svg\" height=\"24px\"viewBox=\"0 0 24 24\"\n",
              "     width=\"24px\">\n",
              "    <g>\n",
              "        <path d=\"M19 3H5c-1.1 0-2 .9-2 2v14c0 1.1.9 2 2 2h14c1.1 0 2-.9 2-2V5c0-1.1-.9-2-2-2zM9 17H7v-7h2v7zm4 0h-2V7h2v10zm4 0h-2v-4h2v4z\"/>\n",
              "    </g>\n",
              "</svg>\n",
              "  </button>\n",
              "\n",
              "<style>\n",
              "  .colab-df-quickchart {\n",
              "      --bg-color: #E8F0FE;\n",
              "      --fill-color: #1967D2;\n",
              "      --hover-bg-color: #E2EBFA;\n",
              "      --hover-fill-color: #174EA6;\n",
              "      --disabled-fill-color: #AAA;\n",
              "      --disabled-bg-color: #DDD;\n",
              "  }\n",
              "\n",
              "  [theme=dark] .colab-df-quickchart {\n",
              "      --bg-color: #3B4455;\n",
              "      --fill-color: #D2E3FC;\n",
              "      --hover-bg-color: #434B5C;\n",
              "      --hover-fill-color: #FFFFFF;\n",
              "      --disabled-bg-color: #3B4455;\n",
              "      --disabled-fill-color: #666;\n",
              "  }\n",
              "\n",
              "  .colab-df-quickchart {\n",
              "    background-color: var(--bg-color);\n",
              "    border: none;\n",
              "    border-radius: 50%;\n",
              "    cursor: pointer;\n",
              "    display: none;\n",
              "    fill: var(--fill-color);\n",
              "    height: 32px;\n",
              "    padding: 0;\n",
              "    width: 32px;\n",
              "  }\n",
              "\n",
              "  .colab-df-quickchart:hover {\n",
              "    background-color: var(--hover-bg-color);\n",
              "    box-shadow: 0 1px 2px rgba(60, 64, 67, 0.3), 0 1px 3px 1px rgba(60, 64, 67, 0.15);\n",
              "    fill: var(--button-hover-fill-color);\n",
              "  }\n",
              "\n",
              "  .colab-df-quickchart-complete:disabled,\n",
              "  .colab-df-quickchart-complete:disabled:hover {\n",
              "    background-color: var(--disabled-bg-color);\n",
              "    fill: var(--disabled-fill-color);\n",
              "    box-shadow: none;\n",
              "  }\n",
              "\n",
              "  .colab-df-spinner {\n",
              "    border: 2px solid var(--fill-color);\n",
              "    border-color: transparent;\n",
              "    border-bottom-color: var(--fill-color);\n",
              "    animation:\n",
              "      spin 1s steps(1) infinite;\n",
              "  }\n",
              "\n",
              "  @keyframes spin {\n",
              "    0% {\n",
              "      border-color: transparent;\n",
              "      border-bottom-color: var(--fill-color);\n",
              "      border-left-color: var(--fill-color);\n",
              "    }\n",
              "    20% {\n",
              "      border-color: transparent;\n",
              "      border-left-color: var(--fill-color);\n",
              "      border-top-color: var(--fill-color);\n",
              "    }\n",
              "    30% {\n",
              "      border-color: transparent;\n",
              "      border-left-color: var(--fill-color);\n",
              "      border-top-color: var(--fill-color);\n",
              "      border-right-color: var(--fill-color);\n",
              "    }\n",
              "    40% {\n",
              "      border-color: transparent;\n",
              "      border-right-color: var(--fill-color);\n",
              "      border-top-color: var(--fill-color);\n",
              "    }\n",
              "    60% {\n",
              "      border-color: transparent;\n",
              "      border-right-color: var(--fill-color);\n",
              "    }\n",
              "    80% {\n",
              "      border-color: transparent;\n",
              "      border-right-color: var(--fill-color);\n",
              "      border-bottom-color: var(--fill-color);\n",
              "    }\n",
              "    90% {\n",
              "      border-color: transparent;\n",
              "      border-bottom-color: var(--fill-color);\n",
              "    }\n",
              "  }\n",
              "</style>\n",
              "\n",
              "  <script>\n",
              "    async function quickchart(key) {\n",
              "      const quickchartButtonEl =\n",
              "        document.querySelector('#' + key + ' button');\n",
              "      quickchartButtonEl.disabled = true;  // To prevent multiple clicks.\n",
              "      quickchartButtonEl.classList.add('colab-df-spinner');\n",
              "      try {\n",
              "        const charts = await google.colab.kernel.invokeFunction(\n",
              "            'suggestCharts', [key], {});\n",
              "      } catch (error) {\n",
              "        console.error('Error during call to suggestCharts:', error);\n",
              "      }\n",
              "      quickchartButtonEl.classList.remove('colab-df-spinner');\n",
              "      quickchartButtonEl.classList.add('colab-df-quickchart-complete');\n",
              "    }\n",
              "    (() => {\n",
              "      let quickchartButtonEl =\n",
              "        document.querySelector('#df-72dec5a5-b96a-465b-9f1e-1973d9ae114f button');\n",
              "      quickchartButtonEl.style.display =\n",
              "        google.colab.kernel.accessAllowed ? 'block' : 'none';\n",
              "    })();\n",
              "  </script>\n",
              "</div>\n",
              "\n",
              "    </div>\n",
              "  </div>\n"
            ],
            "application/vnd.google.colaboratory.intrinsic+json": {
              "type": "dataframe",
              "summary": "{\n  \"name\": \"df\",\n  \"rows\": 5,\n  \"fields\": [\n    {\n      \"column\": \"Text\",\n      \"properties\": {\n        \"dtype\": \"string\",\n        \"num_unique_values\": 5,\n        \"samples\": [\n          \"wow cannot be like these folks riding this subway today should not these women like making sandwiches were pretty loud ihatefemales\",\n          \"why does gavin williamson i still still work for the department of education after completing all that results day bullshit he s feeling so pretty useless anyway i hate the government so much wtf because the government always needs money to suddenly be all white british and then it would be better\",\n          \"now you are such a mean nigger\"\n        ],\n        \"semantic_type\": \"\",\n        \"description\": \"\"\n      }\n    },\n    {\n      \"column\": \"IsHatespeech\",\n      \"properties\": {\n        \"dtype\": \"number\",\n        \"std\": 0,\n        \"min\": 1,\n        \"max\": 1,\n        \"num_unique_values\": 1,\n        \"samples\": [\n          1\n        ],\n        \"semantic_type\": \"\",\n        \"description\": \"\"\n      }\n    }\n  ]\n}"
            }
          },
          "metadata": {},
          "execution_count": 5
        }
      ],
      "source": [
        "df.tail()"
      ]
    },
    {
      "cell_type": "markdown",
      "id": "27ab9d8c",
      "metadata": {
        "id": "27ab9d8c"
      },
      "source": [
        "#### Sum of Missing Values:\n",
        "\n",
        "Function: isnull().sum()\n",
        "\n",
        "Purpose: Computes the sum of missing values for each column"
      ]
    },
    {
      "cell_type": "code",
      "execution_count": 6,
      "id": "c30a78ff",
      "metadata": {
        "colab": {
          "base_uri": "https://localhost:8080/"
        },
        "id": "c30a78ff",
        "outputId": "11595270-0614-4c2f-ae0a-8599dd3fb16f"
      },
      "outputs": [
        {
          "output_type": "stream",
          "name": "stdout",
          "text": [
            "Text            0\n",
            "IsHatespeech    0\n",
            "dtype: int64\n"
          ]
        }
      ],
      "source": [
        "print(df.isnull().sum())"
      ]
    },
    {
      "cell_type": "markdown",
      "id": "66da049d",
      "metadata": {
        "id": "66da049d"
      },
      "source": [
        "#### Columns in the Dataset:\n",
        "\n",
        "Function: .columns\n",
        "    \n",
        "Purpose: Lists all the column names in the dataset."
      ]
    },
    {
      "cell_type": "code",
      "execution_count": 7,
      "id": "118ecd9e",
      "metadata": {
        "colab": {
          "base_uri": "https://localhost:8080/"
        },
        "id": "118ecd9e",
        "outputId": "2a20e41b-59dc-4e82-9892-98a83095a0da"
      },
      "outputs": [
        {
          "output_type": "execute_result",
          "data": {
            "text/plain": [
              "Index(['Text', 'IsHatespeech'], dtype='object')"
            ]
          },
          "metadata": {},
          "execution_count": 7
        }
      ],
      "source": [
        "df.columns\n"
      ]
    },
    {
      "cell_type": "markdown",
      "id": "6f3029a6",
      "metadata": {
        "id": "6f3029a6"
      },
      "source": [
        "#### Checking for Duplicates:\n",
        "\n",
        "Function: duplicated().sum()\n",
        "Purpose: Counts the number of duplicate rows in the dataset.\n",
        "    \n",
        "Function: drop_duplicated()\n",
        "Purpose: Droping those duplicate rows."
      ]
    },
    {
      "cell_type": "code",
      "execution_count": 8,
      "id": "59d443aa",
      "metadata": {
        "colab": {
          "base_uri": "https://localhost:8080/"
        },
        "id": "59d443aa",
        "outputId": "1817fe0d-d371-4550-a658-f036bd37f6b8"
      },
      "outputs": [
        {
          "output_type": "stream",
          "name": "stdout",
          "text": [
            "7\n"
          ]
        }
      ],
      "source": [
        "\n",
        "print(df.duplicated().sum())\n",
        "df = df.drop_duplicates()\n"
      ]
    },
    {
      "cell_type": "markdown",
      "id": "3f79537f",
      "metadata": {
        "id": "3f79537f"
      },
      "source": [
        "***********************************************************************************\n",
        "### Visual representation of the number of text rows having Hate-Speech and the ones Not having Hate-Speech#"
      ]
    },
    {
      "cell_type": "code",
      "execution_count": 9,
      "id": "cd0ab9bd",
      "metadata": {
        "colab": {
          "base_uri": "https://localhost:8080/",
          "height": 633
        },
        "id": "cd0ab9bd",
        "outputId": "e1ead3bb-c014-4d5f-8b18-ed8dcef1216c"
      },
      "outputs": [
        {
          "output_type": "stream",
          "name": "stdout",
          "text": [
            "IsHatespeech\n",
            "1    4998\n",
            "0    4995\n",
            "Name: count, dtype: int64\n"
          ]
        },
        {
          "output_type": "display_data",
          "data": {
            "text/plain": [
              "<Figure size 800x600 with 1 Axes>"
            ],
            "image/png": "[encoded data removed]"
          },
          "metadata": {}
        }
      ],
      "source": [
        "\n",
        "class_counts = df[\"IsHatespeech\"].value_counts()\n",
        "print(class_counts)\n",
        "plt.figure(figsize=(8, 6))\n",
        "class_counts.plot(kind='bar', color=['skyblue', 'salmon'])\n",
        "plt.title('Comparison of Hate Speech vs Non-Hate Speech')\n",
        "plt.xlabel('Is Hate Speech')\n",
        "plt.ylabel('Number of Instances')\n",
        "plt.xticks(ticks=[0, 1], labels=['Non-Hate Speech (0)', 'Hate Speech (1)'], rotation=0)\n",
        "plt.show()"
      ]
    },
    {
      "cell_type": "markdown",
      "id": "75fb910c",
      "metadata": {
        "id": "75fb910c"
      },
      "source": [
        "# DATA CLEANING"
      ]
    },
    {
      "cell_type": "markdown",
      "id": "5f3ad246",
      "metadata": {
        "id": "5f3ad246"
      },
      "source": [
        "#### Lowercasing: Convert all text to lowercase or uppercase to ensure consistency in text comparison. Python’s .lower()"
      ]
    },
    {
      "cell_type": "code",
      "execution_count": 10,
      "id": "ecdf8ec8",
      "metadata": {
        "id": "ecdf8ec8"
      },
      "outputs": [],
      "source": [
        "df['Text'] = df['Text'].str.lower()\n"
      ]
    },
    {
      "cell_type": "markdown",
      "id": "8a702118",
      "metadata": {
        "id": "8a702118"
      },
      "source": [
        "#### Check that the text only contains text in english and remove any other  "
      ]
    },
    {
      "cell_type": "code",
      "execution_count": 13,
      "id": "aaead6fc",
      "metadata": {
        "id": "aaead6fc"
      },
      "outputs": [],
      "source": [
        "from langdetect import detect, DetectorFactory\n",
        "\n",
        "DetectorFactory.seed = 0\n",
        "\n",
        "def is_english(text):\n",
        "    try:\n",
        "        return detect(text) == 'en'\n",
        "    except:\n",
        "        return False\n",
        "\n",
        "df = df[df['Text'].apply(is_english)]"
      ]
    },
    {
      "cell_type": "markdown",
      "id": "25aed8b0",
      "metadata": {
        "id": "25aed8b0"
      },
      "source": [
        "#### Remove URLs, mentions, and hashtags"
      ]
    },
    {
      "cell_type": "code",
      "execution_count": 14,
      "id": "55eda36a",
      "metadata": {
        "id": "55eda36a"
      },
      "outputs": [],
      "source": [
        "def remove_urls_mentions_hashtags(text):\n",
        "    text = re.sub(r'http\\S+|www\\S+|https\\S+', '', text)\n",
        "    text = re.sub(r'\\@\\w+|\\#', '', text)\n",
        "    return text\n",
        "\n",
        "df['Text'] = df['Text'].apply(remove_urls_mentions_hashtags)"
      ]
    },
    {
      "cell_type": "markdown",
      "id": "fe91583b",
      "metadata": {
        "id": "fe91583b"
      },
      "source": [
        "#### Remove special characters and emojis"
      ]
    },
    {
      "cell_type": "code",
      "execution_count": 15,
      "id": "d600f905",
      "metadata": {
        "id": "d600f905"
      },
      "outputs": [],
      "source": [
        "\n",
        "def remove_special_characters(text):\n",
        "    text = re.sub(r'[^a-zA-Z\\s]', '', text)\n",
        "    return text\n",
        "\n",
        "df['Text'] = df['Text'].apply(remove_special_characters)"
      ]
    },
    {
      "cell_type": "markdown",
      "id": "ad98e8f5",
      "metadata": {
        "id": "ad98e8f5"
      },
      "source": [
        "#### Expanding the contractions to better identify the meaning of words"
      ]
    },
    {
      "cell_type": "code",
      "execution_count": 19,
      "id": "6f9bfbd1",
      "metadata": {
        "id": "6f9bfbd1"
      },
      "outputs": [],
      "source": [
        "import contractions\n",
        "\n",
        "def expand_contractions(text):\n",
        "    expanded_words = [contractions.fix(word) for word in text.split()]\n",
        "    expanded_text = ' '.join(expanded_words)\n",
        "    return expanded_text\n",
        "\n",
        "df['Text'] = df['Text'].apply(expand_contractions)"
      ]
    },
    {
      "cell_type": "markdown",
      "id": "f02bf4f4",
      "metadata": {
        "id": "f02bf4f4"
      },
      "source": [
        "#### Removing Punctuation and Numbers from the text"
      ]
    },
    {
      "cell_type": "code",
      "execution_count": 20,
      "id": "16d4e74a",
      "metadata": {
        "id": "16d4e74a"
      },
      "outputs": [],
      "source": [
        "import string\n",
        "def remove_noise(text):\n",
        "    text = text.translate(str.maketrans('', '', string.punctuation))\n",
        "    text = ''.join([i for i in text if not i.isdigit()])\n",
        "    return text\n",
        "\n",
        "df['Text'] = df['Text'].apply(remove_noise)\n",
        "\n"
      ]
    },
    {
      "cell_type": "markdown",
      "id": "f0f44a5f",
      "metadata": {
        "id": "f0f44a5f"
      },
      "source": [
        "#### Tokenization: Tokenize the text data into words or subword units (tokens). This step is often done during data preprocessing but is fundamental to feature engineering."
      ]
    },
    {
      "cell_type": "code",
      "execution_count": 21,
      "id": "c1e3c07c",
      "metadata": {
        "colab": {
          "base_uri": "https://localhost:8080/",
          "height": 241
        },
        "id": "c1e3c07c",
        "outputId": "2e07e317-2675-4a1a-b911-065e2e54743c"
      },
      "outputs": [
        {
          "output_type": "stream",
          "name": "stderr",
          "text": [
            "[nltk_data] Downloading package punkt to /root/nltk_data...\n",
            "[nltk_data]   Unzipping tokenizers/punkt.zip.\n"
          ]
        },
        {
          "output_type": "execute_result",
          "data": {
            "text/plain": [
              "                                                Text  IsHatespeech  \\\n",
              "0  frustratingly small please find an image at le...             0   \n",
              "1  padding cell padding class mainpagebg solid ve...             0   \n",
              "2  from the scenarios you present i see you belie...             0   \n",
              "3  i have to go inside you tomorrow i hate myself...             0   \n",
              "4  retweet china s bird flu outbreak good signs b...             0   \n",
              "\n",
              "                                              tokens  \n",
              "0  [frustratingly, small, please, find, an, image...  \n",
              "1  [padding, cell, padding, class, mainpagebg, so...  \n",
              "2  [from, the, scenarios, you, present, i, see, y...  \n",
              "3  [i, have, to, go, inside, you, tomorrow, i, ha...  \n",
              "4  [retweet, china, s, bird, flu, outbreak, good,...  "
            ],
            "text/html": [
              "\n",
              "  <div id=\"df-c28abf76-21c4-495b-adf6-1d9a2e901040\" class=\"colab-df-container\">\n",
              "    <div>\n",
              "<style scoped>\n",
              "    .dataframe tbody tr th:only-of-type {\n",
              "        vertical-align: middle;\n",
              "    }\n",
              "\n",
              "    .dataframe tbody tr th {\n",
              "        vertical-align: top;\n",
              "    }\n",
              "\n",
              "    .dataframe thead th {\n",
              "        text-align: right;\n",
              "    }\n",
              "</style>\n",
              "<table border=\"1\" class=\"dataframe\">\n",
              "  <thead>\n",
              "    <tr style=\"text-align: right;\">\n",
              "      <th></th>\n",
              "      <th>Text</th>\n",
              "      <th>IsHatespeech</th>\n",
              "      <th>tokens</th>\n",
              "    </tr>\n",
              "  </thead>\n",
              "  <tbody>\n",
              "    <tr>\n",
              "      <th>0</th>\n",
              "      <td>frustratingly small please find an image at le...</td>\n",
              "      <td>0</td>\n",
              "      <td>[frustratingly, small, please, find, an, image...</td>\n",
              "    </tr>\n",
              "    <tr>\n",
              "      <th>1</th>\n",
              "      <td>padding cell padding class mainpagebg solid ve...</td>\n",
              "      <td>0</td>\n",
              "      <td>[padding, cell, padding, class, mainpagebg, so...</td>\n",
              "    </tr>\n",
              "    <tr>\n",
              "      <th>2</th>\n",
              "      <td>from the scenarios you present i see you belie...</td>\n",
              "      <td>0</td>\n",
              "      <td>[from, the, scenarios, you, present, i, see, y...</td>\n",
              "    </tr>\n",
              "    <tr>\n",
              "      <th>3</th>\n",
              "      <td>i have to go inside you tomorrow i hate myself...</td>\n",
              "      <td>0</td>\n",
              "      <td>[i, have, to, go, inside, you, tomorrow, i, ha...</td>\n",
              "    </tr>\n",
              "    <tr>\n",
              "      <th>4</th>\n",
              "      <td>retweet china s bird flu outbreak good signs b...</td>\n",
              "      <td>0</td>\n",
              "      <td>[retweet, china, s, bird, flu, outbreak, good,...</td>\n",
              "    </tr>\n",
              "  </tbody>\n",
              "</table>\n",
              "</div>\n",
              "    <div class=\"colab-df-buttons\">\n",
              "\n",
              "  <div class=\"colab-df-container\">\n",
              "    <button class=\"colab-df-convert\" onclick=\"convertToInteractive('df-c28abf76-21c4-495b-adf6-1d9a2e901040')\"\n",
              "            title=\"Convert this dataframe to an interactive table.\"\n",
              "            style=\"display:none;\">\n",
              "\n",
              "  <svg xmlns=\"http://www.w3.org/2000/svg\" height=\"24px\" viewBox=\"0 -960 960 960\">\n",
              "    <path d=\"M120-120v-720h720v720H120Zm60-500h600v-160H180v160Zm220 220h160v-160H400v160Zm0 220h160v-160H400v160ZM180-400h160v-160H180v160Zm440 0h160v-160H620v160ZM180-180h160v-160H180v160Zm440 0h160v-160H620v160Z\"/>\n",
              "  </svg>\n",
              "    </button>\n",
              "\n",
              "  <style>\n",
              "    .colab-df-container {\n",
              "      display:flex;\n",
              "      gap: 12px;\n",
              "    }\n",
              "\n",
              "    .colab-df-convert {\n",
              "      background-color: #E8F0FE;\n",
              "      border: none;\n",
              "      border-radius: 50%;\n",
              "      cursor: pointer;\n",
              "      display: none;\n",
              "      fill: #1967D2;\n",
              "      height: 32px;\n",
              "      padding: 0 0 0 0;\n",
              "      width: 32px;\n",
              "    }\n",
              "\n",
              "    .colab-df-convert:hover {\n",
              "      background-color: #E2EBFA;\n",
              "      box-shadow: 0px 1px 2px rgba(60, 64, 67, 0.3), 0px 1px 3px 1px rgba(60, 64, 67, 0.15);\n",
              "      fill: #174EA6;\n",
              "    }\n",
              "\n",
              "    .colab-df-buttons div {\n",
              "      margin-bottom: 4px;\n",
              "    }\n",
              "\n",
              "    [theme=dark] .colab-df-convert {\n",
              "      background-color: #3B4455;\n",
              "      fill: #D2E3FC;\n",
              "    }\n",
              "\n",
              "    [theme=dark] .colab-df-convert:hover {\n",
              "      background-color: #434B5C;\n",
              "      box-shadow: 0px 1px 3px 1px rgba(0, 0, 0, 0.15);\n",
              "      filter: drop-shadow(0px 1px 2px rgba(0, 0, 0, 0.3));\n",
              "      fill: #FFFFFF;\n",
              "    }\n",
              "  </style>\n",
              "\n",
              "    <script>\n",
              "      const buttonEl =\n",
              "        document.querySelector('#df-c28abf76-21c4-495b-adf6-1d9a2e901040 button.colab-df-convert');\n",
              "      buttonEl.style.display =\n",
              "        google.colab.kernel.accessAllowed ? 'block' : 'none';\n",
              "\n",
              "      async function convertToInteractive(key) {\n",
              "        const element = document.querySelector('#df-c28abf76-21c4-495b-adf6-1d9a2e901040');\n",
              "        const dataTable =\n",
              "          await google.colab.kernel.invokeFunction('convertToInteractive',\n",
              "                                                    [key], {});\n",
              "        if (!dataTable) return;\n",
              "\n",
              "        const docLinkHtml = 'Like what you see? Visit the ' +\n",
              "          '<a target=\"_blank\" href=https://colab.research.google.com/notebooks/data_table.ipynb>data table notebook</a>'\n",
              "          + ' to learn more about interactive tables.';\n",
              "        element.innerHTML = '';\n",
              "        dataTable['output_type'] = 'display_data';\n",
              "        await google.colab.output.renderOutput(dataTable, element);\n",
              "        const docLink = document.createElement('div');\n",
              "        docLink.innerHTML = docLinkHtml;\n",
              "        element.appendChild(docLink);\n",
              "      }\n",
              "    </script>\n",
              "  </div>\n",
              "\n",
              "\n",
              "<div id=\"df-a349b018-09cd-4f5d-9a97-166940bdca96\">\n",
              "  <button class=\"colab-df-quickchart\" onclick=\"quickchart('df-a349b018-09cd-4f5d-9a97-166940bdca96')\"\n",
              "            title=\"Suggest charts\"\n",
              "            style=\"display:none;\">\n",
              "\n",
              "<svg xmlns=\"http://www.w3.org/2000/svg\" height=\"24px\"viewBox=\"0 0 24 24\"\n",
              "     width=\"24px\">\n",
              "    <g>\n",
              "        <path d=\"M19 3H5c-1.1 0-2 .9-2 2v14c0 1.1.9 2 2 2h14c1.1 0 2-.9 2-2V5c0-1.1-.9-2-2-2zM9 17H7v-7h2v7zm4 0h-2V7h2v10zm4 0h-2v-4h2v4z\"/>\n",
              "    </g>\n",
              "</svg>\n",
              "  </button>\n",
              "\n",
              "<style>\n",
              "  .colab-df-quickchart {\n",
              "      --bg-color: #E8F0FE;\n",
              "      --fill-color: #1967D2;\n",
              "      --hover-bg-color: #E2EBFA;\n",
              "      --hover-fill-color: #174EA6;\n",
              "      --disabled-fill-color: #AAA;\n",
              "      --disabled-bg-color: #DDD;\n",
              "  }\n",
              "\n",
              "  [theme=dark] .colab-df-quickchart {\n",
              "      --bg-color: #3B4455;\n",
              "      --fill-color: #D2E3FC;\n",
              "      --hover-bg-color: #434B5C;\n",
              "      --hover-fill-color: #FFFFFF;\n",
              "      --disabled-bg-color: #3B4455;\n",
              "      --disabled-fill-color: #666;\n",
              "  }\n",
              "\n",
              "  .colab-df-quickchart {\n",
              "    background-color: var(--bg-color);\n",
              "    border: none;\n",
              "    border-radius: 50%;\n",
              "    cursor: pointer;\n",
              "    display: none;\n",
              "    fill: var(--fill-color);\n",
              "    height: 32px;\n",
              "    padding: 0;\n",
              "    width: 32px;\n",
              "  }\n",
              "\n",
              "  .colab-df-quickchart:hover {\n",
              "    background-color: var(--hover-bg-color);\n",
              "    box-shadow: 0 1px 2px rgba(60, 64, 67, 0.3), 0 1px 3px 1px rgba(60, 64, 67, 0.15);\n",
              "    fill: var(--button-hover-fill-color);\n",
              "  }\n",
              "\n",
              "  .colab-df-quickchart-complete:disabled,\n",
              "  .colab-df-quickchart-complete:disabled:hover {\n",
              "    background-color: var(--disabled-bg-color);\n",
              "    fill: var(--disabled-fill-color);\n",
              "    box-shadow: none;\n",
              "  }\n",
              "\n",
              "  .colab-df-spinner {\n",
              "    border: 2px solid var(--fill-color);\n",
              "    border-color: transparent;\n",
              "    border-bottom-color: var(--fill-color);\n",
              "    animation:\n",
              "      spin 1s steps(1) infinite;\n",
              "  }\n",
              "\n",
              "  @keyframes spin {\n",
              "    0% {\n",
              "      border-color: transparent;\n",
              "      border-bottom-color: var(--fill-color);\n",
              "      border-left-color: var(--fill-color);\n",
              "    }\n",
              "    20% {\n",
              "      border-color: transparent;\n",
              "      border-left-color: var(--fill-color);\n",
              "      border-top-color: var(--fill-color);\n",
              "    }\n",
              "    30% {\n",
              "      border-color: transparent;\n",
              "      border-left-color: var(--fill-color);\n",
              "      border-top-color: var(--fill-color);\n",
              "      border-right-color: var(--fill-color);\n",
              "    }\n",
              "    40% {\n",
              "      border-color: transparent;\n",
              "      border-right-color: var(--fill-color);\n",
              "      border-top-color: var(--fill-color);\n",
              "    }\n",
              "    60% {\n",
              "      border-color: transparent;\n",
              "      border-right-color: var(--fill-color);\n",
              "    }\n",
              "    80% {\n",
              "      border-color: transparent;\n",
              "      border-right-color: var(--fill-color);\n",
              "      border-bottom-color: var(--fill-color);\n",
              "    }\n",
              "    90% {\n",
              "      border-color: transparent;\n",
              "      border-bottom-color: var(--fill-color);\n",
              "    }\n",
              "  }\n",
              "</style>\n",
              "\n",
              "  <script>\n",
              "    async function quickchart(key) {\n",
              "      const quickchartButtonEl =\n",
              "        document.querySelector('#' + key + ' button');\n",
              "      quickchartButtonEl.disabled = true;  // To prevent multiple clicks.\n",
              "      quickchartButtonEl.classList.add('colab-df-spinner');\n",
              "      try {\n",
              "        const charts = await google.colab.kernel.invokeFunction(\n",
              "            'suggestCharts', [key], {});\n",
              "      } catch (error) {\n",
              "        console.error('Error during call to suggestCharts:', error);\n",
              "      }\n",
              "      quickchartButtonEl.classList.remove('colab-df-spinner');\n",
              "      quickchartButtonEl.classList.add('colab-df-quickchart-complete');\n",
              "    }\n",
              "    (() => {\n",
              "      let quickchartButtonEl =\n",
              "        document.querySelector('#df-a349b018-09cd-4f5d-9a97-166940bdca96 button');\n",
              "      quickchartButtonEl.style.display =\n",
              "        google.colab.kernel.accessAllowed ? 'block' : 'none';\n",
              "    })();\n",
              "  </script>\n",
              "</div>\n",
              "\n",
              "    </div>\n",
              "  </div>\n"
            ],
            "application/vnd.google.colaboratory.intrinsic+json": {
              "type": "dataframe",
              "variable_name": "df",
              "summary": "{\n  \"name\": \"df\",\n  \"rows\": 9310,\n  \"fields\": [\n    {\n      \"column\": \"Text\",\n      \"properties\": {\n        \"dtype\": \"string\",\n        \"num_unique_values\": 9310,\n        \"samples\": [\n          \"soon tamo shut up seeing menu scotia face with tears coming of sweet joy\",\n          \"jtc prognostic reasoningssoala for expansions\",\n          \"hopefully this might clear up the emo debate i found this on blender so much so that for ross emo has become a dirty word its almost an insult he says we have totally exceeded emo which is so stagnant not to be cocky but those bands are not thinking outside the box\"\n        ],\n        \"semantic_type\": \"\",\n        \"description\": \"\"\n      }\n    },\n    {\n      \"column\": \"IsHatespeech\",\n      \"properties\": {\n        \"dtype\": \"number\",\n        \"std\": 0,\n        \"min\": 0,\n        \"max\": 1,\n        \"num_unique_values\": 2,\n        \"samples\": [\n          1,\n          0\n        ],\n        \"semantic_type\": \"\",\n        \"description\": \"\"\n      }\n    },\n    {\n      \"column\": \"tokens\",\n      \"properties\": {\n        \"dtype\": \"object\",\n        \"semantic_type\": \"\",\n        \"description\": \"\"\n      }\n    }\n  ]\n}"
            }
          },
          "metadata": {},
          "execution_count": 21
        }
      ],
      "source": [
        "from nltk.tokenize import word_tokenize\n",
        "nltk.download('punkt')\n",
        "\n",
        "def tokenize_text(text):\n",
        "    return word_tokenize(text)\n",
        "\n",
        "df['Text'] = df['Text'].astype(str)\n",
        "\n",
        "df['tokens'] = df['Text'].apply(tokenize_text)\n",
        "df.head()"
      ]
    },
    {
      "cell_type": "markdown",
      "id": "fac1b56d",
      "metadata": {
        "id": "fac1b56d"
      },
      "source": [
        "#### Remove Common Stopwords: Depending on your analysis, you may want to remove common stopwords (e.g., “the,” “and,” “is”) to focus on more meaningful content."
      ]
    },
    {
      "cell_type": "code",
      "execution_count": 22,
      "id": "5acd614e",
      "metadata": {
        "colab": {
          "base_uri": "https://localhost:8080/"
        },
        "id": "5acd614e",
        "outputId": "972340e5-0648-49b4-cca0-3d92a45845e9"
      },
      "outputs": [
        {
          "output_type": "stream",
          "name": "stderr",
          "text": [
            "[nltk_data] Downloading package stopwords to /root/nltk_data...\n",
            "[nltk_data]   Unzipping corpora/stopwords.zip.\n"
          ]
        }
      ],
      "source": [
        "from nltk.corpus import stopwords\n",
        "\n",
        "nltk.download('stopwords')\n",
        "stop_words = set(stopwords.words('english'))\n",
        "\n",
        "def remove_stopwords(tokens):\n",
        "    return [word for word in tokens if word not in stop_words]\n",
        "\n",
        "df['tokens'] = df['tokens'].apply(remove_stopwords)\n"
      ]
    },
    {
      "cell_type": "markdown",
      "id": "3fd616ab",
      "metadata": {
        "id": "3fd616ab"
      },
      "source": [
        "#### Lemmatization: Use lemmatization to reduce words to their base or dictionary form (e.g., “better” becomes “good”)"
      ]
    },
    {
      "cell_type": "code",
      "execution_count": 23,
      "id": "85995626",
      "metadata": {
        "colab": {
          "base_uri": "https://localhost:8080/"
        },
        "id": "85995626",
        "outputId": "d236ec2c-e575-4c6b-81cc-51f4b95abacd"
      },
      "outputs": [
        {
          "output_type": "stream",
          "name": "stderr",
          "text": [
            "[nltk_data] Downloading package wordnet to /root/nltk_data...\n"
          ]
        }
      ],
      "source": [
        "from nltk.stem import WordNetLemmatizer\n",
        "\n",
        "nltk.download('wordnet')\n",
        "\n",
        "lemmatizer = WordNetLemmatizer()\n",
        "\n",
        "def lemmatize_tokens(tokens):\n",
        "    return [lemmatizer.lemmatize(word) for word in tokens]\n",
        "\n",
        "df['tokens'] = df['tokens'].apply(lemmatize_tokens)\n"
      ]
    },
    {
      "cell_type": "markdown",
      "id": "d370419e",
      "metadata": {
        "id": "d370419e"
      },
      "source": [
        "#### Reassemble tokens into cleaned text"
      ]
    },
    {
      "cell_type": "code",
      "execution_count": 24,
      "id": "b7f8b39d",
      "metadata": {
        "id": "b7f8b39d"
      },
      "outputs": [],
      "source": [
        "\n",
        "df['clean_text'] = df['tokens'].apply(lambda x: ' '.join(x))\n"
      ]
    },
    {
      "cell_type": "markdown",
      "id": "c68f9ab8",
      "metadata": {
        "id": "c68f9ab8"
      },
      "source": [
        "#### Create a feature for text length"
      ]
    },
    {
      "cell_type": "code",
      "execution_count": 25,
      "id": "55bc3674",
      "metadata": {
        "id": "55bc3674"
      },
      "outputs": [],
      "source": [
        "\n",
        "df['text_length'] = df['clean_text'].apply(len)\n",
        "\n"
      ]
    },
    {
      "cell_type": "code",
      "execution_count": 26,
      "id": "29e0341a",
      "metadata": {
        "colab": {
          "base_uri": "https://localhost:8080/",
          "height": 195
        },
        "id": "29e0341a",
        "outputId": "192e0059-eba1-4d78-d6cc-2769430bc91b"
      },
      "outputs": [
        {
          "output_type": "execute_result",
          "data": {
            "text/plain": [
              "                                                Text  IsHatespeech  \\\n",
              "0  frustratingly small please find an image at le...             0   \n",
              "1  padding cell padding class mainpagebg solid ve...             0   \n",
              "2  from the scenarios you present i see you belie...             0   \n",
              "\n",
              "                                              tokens  \\\n",
              "0  [frustratingly, small, please, find, image, le...   \n",
              "1  [padding, cell, padding, class, mainpagebg, so...   \n",
              "2  [scenario, present, see, believe, people, robo...   \n",
              "\n",
              "                                          clean_text  text_length  \n",
              "0  frustratingly small please find image least pi...          117  \n",
              "1  padding cell padding class mainpagebg solid ve...         1192  \n",
              "2  scenario present see believe people robot abra...          560  "
            ],
            "text/html": [
              "\n",
              "  <div id=\"df-57560795-d885-48c6-9752-d5615edf33f9\" class=\"colab-df-container\">\n",
              "    <div>\n",
              "<style scoped>\n",
              "    .dataframe tbody tr th:only-of-type {\n",
              "        vertical-align: middle;\n",
              "    }\n",
              "\n",
              "    .dataframe tbody tr th {\n",
              "        vertical-align: top;\n",
              "    }\n",
              "\n",
              "    .dataframe thead th {\n",
              "        text-align: right;\n",
              "    }\n",
              "</style>\n",
              "<table border=\"1\" class=\"dataframe\">\n",
              "  <thead>\n",
              "    <tr style=\"text-align: right;\">\n",
              "      <th></th>\n",
              "      <th>Text</th>\n",
              "      <th>IsHatespeech</th>\n",
              "      <th>tokens</th>\n",
              "      <th>clean_text</th>\n",
              "      <th>text_length</th>\n",
              "    </tr>\n",
              "  </thead>\n",
              "  <tbody>\n",
              "    <tr>\n",
              "      <th>0</th>\n",
              "      <td>frustratingly small please find an image at le...</td>\n",
              "      <td>0</td>\n",
              "      <td>[frustratingly, small, please, find, image, le...</td>\n",
              "      <td>frustratingly small please find image least pi...</td>\n",
              "      <td>117</td>\n",
              "    </tr>\n",
              "    <tr>\n",
              "      <th>1</th>\n",
              "      <td>padding cell padding class mainpagebg solid ve...</td>\n",
              "      <td>0</td>\n",
              "      <td>[padding, cell, padding, class, mainpagebg, so...</td>\n",
              "      <td>padding cell padding class mainpagebg solid ve...</td>\n",
              "      <td>1192</td>\n",
              "    </tr>\n",
              "    <tr>\n",
              "      <th>2</th>\n",
              "      <td>from the scenarios you present i see you belie...</td>\n",
              "      <td>0</td>\n",
              "      <td>[scenario, present, see, believe, people, robo...</td>\n",
              "      <td>scenario present see believe people robot abra...</td>\n",
              "      <td>560</td>\n",
              "    </tr>\n",
              "  </tbody>\n",
              "</table>\n",
              "</div>\n",
              "    <div class=\"colab-df-buttons\">\n",
              "\n",
              "  <div class=\"colab-df-container\">\n",
              "    <button class=\"colab-df-convert\" onclick=\"convertToInteractive('df-57560795-d885-48c6-9752-d5615edf33f9')\"\n",
              "            title=\"Convert this dataframe to an interactive table.\"\n",
              "            style=\"display:none;\">\n",
              "\n",
              "  <svg xmlns=\"http://www.w3.org/2000/svg\" height=\"24px\" viewBox=\"0 -960 960 960\">\n",
              "    <path d=\"M120-120v-720h720v720H120Zm60-500h600v-160H180v160Zm220 220h160v-160H400v160Zm0 220h160v-160H400v160ZM180-400h160v-160H180v160Zm440 0h160v-160H620v160ZM180-180h160v-160H180v160Zm440 0h160v-160H620v160Z\"/>\n",
              "  </svg>\n",
              "    </button>\n",
              "\n",
              "  <style>\n",
              "    .colab-df-container {\n",
              "      display:flex;\n",
              "      gap: 12px;\n",
              "    }\n",
              "\n",
              "    .colab-df-convert {\n",
              "      background-color: #E8F0FE;\n",
              "      border: none;\n",
              "      border-radius: 50%;\n",
              "      cursor: pointer;\n",
              "      display: none;\n",
              "      fill: #1967D2;\n",
              "      height: 32px;\n",
              "      padding: 0 0 0 0;\n",
              "      width: 32px;\n",
              "    }\n",
              "\n",
              "    .colab-df-convert:hover {\n",
              "      background-color: #E2EBFA;\n",
              "      box-shadow: 0px 1px 2px rgba(60, 64, 67, 0.3), 0px 1px 3px 1px rgba(60, 64, 67, 0.15);\n",
              "      fill: #174EA6;\n",
              "    }\n",
              "\n",
              "    .colab-df-buttons div {\n",
              "      margin-bottom: 4px;\n",
              "    }\n",
              "\n",
              "    [theme=dark] .colab-df-convert {\n",
              "      background-color: #3B4455;\n",
              "      fill: #D2E3FC;\n",
              "    }\n",
              "\n",
              "    [theme=dark] .colab-df-convert:hover {\n",
              "      background-color: #434B5C;\n",
              "      box-shadow: 0px 1px 3px 1px rgba(0, 0, 0, 0.15);\n",
              "      filter: drop-shadow(0px 1px 2px rgba(0, 0, 0, 0.3));\n",
              "      fill: #FFFFFF;\n",
              "    }\n",
              "  </style>\n",
              "\n",
              "    <script>\n",
              "      const buttonEl =\n",
              "        document.querySelector('#df-57560795-d885-48c6-9752-d5615edf33f9 button.colab-df-convert');\n",
              "      buttonEl.style.display =\n",
              "        google.colab.kernel.accessAllowed ? 'block' : 'none';\n",
              "\n",
              "      async function convertToInteractive(key) {\n",
              "        const element = document.querySelector('#df-57560795-d885-48c6-9752-d5615edf33f9');\n",
              "        const dataTable =\n",
              "          await google.colab.kernel.invokeFunction('convertToInteractive',\n",
              "                                                    [key], {});\n",
              "        if (!dataTable) return;\n",
              "\n",
              "        const docLinkHtml = 'Like what you see? Visit the ' +\n",
              "          '<a target=\"_blank\" href=https://colab.research.google.com/notebooks/data_table.ipynb>data table notebook</a>'\n",
              "          + ' to learn more about interactive tables.';\n",
              "        element.innerHTML = '';\n",
              "        dataTable['output_type'] = 'display_data';\n",
              "        await google.colab.output.renderOutput(dataTable, element);\n",
              "        const docLink = document.createElement('div');\n",
              "        docLink.innerHTML = docLinkHtml;\n",
              "        element.appendChild(docLink);\n",
              "      }\n",
              "    </script>\n",
              "  </div>\n",
              "\n",
              "\n",
              "<div id=\"df-1ecfaca0-ec29-43cd-be2a-b0d0ad1bebd9\">\n",
              "  <button class=\"colab-df-quickchart\" onclick=\"quickchart('df-1ecfaca0-ec29-43cd-be2a-b0d0ad1bebd9')\"\n",
              "            title=\"Suggest charts\"\n",
              "            style=\"display:none;\">\n",
              "\n",
              "<svg xmlns=\"http://www.w3.org/2000/svg\" height=\"24px\"viewBox=\"0 0 24 24\"\n",
              "     width=\"24px\">\n",
              "    <g>\n",
              "        <path d=\"M19 3H5c-1.1 0-2 .9-2 2v14c0 1.1.9 2 2 2h14c1.1 0 2-.9 2-2V5c0-1.1-.9-2-2-2zM9 17H7v-7h2v7zm4 0h-2V7h2v10zm4 0h-2v-4h2v4z\"/>\n",
              "    </g>\n",
              "</svg>\n",
              "  </button>\n",
              "\n",
              "<style>\n",
              "  .colab-df-quickchart {\n",
              "      --bg-color: #E8F0FE;\n",
              "      --fill-color: #1967D2;\n",
              "      --hover-bg-color: #E2EBFA;\n",
              "      --hover-fill-color: #174EA6;\n",
              "      --disabled-fill-color: #AAA;\n",
              "      --disabled-bg-color: #DDD;\n",
              "  }\n",
              "\n",
              "  [theme=dark] .colab-df-quickchart {\n",
              "      --bg-color: #3B4455;\n",
              "      --fill-color: #D2E3FC;\n",
              "      --hover-bg-color: #434B5C;\n",
              "      --hover-fill-color: #FFFFFF;\n",
              "      --disabled-bg-color: #3B4455;\n",
              "      --disabled-fill-color: #666;\n",
              "  }\n",
              "\n",
              "  .colab-df-quickchart {\n",
              "    background-color: var(--bg-color);\n",
              "    border: none;\n",
              "    border-radius: 50%;\n",
              "    cursor: pointer;\n",
              "    display: none;\n",
              "    fill: var(--fill-color);\n",
              "    height: 32px;\n",
              "    padding: 0;\n",
              "    width: 32px;\n",
              "  }\n",
              "\n",
              "  .colab-df-quickchart:hover {\n",
              "    background-color: var(--hover-bg-color);\n",
              "    box-shadow: 0 1px 2px rgba(60, 64, 67, 0.3), 0 1px 3px 1px rgba(60, 64, 67, 0.15);\n",
              "    fill: var(--button-hover-fill-color);\n",
              "  }\n",
              "\n",
              "  .colab-df-quickchart-complete:disabled,\n",
              "  .colab-df-quickchart-complete:disabled:hover {\n",
              "    background-color: var(--disabled-bg-color);\n",
              "    fill: var(--disabled-fill-color);\n",
              "    box-shadow: none;\n",
              "  }\n",
              "\n",
              "  .colab-df-spinner {\n",
              "    border: 2px solid var(--fill-color);\n",
              "    border-color: transparent;\n",
              "    border-bottom-color: var(--fill-color);\n",
              "    animation:\n",
              "      spin 1s steps(1) infinite;\n",
              "  }\n",
              "\n",
              "  @keyframes spin {\n",
              "    0% {\n",
              "      border-color: transparent;\n",
              "      border-bottom-color: var(--fill-color);\n",
              "      border-left-color: var(--fill-color);\n",
              "    }\n",
              "    20% {\n",
              "      border-color: transparent;\n",
              "      border-left-color: var(--fill-color);\n",
              "      border-top-color: var(--fill-color);\n",
              "    }\n",
              "    30% {\n",
              "      border-color: transparent;\n",
              "      border-left-color: var(--fill-color);\n",
              "      border-top-color: var(--fill-color);\n",
              "      border-right-color: var(--fill-color);\n",
              "    }\n",
              "    40% {\n",
              "      border-color: transparent;\n",
              "      border-right-color: var(--fill-color);\n",
              "      border-top-color: var(--fill-color);\n",
              "    }\n",
              "    60% {\n",
              "      border-color: transparent;\n",
              "      border-right-color: var(--fill-color);\n",
              "    }\n",
              "    80% {\n",
              "      border-color: transparent;\n",
              "      border-right-color: var(--fill-color);\n",
              "      border-bottom-color: var(--fill-color);\n",
              "    }\n",
              "    90% {\n",
              "      border-color: transparent;\n",
              "      border-bottom-color: var(--fill-color);\n",
              "    }\n",
              "  }\n",
              "</style>\n",
              "\n",
              "  <script>\n",
              "    async function quickchart(key) {\n",
              "      const quickchartButtonEl =\n",
              "        document.querySelector('#' + key + ' button');\n",
              "      quickchartButtonEl.disabled = true;  // To prevent multiple clicks.\n",
              "      quickchartButtonEl.classList.add('colab-df-spinner');\n",
              "      try {\n",
              "        const charts = await google.colab.kernel.invokeFunction(\n",
              "            'suggestCharts', [key], {});\n",
              "      } catch (error) {\n",
              "        console.error('Error during call to suggestCharts:', error);\n",
              "      }\n",
              "      quickchartButtonEl.classList.remove('colab-df-spinner');\n",
              "      quickchartButtonEl.classList.add('colab-df-quickchart-complete');\n",
              "    }\n",
              "    (() => {\n",
              "      let quickchartButtonEl =\n",
              "        document.querySelector('#df-1ecfaca0-ec29-43cd-be2a-b0d0ad1bebd9 button');\n",
              "      quickchartButtonEl.style.display =\n",
              "        google.colab.kernel.accessAllowed ? 'block' : 'none';\n",
              "    })();\n",
              "  </script>\n",
              "</div>\n",
              "\n",
              "    </div>\n",
              "  </div>\n"
            ],
            "application/vnd.google.colaboratory.intrinsic+json": {
              "type": "dataframe",
              "variable_name": "df",
              "summary": "{\n  \"name\": \"df\",\n  \"rows\": 9310,\n  \"fields\": [\n    {\n      \"column\": \"Text\",\n      \"properties\": {\n        \"dtype\": \"string\",\n        \"num_unique_values\": 9310,\n        \"samples\": [\n          \"soon tamo shut up seeing menu scotia face with tears coming of sweet joy\",\n          \"jtc prognostic reasoningssoala for expansions\",\n          \"hopefully this might clear up the emo debate i found this on blender so much so that for ross emo has become a dirty word its almost an insult he says we have totally exceeded emo which is so stagnant not to be cocky but those bands are not thinking outside the box\"\n        ],\n        \"semantic_type\": \"\",\n        \"description\": \"\"\n      }\n    },\n    {\n      \"column\": \"IsHatespeech\",\n      \"properties\": {\n        \"dtype\": \"number\",\n        \"std\": 0,\n        \"min\": 0,\n        \"max\": 1,\n        \"num_unique_values\": 2,\n        \"samples\": [\n          1,\n          0\n        ],\n        \"semantic_type\": \"\",\n        \"description\": \"\"\n      }\n    },\n    {\n      \"column\": \"tokens\",\n      \"properties\": {\n        \"dtype\": \"object\",\n        \"semantic_type\": \"\",\n        \"description\": \"\"\n      }\n    },\n    {\n      \"column\": \"clean_text\",\n      \"properties\": {\n        \"dtype\": \"string\",\n        \"num_unique_values\": 9302,\n        \"samples\": [\n          \"chuckle chuckle think going sue mean get later get let u see win fight ha love ya xxx\",\n          \"retweet similar woman merely knowing stuff seen intimidating aggressive instead standard compete\"\n        ],\n        \"semantic_type\": \"\",\n        \"description\": \"\"\n      }\n    },\n    {\n      \"column\": \"text_length\",\n      \"properties\": {\n        \"dtype\": \"number\",\n        \"std\": 158,\n        \"min\": 0,\n        \"max\": 1436,\n        \"num_unique_values\": 766,\n        \"samples\": [\n          227,\n          342\n        ],\n        \"semantic_type\": \"\",\n        \"description\": \"\"\n      }\n    }\n  ]\n}"
            }
          },
          "metadata": {},
          "execution_count": 26
        }
      ],
      "source": [
        "df.head(3)"
      ]
    },
    {
      "cell_type": "code",
      "execution_count": 27,
      "id": "41435f18",
      "metadata": {
        "colab": {
          "base_uri": "https://localhost:8080/"
        },
        "id": "41435f18",
        "outputId": "f008700e-eb08-4dc8-daae-39f9db00185d"
      },
      "outputs": [
        {
          "output_type": "stream",
          "name": "stdout",
          "text": [
            "<class 'pandas.core.frame.DataFrame'>\n",
            "Index: 9310 entries, 0 to 9999\n",
            "Data columns (total 5 columns):\n",
            " #   Column        Non-Null Count  Dtype \n",
            "---  ------        --------------  ----- \n",
            " 0   Text          9310 non-null   object\n",
            " 1   IsHatespeech  9310 non-null   int64 \n",
            " 2   tokens        9310 non-null   object\n",
            " 3   clean_text    9310 non-null   object\n",
            " 4   text_length   9310 non-null   int64 \n",
            "dtypes: int64(2), object(3)\n",
            "memory usage: 436.4+ KB\n"
          ]
        }
      ],
      "source": [
        "df.info()"
      ]
    },
    {
      "cell_type": "markdown",
      "id": "f5a3cd8f",
      "metadata": {
        "id": "f5a3cd8f"
      },
      "source": [
        "# EDA"
      ]
    },
    {
      "cell_type": "markdown",
      "id": "4c83e596",
      "metadata": {
        "id": "4c83e596"
      },
      "source": [
        "#### Text Length Analysis\n",
        "Text Length Distribution: Calculate and plot the distribution of text lengths.\n",
        "\n",
        "Compare Text Length: Compare the text length distribution between hate speech and non-hate speech."
      ]
    },
    {
      "cell_type": "code",
      "execution_count": 28,
      "id": "1a87bcc9",
      "metadata": {
        "colab": {
          "base_uri": "https://localhost:8080/"
        },
        "id": "1a87bcc9",
        "outputId": "23df3b83-cc95-46be-a37b-61d6a82fca15"
      },
      "outputs": [
        {
          "output_type": "stream",
          "name": "stdout",
          "text": [
            "(9310, 5)\n",
            "Text            object\n",
            "IsHatespeech     int64\n",
            "tokens          object\n",
            "clean_text      object\n",
            "text_length      int64\n",
            "dtype: object\n"
          ]
        }
      ],
      "source": [
        "\n",
        "print(df.shape)\n",
        "print(df.dtypes)\n"
      ]
    },
    {
      "cell_type": "markdown",
      "id": "40870217",
      "metadata": {
        "id": "40870217"
      },
      "source": [
        "#### Visualizing the Text Length distribution in our dataset"
      ]
    },
    {
      "cell_type": "code",
      "execution_count": 29,
      "id": "72dc5160",
      "metadata": {
        "colab": {
          "base_uri": "https://localhost:8080/",
          "height": 1000
        },
        "id": "72dc5160",
        "outputId": "68797548-287d-456f-faee-0d3ffc10fa43"
      },
      "outputs": [
        {
          "output_type": "display_data",
          "data": {
            "text/plain": [
              "<Figure size 1000x600 with 1 Axes>"
            ],
            "image/png": "[encoded data removed]"
          },
          "metadata": {}
        },
        {
          "output_type": "display_data",
          "data": {
            "text/plain": [
              "<Figure size 1000x600 with 1 Axes>"
            ],
            "image/png": "[encoded data removed]"
          },
          "metadata": {}
        }
      ],
      "source": [
        "df['text_length'] = df['clean_text'].apply(len)\n",
        "\n",
        "plt.figure(figsize=(10, 6))\n",
        "sns.histplot(df['text_length'], bins=100, kde=True)\n",
        "plt.title('Distribution of Text Lengths')\n",
        "plt.xlabel('Text Length')\n",
        "plt.ylabel('Frequency')\n",
        "plt.xlim(0, 1000)\n",
        "plt.show()\n",
        "\n",
        "plt.figure(figsize=(10, 6))\n",
        "sns.histplot(df[df['IsHatespeech'] == 0]['text_length'], bins=50, color='blue', label='Non-Hate Speech', kde=True)\n",
        "sns.histplot(df[df['IsHatespeech'] == 1]['text_length'], bins=50, color='red', label='Hate Speech', kde=True)\n",
        "plt.title('Text Length Distribution by IsHatespeech')\n",
        "plt.xlabel('Text Length')\n",
        "plt.ylabel('Frequency')\n",
        "plt.legend()\n",
        "plt.xlim(0, 1000)\n",
        "plt.show()\n"
      ]
    },
    {
      "cell_type": "code",
      "execution_count": 30,
      "id": "c7c9bfe8",
      "metadata": {
        "colab": {
          "base_uri": "https://localhost:8080/",
          "height": 487
        },
        "id": "c7c9bfe8",
        "outputId": "a4c72170-cf4a-4bcc-f27e-10dc3f1a63a2"
      },
      "outputs": [
        {
          "output_type": "display_data",
          "data": {
            "text/plain": [
              "<Figure size 1000x500 with 1 Axes>"
            ],
            "image/png": "[encoded data removed]"
          },
          "metadata": {}
        }
      ],
      "source": [
        "\n",
        "plt.figure(figsize=(10, 5))\n",
        "df['text_length'].plot(kind='hist', bins=500, color='RED')\n",
        "plt.title('Distribution of Text Lengths')\n",
        "plt.xlim(0, 1000)\n",
        "plt.xlabel('Text Length')\n",
        "plt.ylabel('Frequency')\n",
        "plt.show()\n"
      ]
    },
    {
      "cell_type": "markdown",
      "id": "3b9b06e7",
      "metadata": {
        "id": "3b9b06e7"
      },
      "source": [
        "### Word Frequency Analysis\n",
        "#### Common Words: Identify and plot the most common words in the dataset.\n",
        "#### Common Words by Class: Compare the most common words between hate speech and non-hate speech."
      ]
    },
    {
      "cell_type": "code",
      "execution_count": 31,
      "id": "62847e09",
      "metadata": {
        "colab": {
          "base_uri": "https://localhost:8080/",
          "height": 1000
        },
        "id": "62847e09",
        "outputId": "7d6faf7d-303f-4f69-a99c-89eb2cb03864"
      },
      "outputs": [
        {
          "output_type": "display_data",
          "data": {
            "text/plain": [
              "<Figure size 1000x600 with 1 Axes>"
            ],
            "image/png": "[encoded data removed]"
          },
          "metadata": {}
        },
        {
          "output_type": "display_data",
          "data": {
            "text/plain": [
              "<Figure size 1000x600 with 1 Axes>"
            ],
            "image/png": "[encoded data removed]"
          },
          "metadata": {}
        },
        {
          "output_type": "display_data",
          "data": {
            "text/plain": [
              "<Figure size 1000x600 with 1 Axes>"
            ],
            "image/png": "[encoded data removed]"
          },
          "metadata": {}
        }
      ],
      "source": [
        "\n",
        "from collections import Counter\n",
        "\n",
        "def word_frequencies(tokens):\n",
        "    return Counter([word for token_list in tokens for word in token_list])\n",
        "\n",
        "\n",
        "all_words = word_frequencies(df['tokens'])\n",
        "common_words = all_words.most_common(20)\n",
        "words, counts = zip(*common_words)\n",
        "\n",
        "plt.figure(figsize=(10, 6))\n",
        "sns.barplot(x=list(counts), y=list(words))\n",
        "plt.title('Top 20 Most Common Words')\n",
        "plt.xlabel('Count')\n",
        "plt.ylabel('Words')\n",
        "plt.show()\n",
        "\n",
        "\n",
        "hate_speech_words = word_frequencies(df[df['IsHatespeech'] == 1]['tokens'])\n",
        "non_hate_speech_words = word_frequencies(df[df['IsHatespeech'] == 0]['tokens'])\n",
        "\n",
        "common_hate_speech_words = hate_speech_words.most_common(20)\n",
        "common_non_hate_speech_words = non_hate_speech_words.most_common(20)\n",
        "\n",
        "hate_words, hate_counts = zip(*common_hate_speech_words)\n",
        "non_hate_words, non_hate_counts = zip(*common_non_hate_speech_words)\n",
        "\n",
        "plt.figure(figsize=(10, 6))\n",
        "sns.barplot(x=list(hate_counts), y=list(hate_words))\n",
        "plt.title('Top 20 Most Common Words in Hate Speech')\n",
        "plt.xlabel('Count')\n",
        "plt.ylabel('Words')\n",
        "plt.show()\n",
        "\n",
        "plt.figure(figsize=(10, 6))\n",
        "sns.barplot(x=list(non_hate_counts), y=list(non_hate_words))\n",
        "plt.title('Top 20 Most Common Words in Non-Hate Speech')\n",
        "plt.xlabel('Count')\n",
        "plt.ylabel('Words')\n",
        "plt.show()\n"
      ]
    },
    {
      "cell_type": "markdown",
      "id": "c34b601c",
      "metadata": {
        "id": "c34b601c"
      },
      "source": [
        "### Word Tokenization\n",
        "Word tokenization is the process of splitting a string of text into individual words or tokens. It is a fundamental step in natural language processing (NLP) and text mining tasks. By breaking down text into words, it allows for more detailed and granular analysis."
      ]
    },
    {
      "cell_type": "code",
      "execution_count": 32,
      "id": "eef2f32f",
      "metadata": {
        "colab": {
          "base_uri": "https://localhost:8080/"
        },
        "id": "eef2f32f",
        "outputId": "66136ed4-2b9d-4fb4-aa9c-ea50e55deba9"
      },
      "outputs": [
        {
          "output_type": "execute_result",
          "data": {
            "text/plain": [
              "0    [frustratingly, small, please, find, image, le...\n",
              "1    [padding, cell, padding, class, mainpagebg, so...\n",
              "2    [scenario, present, see, believe, people, robo...\n",
              "3    [go, inside, tomorrow, hate, every, time, feel...\n",
              "4    [retweet, china, bird, flu, outbreak, good, si...\n",
              "Name: tokens, dtype: object"
            ]
          },
          "metadata": {},
          "execution_count": 32
        }
      ],
      "source": [
        "df['tokens'].head()"
      ]
    },
    {
      "cell_type": "markdown",
      "id": "f67cab93",
      "metadata": {
        "id": "f67cab93"
      },
      "source": [
        "#### The Dataset is mostly balanced and no need to perform any imbalanced data handling techniques on it."
      ]
    },
    {
      "cell_type": "code",
      "execution_count": 33,
      "id": "c4e05e14",
      "metadata": {
        "colab": {
          "base_uri": "https://localhost:8080/",
          "height": 472
        },
        "id": "c4e05e14",
        "outputId": "79553e44-360d-4c58-af25-7c92dacc4a5c"
      },
      "outputs": [
        {
          "output_type": "display_data",
          "data": {
            "text/plain": [
              "<Figure size 640x480 with 1 Axes>"
            ],
            "image/png": "[encoded data removed]"
          },
          "metadata": {}
        }
      ],
      "source": [
        "counts = df['IsHatespeech'].value_counts()\n",
        "counts.plot(kind='bar', color=['blue', 'orange'])\n",
        "\n",
        "\n",
        "plt.title('Number of 0 and 1 in IsHatespeech Column')\n",
        "plt.xlabel('IsHatespeech')\n",
        "plt.ylabel('Count')\n",
        "plt.xticks([0, 1], ['0 (Non-Hate Speech)', '1 (Hate Speech)'], rotation=0)\n",
        "\n",
        "plt.show()"
      ]
    },
    {
      "cell_type": "code",
      "execution_count": 34,
      "id": "27473c0c",
      "metadata": {
        "id": "27473c0c"
      },
      "outputs": [],
      "source": [
        "df = df.dropna()"
      ]
    },
    {
      "cell_type": "markdown",
      "id": "e472c39f",
      "metadata": {
        "id": "e472c39f"
      },
      "source": [
        "### Building Deep Learning Model\n",
        "\n",
        "#### TF-IDF Embedding\n",
        "After testing various embedding techninques TF-IDF was the best fit for our dataset and its performance was also good with reaspect to other techniques. A temporary ML model was used to determine this performance of embedding techniques.\n",
        "\n",
        "Here the max_features parameter is choosen as 2500 after trying with various other values this provided the best benchmark score\n",
        "\n",
        "#### Split of Dataset into Train and Test\n",
        "The datset was split into two parts the training dataset which is about 80% dataset and testing dataset which is about 20% both taken at random state.\n",
        "\n",
        "#### Model\n",
        "The model consist of various levels with activation function \"relu' used. The model was trained on the training data and then its performance was evaluated using the test data. The Performance score of the Model is below.\n",
        "The visual representation of the classification report and Confusion matrix is also shown to get a better understanding of the models performance.\n",
        "\n",
        "**Accuracy: 0.776047261009667**\n",
        "\n",
        "**F1 Score: 0.7892875189489641**\n",
        "\n",
        "**Precision: 0.7431018078020932**\n",
        "\n",
        "**Recall: 0.8415948275862069**\n",
        "\n"
      ]
    },
    {
      "cell_type": "code",
      "execution_count": 36,
      "id": "a0ec143f",
      "metadata": {
        "colab": {
          "base_uri": "https://localhost:8080/",
          "height": 1000
        },
        "id": "a0ec143f",
        "outputId": "c2ab9b4d-86e6-4108-f6c3-3c1ab9dd00d3"
      },
      "outputs": [
        {
          "output_type": "stream",
          "name": "stdout",
          "text": [
            "Training Dataset shape : (7448,)\n",
            "Test Dataset shape : (1862,)\n",
            "Epoch 1/40\n",
            "117/117 - 20s - loss: 0.5549 - precision_1: 0.6933 - recall_1: 0.7107 - accuracy: 0.7056 - val_loss: 0.4788 - val_precision_1: 0.7431 - val_recall_1: 0.8416 - val_accuracy: 0.7760 - lr: 0.0010 - 20s/epoch - 174ms/step\n",
            "Epoch 2/40\n",
            "117/117 - 11s - loss: 0.3343 - precision_1: 0.8347 - recall_1: 0.8882 - accuracy: 0.8597 - val_loss: 0.5057 - val_precision_1: 0.7553 - val_recall_1: 0.7651 - val_accuracy: 0.7594 - lr: 0.0010 - 11s/epoch - 97ms/step\n",
            "Epoch 3/40\n",
            "117/117 - 10s - loss: 0.1482 - precision_1: 0.9312 - recall_1: 0.9535 - accuracy: 0.9429 - val_loss: 0.8394 - val_precision_1: 0.7686 - val_recall_1: 0.7231 - val_accuracy: 0.7535 - lr: 0.0010 - 10s/epoch - 85ms/step\n",
            "Epoch 4/40\n",
            "117/117 - 7s - loss: 0.0486 - precision_1: 0.9795 - recall_1: 0.9840 - accuracy: 0.9821 - val_loss: 1.1474 - val_precision_1: 0.7551 - val_recall_1: 0.7511 - val_accuracy: 0.7546 - lr: 0.0010 - 7s/epoch - 58ms/step\n",
            "59/59 [==============================] - 1s 16ms/step\n",
            "Deep Learning Model Performance with TF-IDF:\n",
            "Classification Report:\n",
            "               precision    recall  f1-score   support\n",
            "\n",
            "         0.0       0.82      0.71      0.76       934\n",
            "         1.0       0.74      0.84      0.79       928\n",
            "\n",
            "    accuracy                           0.78      1862\n",
            "   macro avg       0.78      0.78      0.78      1862\n",
            "weighted avg       0.78      0.78      0.78      1862\n",
            "\n",
            "Accuracy: 0.776047261009667\n",
            "AUC-ROC: 0.7762577992320757\n",
            "Confusion Matrix:\n",
            " [[664 270]\n",
            " [147 781]]\n",
            "F1 Score: 0.7892875189489641\n",
            "Precision: 0.7431018078020932\n",
            "Recall: 0.8415948275862069\n"
          ]
        },
        {
          "output_type": "display_data",
          "data": {
            "text/plain": [
              "<Figure size 1000x700 with 2 Axes>"
            ],
            "image/png": "[encoded data removed]"
          },
          "metadata": {}
        }
      ],
      "source": [
        "\n",
        "from sklearn.model_selection import train_test_split\n",
        "from sklearn.feature_extraction.text import TfidfVectorizer\n",
        "from sklearn.metrics import classification_report, accuracy_score, roc_auc_score, confusion_matrix, f1_score, precision_score, recall_score\n",
        "from keras.models import Sequential\n",
        "from keras.layers import Dense, Dropout\n",
        "from keras.optimizers import Adam\n",
        "from keras.callbacks import EarlyStopping, ReduceLROnPlateau, ModelCheckpoint\n",
        "import tensorflow as tf\n",
        "import matplotlib.pyplot as plt\n",
        "import seaborn as sns\n",
        "\n",
        "X = df['clean_text']\n",
        "y = df['IsHatespeech']\n",
        "\n",
        "X_train, X_test, y_train, y_test = train_test_split(X, y, test_size=0.2, random_state=42)\n",
        "\n",
        "print(\"Training Dataset shape :\",X_train.shape)\n",
        "print(\"Test Dataset shape :\",X_test.shape)\n",
        "\n",
        "tfidf_vectorizer = TfidfVectorizer(max_features=2500)\n",
        "X_train_tfidf = tfidf_vectorizer.fit_transform(X_train).toarray()\n",
        "X_test_tfidf = tfidf_vectorizer.transform(X_test).toarray()\n",
        "\n",
        "y_train = y_train.values.astype(np.float32)\n",
        "y_test = y_test.values.astype(np.float32)\n",
        "\n",
        "model = Sequential()\n",
        "model.add(Dense(1024, input_dim=X_train_tfidf.shape[1], activation='relu'))\n",
        "model.add(Dense(512, activation='relu'))\n",
        "model.add(Dense(256, activation='relu'))\n",
        "model.add(Dropout(0.5))\n",
        "model.add(Dense(128, activation='relu'))\n",
        "model.add(Dropout(0.4))\n",
        "model.add(Dense(1, activation='sigmoid'))\n",
        "\n",
        "model.compile(loss='binary_crossentropy', optimizer=Adam(learning_rate=0.001), metrics=[ tf.keras.metrics.Precision(), tf.keras.metrics.Recall(),'accuracy'])\n",
        "\n",
        "early_stopping = EarlyStopping(monitor='val_loss', patience=3, restore_best_weights=True)\n",
        "reduce_lr = ReduceLROnPlateau(monitor='val_loss', factor=0.2, patience=3, min_lr=0.0005)\n",
        "\n",
        "\n",
        "history = model.fit(X_train_tfidf, y_train, epochs=40, batch_size=64, validation_data=(X_test_tfidf, y_test), verbose=2, callbacks=[early_stopping, reduce_lr])\n",
        "\n",
        "y_pred_prob = model.predict(X_test_tfidf)\n",
        "y_pred = (y_pred_prob > 0.5).astype(\"int32\").flatten()\n",
        "\n",
        "print(\"Deep Learning Model Performance with TF-IDF:\")\n",
        "print(\"Classification Report:\\n\", classification_report(y_test, y_pred))\n",
        "print(\"Accuracy:\", accuracy_score(y_test, y_pred))\n",
        "print(\"AUC-ROC:\", roc_auc_score(y_test, y_pred))\n",
        "print(\"Confusion Matrix:\\n\", confusion_matrix(y_test, y_pred))\n",
        "print(\"F1 Score:\", f1_score(y_test, y_pred))\n",
        "print(\"Precision:\", precision_score(y_test, y_pred))\n",
        "print(\"Recall:\", recall_score(y_test, y_pred))\n",
        "\n",
        "conf_matrix = confusion_matrix(y_test, y_pred)\n",
        "plt.figure(figsize=(10, 7))\n",
        "sns.heatmap(conf_matrix, annot=True, fmt=\"d\", cmap='Blues', xticklabels=['Not Hate Speech', 'Hate Speech'], yticklabels=['Not Hate Speech', 'Hate Speech'])\n",
        "plt.xlabel('Predicted')\n",
        "plt.ylabel('Actual')\n",
        "plt.title('Confusion Matrix')\n",
        "plt.show()\n",
        "\n"
      ]
    },
    {
      "cell_type": "markdown",
      "id": "ca9c872d",
      "metadata": {
        "id": "ca9c872d"
      },
      "source": [
        "### Prediction:\n",
        "\n",
        "**Code that takes a sample of 3 or 4 texts as input and prints the prediction beside the\n",
        "text.**"
      ]
    },
    {
      "cell_type": "code",
      "execution_count": 41,
      "id": "8a3eaad4",
      "metadata": {
        "colab": {
          "base_uri": "https://localhost:8080/"
        },
        "id": "8a3eaad4",
        "outputId": "7646a0e2-e691-4d25-a868-a36b617cf19a"
      },
      "outputs": [
        {
          "output_type": "stream",
          "name": "stdout",
          "text": [
            "Text: the sun is bright today\n",
            "1/1 [==============================] - 0s 67ms/step\n",
            "Prediction: Not Hate Speech\n",
            "\n",
            "Text: hahaha gnaa screw ass hell vandal rule\n",
            "1/1 [==============================] - 0s 38ms/step\n",
            "Prediction: Hate Speech\n",
            "\n",
            "Text: driving that bmw is best experience\n",
            "1/1 [==============================] - 0s 42ms/step\n",
            "Prediction: Not Hate Speech\n",
            "\n",
            "Text: boy scout boy dog scout faggot bet anything would like mormon semen white face\n",
            "1/1 [==============================] - 0s 34ms/step\n",
            "Prediction: Hate Speech\n",
            "\n",
            "Text: fuck gone\n",
            "1/1 [==============================] - 0s 47ms/step\n",
            "Prediction: Hate Speech\n",
            "\n",
            "Text: sorry loss u\n",
            "1/1 [==============================] - 0s 41ms/step\n",
            "Prediction: Not Hate Speech\n",
            "\n",
            "Text: oh close english mean cool k would critical satirical newspaper column accurate thanks\n",
            "1/1 [==============================] - 0s 44ms/step\n",
            "Prediction: Not Hate Speech\n",
            "\n",
            "Text: Karim, fuck you\n",
            "1/1 [==============================] - 0s 47ms/step\n",
            "Prediction: Hate Speech\n",
            "\n"
          ]
        }
      ],
      "source": [
        "\n",
        "def preprocess_text(text):\n",
        "    # Includes a function which contained all the datacleaning shown above in the notebook\n",
        "    return text\n",
        "\n",
        "def predict_hate_speech(text):\n",
        "    preprocessed_text = preprocess_text(text)\n",
        "    text_tfidf = tfidf_vectorizer.transform([preprocessed_text]).toarray()\n",
        "    prediction_prob = model.predict(text_tfidf)\n",
        "    text_tfidf\n",
        "    prediction = (prediction_prob > 0.5).astype(\"int32\").flatten()\n",
        "    return \"Hate Speech\" if prediction[0] == 1 else \"Not Hate Speech\"\n",
        "\n",
        "sample_texts = [\n",
        "    \"the sun is bright today\",\n",
        "    \"hahaha gnaa screw ass hell vandal rule\",\n",
        "    \"driving that bmw is best experience\",\n",
        "    \"boy scout boy dog scout faggot bet anything would like mormon semen white face\",\n",
        "    \"fuck gone\",\n",
        "    \"sorry loss u\",\n",
        "    \"oh close english mean cool k would critical satirical newspaper column accurate thanks\",\n",
        "    \"Karim, fuck you\",\n",
        "\n",
        "]\n",
        "\n",
        "for text in sample_texts:\n",
        "    print(f\"Text: {text}\")\n",
        "    print(f\"Prediction: {predict_hate_speech(text)}\")\n",
        "    print()\n"
      ]
    },
    {
      "cell_type": "markdown",
      "source": [
        "All the predictions made by the model were correct. So we can make practical use of this model to determine the hatespeech comments and tag them accordingly."
      ],
      "metadata": {
        "id": "3bHK8d35NgeN"
      },
      "id": "3bHK8d35NgeN"
    },
    {
      "cell_type": "code",
      "execution_count": 42,
      "id": "79c890d2",
      "metadata": {
        "id": "79c890d2"
      },
      "outputs": [],
      "source": [
        "import pickle\n",
        "\n",
        "with open('tfidf_vectorizer.pkl', 'wb') as file:\n",
        "    pickle.dump(tfidf_vectorizer, file)\n",
        "\n",
        "with open('Hatespeech_Model.pkl', 'wb') as file:\n",
        "    pickle.dump(model, file)"
      ]
    }
  ],
  "metadata": {
    "kernelspec": {
      "display_name": "Python 3 (ipykernel)",
      "language": "python",
      "name": "python3"
    },
    "language_info": {
      "codemirror_mode": {
        "name": "ipython",
        "version": 3
      },
      "file_extension": ".py",
      "mimetype": "text/x-python",
      "name": "python",
      "nbconvert_exporter": "python",
      "pygments_lexer": "ipython3",
      "version": "3.9.12"
    },
    "colab": {
      "provenance": [],
      "include_colab_link": true
    }
  },
  "nbformat": 4,
  "nbformat_minor": 5
}