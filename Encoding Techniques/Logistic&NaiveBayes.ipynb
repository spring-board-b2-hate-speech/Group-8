{
 "cells": [
  {
   "cell_type": "markdown",
   "metadata": {},
   "source": [
    "# **Imbalanced Data Analysis with Model Comparison**"
   ]
  },
  {
   "cell_type": "markdown",
   "metadata": {},
   "source": [
    "## **1. Loading the Dataset**"
   ]
  },
  {
   "cell_type": "code",
   "execution_count": 48,
   "metadata": {},
   "outputs": [
    {
     "name": "stdout",
     "output_type": "stream",
     "text": [
      "<class 'pandas.core.frame.DataFrame'>\n",
      "RangeIndex: 14776 entries, 0 to 14775\n",
      "Data columns (total 2 columns):\n",
      " #   Column        Non-Null Count  Dtype \n",
      "---  ------        --------------  ----- \n",
      " 0   Text          14776 non-null  object\n",
      " 1   IsHatespeech  14776 non-null  int64 \n",
      "dtypes: int64(1), object(1)\n",
      "memory usage: 231.0+ KB\n"
     ]
    }
   ],
   "source": [
    "import pandas as pd\n",
    "# Loading the dataset\n",
    "df = pd.read_csv('Preprocessed_cleaned_Final_dataset.csv')\n",
    "\n",
    "# Dropping the unnecessary coloumns\n",
    "df = df.drop(columns=['Content_int', 'tokens', 'clean_text', 'text_length'])\n",
    "\n",
    "df.info()"
   ]
  },
  {
   "cell_type": "code",
   "execution_count": 49,
   "metadata": {},
   "outputs": [
    {
     "data": {
      "text/html": [
       "<div>\n",
       "<style scoped>\n",
       "    .dataframe tbody tr th:only-of-type {\n",
       "        vertical-align: middle;\n",
       "    }\n",
       "\n",
       "    .dataframe tbody tr th {\n",
       "        vertical-align: top;\n",
       "    }\n",
       "\n",
       "    .dataframe thead th {\n",
       "        text-align: right;\n",
       "    }\n",
       "</style>\n",
       "<table border=\"1\" class=\"dataframe\">\n",
       "  <thead>\n",
       "    <tr style=\"text-align: right;\">\n",
       "      <th></th>\n",
       "      <th>Text</th>\n",
       "      <th>IsHatespeech</th>\n",
       "    </tr>\n",
       "  </thead>\n",
       "  <tbody>\n",
       "    <tr>\n",
       "      <th>0</th>\n",
       "      <td>denial of normal the con be asked to comment o...</td>\n",
       "      <td>1</td>\n",
       "    </tr>\n",
       "    <tr>\n",
       "      <th>1</th>\n",
       "      <td>just by being able to tweet this insufferable ...</td>\n",
       "      <td>1</td>\n",
       "    </tr>\n",
       "    <tr>\n",
       "      <th>2</th>\n",
       "      <td>that is retarded you too cute to be single tha...</td>\n",
       "      <td>1</td>\n",
       "    </tr>\n",
       "    <tr>\n",
       "      <th>3</th>\n",
       "      <td>thought of a real badass mongol style declarat...</td>\n",
       "      <td>1</td>\n",
       "    </tr>\n",
       "    <tr>\n",
       "      <th>4</th>\n",
       "      <td>afro american basho</td>\n",
       "      <td>1</td>\n",
       "    </tr>\n",
       "  </tbody>\n",
       "</table>\n",
       "</div>"
      ],
      "text/plain": [
       "                                                Text  IsHatespeech\n",
       "0  denial of normal the con be asked to comment o...             1\n",
       "1  just by being able to tweet this insufferable ...             1\n",
       "2  that is retarded you too cute to be single tha...             1\n",
       "3  thought of a real badass mongol style declarat...             1\n",
       "4                                afro american basho             1"
      ]
     },
     "execution_count": 49,
     "metadata": {},
     "output_type": "execute_result"
    }
   ],
   "source": [
    "df.head()"
   ]
  },
  {
   "cell_type": "markdown",
   "metadata": {},
   "source": [
    "## **2. Converting Text Data to Numerical Data**"
   ]
  },
  {
   "cell_type": "code",
   "execution_count": 50,
   "metadata": {},
   "outputs": [],
   "source": [
    "from sklearn.model_selection import train_test_split\n",
    "from sklearn.feature_extraction.text import TfidfVectorizer\n",
    "\n",
    "# Features and labels\n",
    "X = df['Text']\n",
    "y = df['IsHatespeech']\n",
    "\n",
    "# Training and test sets\n",
    "X_train, X_test, y_train, y_test = train_test_split(X, y, test_size=0.2, random_state=42, stratify=y)\n",
    "\n",
    "# Vectorizing using TF-IDF\n",
    "tfidf = TfidfVectorizer(max_features=10000, ngram_range=(1, 2))\n",
    "X_train_tfidf = tfidf.fit_transform(X_train)\n",
    "X_test_tfidf = tfidf.transform(X_test)\n"
   ]
  },
  {
   "cell_type": "markdown",
   "metadata": {},
   "source": [
    "## **3. Handling Imbalanced Data using SMOTE**"
   ]
  },
  {
   "cell_type": "code",
   "execution_count": 51,
   "metadata": {},
   "outputs": [],
   "source": [
    "from imblearn.over_sampling import SMOTE\n",
    "\n",
    "# Applying SMOTE to handle imbalanced data\n",
    "smote = SMOTE(random_state=42)\n",
    "X_resampled, y_resampled = smote.fit_resample(X_train_tfidf, y_train)\n"
   ]
  },
  {
   "cell_type": "markdown",
   "metadata": {},
   "source": [
    "## **4. Training Logistic Regression and Naive Bayes Models**"
   ]
  },
  {
   "cell_type": "markdown",
   "metadata": {},
   "source": [
    "### **Logistic Regression**\n",
    "\n",
    "#### **Description:** <br>\n",
    "Logistic Regression is a linear classification algorithm that models the probability of a binary outcome based on one or more predictor variables. It uses the logistic function to map predicted values to probabilities, allowing it to classify data points into one of two categories. Despite its name, it is used for classification rather than regression tasks."
   ]
  },
  {
   "cell_type": "markdown",
   "metadata": {},
   "source": [
    "##### **Implementation**"
   ]
  },
  {
   "cell_type": "code",
   "execution_count": 52,
   "metadata": {},
   "outputs": [
    {
     "name": "stdout",
     "output_type": "stream",
     "text": [
      "Logistic Regression Model\n",
      "[[2076  429]\n",
      " [ 224  227]]\n",
      "              precision    recall  f1-score   support\n",
      "\n",
      "           0       0.90      0.83      0.86      2505\n",
      "           1       0.35      0.50      0.41       451\n",
      "\n",
      "    accuracy                           0.78      2956\n",
      "   macro avg       0.62      0.67      0.64      2956\n",
      "weighted avg       0.82      0.78      0.79      2956\n",
      "\n"
     ]
    }
   ],
   "source": [
    "from sklearn.linear_model import LogisticRegression\n",
    "from sklearn.metrics import classification_report, confusion_matrix\n",
    "\n",
    "# Training the Logistic Regression model\n",
    "log_reg_model = LogisticRegression()\n",
    "log_reg_model.fit(X_resampled, y_resampled)\n",
    "\n",
    "# Predictions\n",
    "y_pred_log_reg = log_reg_model.predict(X_test_tfidf)\n",
    "\n",
    "# Evaluating the Logistic Regression model\n",
    "print(\"Logistic Regression Model\")\n",
    "print(confusion_matrix(y_test, y_pred_log_reg))\n",
    "print(classification_report(y_test, y_pred_log_reg))\n"
   ]
  },
  {
   "cell_type": "markdown",
   "metadata": {},
   "source": [
    "### **Naive Bayes**\n",
    "\n",
    "#### **Description:** <br>\n",
    "Naive Bayes is a probabilistic classification algorithm based on Bayes' theorem, which describes the probability of an event based on prior knowledge of conditions related to the event. The **\"naive\"** part of the name comes from the assumption that the features are independent of each other, which simplifies the calculation. There are different variants of Naive Bayes classifiers, such as Multinomial, Bernoulli, and Gaussian, tailored to different types of data."
   ]
  },
  {
   "cell_type": "markdown",
   "metadata": {},
   "source": [
    "##### **Implementation**"
   ]
  },
  {
   "cell_type": "code",
   "execution_count": 53,
   "metadata": {},
   "outputs": [
    {
     "name": "stdout",
     "output_type": "stream",
     "text": [
      "Naive Bayes Model\n",
      "[[2012  493]\n",
      " [ 147  304]]\n",
      "              precision    recall  f1-score   support\n",
      "\n",
      "           0       0.93      0.80      0.86      2505\n",
      "           1       0.38      0.67      0.49       451\n",
      "\n",
      "    accuracy                           0.78      2956\n",
      "   macro avg       0.66      0.74      0.67      2956\n",
      "weighted avg       0.85      0.78      0.81      2956\n",
      "\n"
     ]
    }
   ],
   "source": [
    "from sklearn.naive_bayes import MultinomialNB\n",
    "\n",
    "# Training the Naive Bayes model\n",
    "nb_model = MultinomialNB()\n",
    "nb_model.fit(X_resampled, y_resampled)\n",
    "\n",
    "# Predictions\n",
    "y_pred_nb = nb_model.predict(X_test_tfidf)\n",
    "\n",
    "# Evaluating the Naive Bayes model\n",
    "print(\"Naive Bayes Model\")\n",
    "print(confusion_matrix(y_test, y_pred_nb))\n",
    "print(classification_report(y_test, y_pred_nb))\n"
   ]
  },
  {
   "cell_type": "markdown",
   "metadata": {},
   "source": [
    "## **Representing the metrics using Confusion Matrix**"
   ]
  },
  {
   "cell_type": "code",
   "execution_count": 54,
   "metadata": {},
   "outputs": [],
   "source": [
    "from sklearn.metrics import classification_report, confusion_matrix, accuracy_score, precision_score, recall_score, f1_score, roc_auc_score\n",
    "import matplotlib.pyplot as plt\n",
    "import seaborn as sns"
   ]
  },
  {
   "cell_type": "markdown",
   "metadata": {},
   "source": [
    "### **Plotting the Confusion Matrix**"
   ]
  },
  {
   "cell_type": "code",
   "execution_count": 55,
   "metadata": {},
   "outputs": [],
   "source": [
    "# Plotting confusion matrix\n",
    "def plot_confusion_matrix(cm, title):\n",
    "    plt.figure(figsize=(10, 7))\n",
    "    sns.heatmap(cm, annot=True, fmt='d', cmap='Blues')\n",
    "    plt.title(f\"{title} Confusion Matrix\")\n",
    "    plt.xlabel('Predicted')\n",
    "    plt.ylabel('Actual')\n",
    "    plt.show()"
   ]
  },
  {
   "cell_type": "markdown",
   "metadata": {},
   "source": [
    "### **Confusion Matrix to represent Logistic Regression Model** "
   ]
  },
  {
   "cell_type": "code",
   "execution_count": 56,
   "metadata": {},
   "outputs": [
    {
     "name": "stdout",
     "output_type": "stream",
     "text": [
      "Logistic Regression Model\n",
      "Classification Report:\n",
      "               precision    recall  f1-score   support\n",
      "\n",
      "           0       0.90      0.83      0.86      2505\n",
      "           1       0.35      0.50      0.41       451\n",
      "\n",
      "    accuracy                           0.78      2956\n",
      "   macro avg       0.62      0.67      0.64      2956\n",
      "weighted avg       0.82      0.78      0.79      2956\n",
      "\n",
      "Accuracy: 0.7790933694181326\n",
      "Precision: 0.8176919088662706\n",
      "Recall: 0.7790933694181326\n",
      "F1 Score: 0.7948353187743539\n"
     ]
    },
    {
     "data": {
      "image/png": "[encoded data removed]",
      "text/plain": [
       "<Figure size 1000x700 with 2 Axes>"
      ]
     },
     "metadata": {},
     "output_type": "display_data"
    }
   ],
   "source": [
    "# Training and evaluation of Logistic Regression model\n",
    "log_reg_model = LogisticRegression(max_iter=1000)\n",
    "log_reg_model.fit(X_resampled, y_resampled)\n",
    "y_pred_log_reg = log_reg_model.predict(X_test_tfidf)\n",
    "print(\"Logistic Regression Model\")\n",
    "print(\"Classification Report:\\n\", classification_report(y_test, y_pred_log_reg))\n",
    "print(\"Accuracy:\", accuracy_score(y_test, y_pred_log_reg))\n",
    "print(\"Precision:\", precision_score(y_test, y_pred_log_reg, average='weighted'))\n",
    "print(\"Recall:\", recall_score(y_test, y_pred_log_reg, average='weighted'))\n",
    "print(\"F1 Score:\", f1_score(y_test, y_pred_log_reg, average='weighted'))\n",
    "cm_log_reg = confusion_matrix(y_test, y_pred_log_reg)\n",
    "plot_confusion_matrix(cm_log_reg, \"Logistic Regression\")"
   ]
  },
  {
   "cell_type": "markdown",
   "metadata": {},
   "source": [
    "### **Confusion Matrix to represent Naive Bayes Model** "
   ]
  },
  {
   "cell_type": "code",
   "execution_count": 57,
   "metadata": {},
   "outputs": [
    {
     "name": "stdout",
     "output_type": "stream",
     "text": [
      "Naive Bayes Model\n",
      "Classification Report:\n",
      "               precision    recall  f1-score   support\n",
      "\n",
      "           0       0.93      0.80      0.86      2505\n",
      "           1       0.38      0.67      0.49       451\n",
      "\n",
      "    accuracy                           0.78      2956\n",
      "   macro avg       0.66      0.74      0.67      2956\n",
      "weighted avg       0.85      0.78      0.81      2956\n",
      "\n",
      "Accuracy: 0.7834912043301759\n",
      "Precision: 0.8479252250810452\n",
      "Recall: 0.7834912043301759\n",
      "F1 Score: 0.805473162763739\n"
     ]
    },
    {
     "data": {
      "image/png": "[encoded data removed]",
      "text/plain": [
       "<Figure size 1000x700 with 2 Axes>"
      ]
     },
     "metadata": {},
     "output_type": "display_data"
    }
   ],
   "source": [
    "# Training and evaluation of Naive Bayes model\n",
    "nb_model = MultinomialNB()\n",
    "nb_model.fit(X_resampled, y_resampled)\n",
    "y_pred_nb = nb_model.predict(X_test_tfidf)\n",
    "print(\"Naive Bayes Model\")\n",
    "print(\"Classification Report:\\n\", classification_report(y_test, y_pred_nb))\n",
    "print(\"Accuracy:\", accuracy_score(y_test, y_pred_nb))\n",
    "print(\"Precision:\", precision_score(y_test, y_pred_nb, average='weighted'))\n",
    "print(\"Recall:\", recall_score(y_test, y_pred_nb, average='weighted'))\n",
    "print(\"F1 Score:\", f1_score(y_test, y_pred_nb, average='weighted'))\n",
    "cm_nb = confusion_matrix(y_test, y_pred_nb)\n",
    "plot_confusion_matrix(cm_nb, \"Naive Bayes\")"
   ]
  },
  {
   "cell_type": "markdown",
   "metadata": {},
   "source": [
    "## **Analysis** \n",
    "\n",
    "#### **Naive Bayes Model Performance:**\n",
    "**Accuracy:** 0.783 <br>\n",
    "**Precision (weighted avg):** 0.848 <br>\n",
    "**Recall (weighted avg):** 0.783 <br>\n",
    "**F1 Score (weighted avg):** 0.805 <br>\n",
    "\n",
    "#### **Logistic Regression Model Performance:**\n",
    "**Accuracy:** 0.779 <br>\n",
    "**Precision (weighted avg):** 0.818 <br>\n",
    "**Recall (weighted avg):** 0.779 <br>\n",
    "**F1 Score (weighted avg):** 0.795 <br>"
   ]
  },
  {
   "cell_type": "markdown",
   "metadata": {},
   "source": [
    "## **Conclusion:**\n",
    "Based on these metrics, **Naive Bayes** appears to be the better performing model for our project. It shows higher precision, recall, and F1 score compared to Logistic Regression. Moreover, Naive Bayes is known for its simplicity, fast training speed, and robust performance with text classification tasks, especially when assumptions about feature independence hold reasonably well.\n",
    "\n",
    "##### **Naive Bayes Model Performance:**\n",
    "**Accuracy:** 0.783 <br>\n",
    "**Precision (weighted avg):** 0.848 <br>\n",
    "**Recall (weighted avg):** 0.783 <br>\n",
    "**F1 Score (weighted avg):** 0.805 <br>"
   ]
  }
 ],
 "metadata": {
  "kernelspec": {
   "display_name": "Python 3",
   "language": "python",
   "name": "python3"
  },
  "language_info": {
   "codemirror_mode": {
    "name": "ipython",
    "version": 3
   },
   "file_extension": ".py",
   "mimetype": "text/x-python",
   "name": "python",
   "nbconvert_exporter": "python",
   "pygments_lexer": "ipython3",
   "version": "3.11.4"
  }
 },
 "nbformat": 4,
 "nbformat_minor": 2
}
