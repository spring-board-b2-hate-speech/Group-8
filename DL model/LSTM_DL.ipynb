{
  "nbformat": 4,
  "nbformat_minor": 0,
  "metadata": {
    "colab": {
      "provenance": [],
      "authorship_tag": "ABX9TyPWdlVOYFz9mCS+5rDG5RoU",
      "include_colab_link": true
    },
    "kernelspec": {
      "name": "python3",
      "display_name": "Python 3"
    },
    "language_info": {
      "name": "python"
    }
  },
  "cells": [
    {
      "cell_type": "markdown",
      "metadata": {
        "id": "view-in-github",
        "colab_type": "text"
      },
      "source": [
        "<a href=\"https://colab.research.google.com/github/spring-board-b2-hate-speech/Group-8/blob/s_work/DL%20model/LSTM_DL.ipynb\" target=\"_parent\"><img src=\"https://colab.research.google.com/assets/colab-badge.svg\" alt=\"Open In Colab\"/></a>"
      ]
    },
    {
      "cell_type": "code",
      "execution_count": 1,
      "metadata": {
        "id": "Axv2E90EVmwK"
      },
      "outputs": [],
      "source": [
        "import pandas as pd\n",
        "import numpy as np\n",
        "from sklearn.model_selection import train_test_split, GridSearchCV\n",
        "from sklearn.feature_extraction.text import TfidfVectorizer\n",
        "\n",
        "train_df = pd.read_csv('Train_data.csv')\n",
        "test_df = pd.read_csv('Test_data.csv')\n",
        "\n",
        "X_train = train_df['clean_text']\n",
        "y_train = train_df['IsHatespeech']\n",
        "X_test = test_df['clean_text']\n",
        "y_test = test_df['IsHatespeech']\n",
        "\n",
        "tfidf_vectorizer = TfidfVectorizer(max_features=2500)\n",
        "X_train_tfidf = tfidf_vectorizer.fit_transform(X_train)\n",
        "X_test_tfidf = tfidf_vectorizer.transform(X_test)"
      ]
    },
    {
      "cell_type": "code",
      "source": [
        "from sklearn.model_selection import train_test_split\n",
        "from sklearn.metrics import classification_report, accuracy_score, roc_auc_score, precision_score, recall_score, f1_score\n",
        "from tensorflow.keras.preprocessing.text import Tokenizer\n",
        "from tensorflow.keras.preprocessing.sequence import pad_sequences\n",
        "from tensorflow.keras.models import Sequential\n",
        "from tensorflow.keras.layers import Embedding, LSTM, Dense, SpatialDropout1D\n",
        "from tensorflow.keras.optimizers import Adam\n",
        "import matplotlib.pyplot as plt\n",
        "\n",
        "max_words = 5000\n",
        "max_len = 100\n",
        "tokenizer = Tokenizer(num_words=max_words, lower=True, oov_token='UNK')\n",
        "tokenizer.fit_on_texts(X_train)\n",
        "\n",
        "X_train_seq = tokenizer.texts_to_sequences(X_train)\n",
        "X_test_seq = tokenizer.texts_to_sequences(X_test)\n",
        "\n",
        "X_train_pad = pad_sequences(X_train_seq, maxlen=max_len)\n",
        "X_test_pad = pad_sequences(X_test_seq, maxlen=max_len)\n",
        "\n",
        "model = Sequential()\n",
        "model.add(Embedding(input_dim=max_words, output_dim=100, input_length=max_len))\n",
        "#Do not add the drop out layer after this embedding\n",
        "model.add(SpatialDropout1D(0.2))\n",
        "model.add(LSTM(100, dropout=0.2, recurrent_dropout=0.2))\n",
        "model.add(Dense(1, activation='sigmoid'))\n",
        "#Regularization and optimizers\n",
        "# Early stopping\n",
        "#\n",
        "\n",
        "model.compile(loss='binary_crossentropy', optimizer=Adam(learning_rate=0.005), metrics=['accuracy'])\n",
        "\n",
        "history = model.fit(X_train_pad, y_train, epochs=5, batch_size=64, validation_data=(X_test_pad, y_test), verbose=2)\n",
        "\n",
        "y_pred = (model.predict(X_test_pad) > 0.5).astype(\"int32\")\n",
        "\n",
        "print(\"LSTM Performance:\")\n",
        "print(\"Classification Report:\\n\", classification_report(y_test, y_pred))\n",
        "print(\"Accuracy:\", accuracy_score(y_test, y_pred))\n",
        "print(\"AUC-ROC:\", roc_auc_score(y_test, y_pred))\n",
        "print(\"Confusion Matrix:\\n\", confusion_matrix(y_test, y_pred))\n",
        "print(\"F1 Score:\", f1_score(y_test, y_pred))\n",
        "print(\"Precision:\",precision_score(y_test, y_pred))\n",
        "print(\"Recall:\", recall_score(y_test, y_pred))"
      ],
      "metadata": {
        "colab": {
          "base_uri": "https://localhost:8080/"
        },
        "id": "EM6ds8AbXKW8",
        "outputId": "c034747a-5376-4af9-cf8c-7f68ddc5dbf0"
      },
      "execution_count": 4,
      "outputs": [
        {
          "output_type": "stream",
          "name": "stdout",
          "text": [
            "Epoch 1/5\n",
            "117/117 - 41s - loss: 0.5349 - accuracy: 0.7277 - val_loss: 0.4937 - val_accuracy: 0.7615 - 41s/epoch - 354ms/step\n",
            "Epoch 2/5\n",
            "117/117 - 36s - loss: 0.3593 - accuracy: 0.8433 - val_loss: 0.5476 - val_accuracy: 0.7492 - 36s/epoch - 305ms/step\n",
            "Epoch 3/5\n",
            "117/117 - 42s - loss: 0.2619 - accuracy: 0.8920 - val_loss: 0.6272 - val_accuracy: 0.7315 - 42s/epoch - 358ms/step\n",
            "Epoch 4/5\n",
            "117/117 - 35s - loss: 0.1921 - accuracy: 0.9225 - val_loss: 0.8584 - val_accuracy: 0.7352 - 35s/epoch - 303ms/step\n",
            "Epoch 5/5\n",
            "117/117 - 37s - loss: 0.1319 - accuracy: 0.9473 - val_loss: 0.9407 - val_accuracy: 0.7218 - 37s/epoch - 315ms/step\n",
            "59/59 [==============================] - 2s 32ms/step\n",
            "LSTM Performance:\n",
            "Classification Report:\n",
            "               precision    recall  f1-score   support\n",
            "\n",
            "           0       0.76      0.66      0.71       944\n",
            "           1       0.69      0.78      0.74       918\n",
            "\n",
            "    accuracy                           0.72      1862\n",
            "   macro avg       0.73      0.72      0.72      1862\n",
            "weighted avg       0.73      0.72      0.72      1862\n",
            "\n",
            "Accuracy: 0.7218045112781954\n",
            "AUC-ROC: 0.7226653373213692\n",
            "Confusion Matrix:\n",
            " [[624 320]\n",
            " [198 720]]\n",
            "F1 Score: 0.7354443309499489\n",
            "Precision: 0.6923076923076923\n",
            "Recall: 0.7843137254901961\n"
          ]
        }
      ]
    },
    {
      "cell_type": "code",
      "source": [],
      "metadata": {
        "id": "AprGbwowXM2u"
      },
      "execution_count": null,
      "outputs": []
    }
  ]
}