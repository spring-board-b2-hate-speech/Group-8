{
 "cells": [
  {
   "cell_type": "code",
   "execution_count": 1,
   "metadata": {},
   "outputs": [],
   "source": [
    "import pandas as pd\n",
    "import numpy as np\n",
    "import matplotlib.pyplot as plt\n",
    "import seaborn as sns\n",
    "import nltk\n",
    "import re"
   ]
  },
  {
   "cell_type": "code",
   "execution_count": 28,
   "metadata": {},
   "outputs": [
    {
     "name": "stdout",
     "output_type": "stream",
     "text": [
      "<class 'pandas.core.frame.DataFrame'>\n",
      "RangeIndex: 441906 entries, 0 to 441905\n",
      "Data columns (total 3 columns):\n",
      " #   Column        Non-Null Count   Dtype \n",
      "---  ------        --------------   ----- \n",
      " 0   Text          441906 non-null  object\n",
      " 1   IsHatespeech  441906 non-null  object\n",
      " 2   Content_int   440906 non-null  object\n",
      "dtypes: object(3)\n",
      "memory usage: 10.1+ MB\n"
     ]
    },
    {
     "name": "stderr",
     "output_type": "stream",
     "text": [
      "C:\\Users\\user\\AppData\\Local\\Temp\\ipykernel_3332\\3890116551.py:1: DtypeWarning: Columns (2) have mixed types. Specify dtype option on import or set low_memory=False.\n",
      "  df = pd.read_csv(\"D:\\Infosys - AI\\Dataset Preparation\\Final_Dataset.csv\")\n"
     ]
    }
   ],
   "source": [
    "df = pd.read_csv(\"D:\\Infosys - AI\\Dataset Preparation\\Final_Dataset.csv\")\n",
    "df = df.drop(['Unnamed: 0'], axis=1)\n",
    "df.info()"
   ]
  },
  {
   "cell_type": "code",
   "execution_count": 31,
   "metadata": {},
   "outputs": [
    {
     "name": "stdout",
     "output_type": "stream",
     "text": [
      "<class 'pandas.core.frame.DataFrame'>\n",
      "RangeIndex: 441906 entries, 0 to 441905\n",
      "Data columns (total 2 columns):\n",
      " #   Column        Non-Null Count   Dtype \n",
      "---  ------        --------------   ----- \n",
      " 0   Text          441906 non-null  object\n",
      " 1   IsHatespeech  441906 non-null  object\n",
      "dtypes: object(2)\n",
      "memory usage: 6.7+ MB\n"
     ]
    }
   ],
   "source": [
    "df = df.drop(columns=['Content_int'])\n",
    "df.info()"
   ]
  },
  {
   "cell_type": "code",
   "execution_count": 32,
   "metadata": {},
   "outputs": [
    {
     "name": "stdout",
     "output_type": "stream",
     "text": [
      "Requirement already satisfied: scikit-learn in c:\\users\\user\\appdata\\local\\programs\\python\\python311\\lib\\site-packages (1.5.0)\n",
      "Requirement already satisfied: numpy>=1.19.5 in c:\\users\\user\\appdata\\local\\programs\\python\\python311\\lib\\site-packages (from scikit-learn) (1.26.4)\n",
      "Requirement already satisfied: scipy>=1.6.0 in c:\\users\\user\\appdata\\local\\programs\\python\\python311\\lib\\site-packages (from scikit-learn) (1.13.1)\n",
      "Requirement already satisfied: joblib>=1.2.0 in c:\\users\\user\\appdata\\local\\programs\\python\\python311\\lib\\site-packages (from scikit-learn) (1.3.2)\n",
      "Requirement already satisfied: threadpoolctl>=3.1.0 in c:\\users\\user\\appdata\\local\\programs\\python\\python311\\lib\\site-packages (from scikit-learn) (3.5.0)\n",
      "Note: you may need to restart the kernel to use updated packages.\n"
     ]
    }
   ],
   "source": [
    "pip install scikit-learn"
   ]
  },
  {
   "cell_type": "markdown",
   "metadata": {},
   "source": [
    "# One Hot Encoder \n",
    "\n",
    "One Hot Encoding is a technique used in machine learning to transform categorical data into a format that can be provided to machine learning algorithms to improve predictions. Categorical data, which represents discrete categories or labels, is often non-numeric and cannot be directly used in algorithms that expect numerical input. One Hot Encoding addresses this by converting categorical values into a binary vector representation."
   ]
  },
  {
   "cell_type": "markdown",
   "metadata": {},
   "source": [
    "# ONE HOT ENCODER\n"
   ]
  },
  {
   "attachments": {
    "image.png": {
     "image/png": "[encoded data removed]"
    }
   },
   "cell_type": "markdown",
   "metadata": {},
   "source": [
    "One Hot Encoding is a technique used in machine learning to transform categorical data into a format that can be provided to machine learning algorithms to improve predictions. Categorical data, which represents discrete categories or labels, is often non-numeric and cannot be directly used in algorithms that expect numerical input. One Hot Encoding addresses this by converting categorical values into a binary vector representation.\n",
    "\n",
    "One Hot Encoding involves creating a new binary column for each unique category in the original categorical column. Each binary column represents a unique category and contains 1 if the original category is present in that observation, and 0 otherwise. This process effectively transforms categorical variables into a format suitable for machine learning algorithms.\n",
    "\n",
    "For example, consider a categorical column \"Color\" with three categories: Red, Green, and Blue. One Hot Encoding transforms this into three binary columns, one for each color:\n",
    "\n",
    "![image.png](attachment:image.png)"
   ]
  },
  {
   "cell_type": "code",
   "execution_count": 33,
   "metadata": {},
   "outputs": [
    {
     "name": "stdout",
     "output_type": "stream",
     "text": [
      "                                                Text IsHatespeech\n",
      "0  denial of normal the con be asked to comment o...            1\n",
      "1  just by being able to tweet this insufferable ...            1\n",
      "<class 'pandas.core.frame.DataFrame'>\n",
      "RangeIndex: 441906 entries, 0 to 441905\n",
      "Data columns (total 2 columns):\n",
      " #   Column        Non-Null Count   Dtype \n",
      "---  ------        --------------   ----- \n",
      " 0   Text          441906 non-null  object\n",
      " 1   IsHatespeech  441906 non-null  object\n",
      "dtypes: object(2)\n",
      "memory usage: 6.7+ MB\n"
     ]
    },
    {
     "data": {
      "text/plain": [
       "array([[0., 1., 0.],\n",
       "       [0., 1., 0.],\n",
       "       [0., 1., 0.],\n",
       "       ...,\n",
       "       [1., 0., 0.],\n",
       "       [1., 0., 0.],\n",
       "       [1., 0., 0.]])"
      ]
     },
     "execution_count": 33,
     "metadata": {},
     "output_type": "execute_result"
    }
   ],
   "source": [
    "import pandas as pd\n",
    "from sklearn.preprocessing import OneHotEncoder\n",
    "\n",
    "#df = pd.read_csv('D:\\Infosys - AI\\EDA\\Preprocessed_cleaned_Final_dataset.csv')\n",
    "\n",
    "print(df.head(2))\n",
    "df.info()\n",
    "\n",
    "# Converting 'IsHatespeech' column to categorical to avoid Bias \n",
    "df['IsHatespeech'] = df['IsHatespeech'].astype(str)\n",
    "\n",
    "encoder = OneHotEncoder()\n",
    "\n",
    "encoded_data = encoder.fit_transform(df[['IsHatespeech']])\n",
    "\n",
    "# Converting the encoded data into an array\n",
    "encoded_array = encoded_data.toarray()\n",
    "\n",
    "# Print the encoded data (this will show the transformed categorical data)\n",
    "encoded_array"
   ]
  },
  {
   "cell_type": "markdown",
   "metadata": {},
   "source": [
    "# LABEL ENCODER"
   ]
  },
  {
   "attachments": {
    "image.png": {
     "image/png": "[encoded data removed]"
    }
   },
   "cell_type": "markdown",
   "metadata": {},
   "source": [
    "Label Encoding is a preprocessing technique used in machine learning to convert categorical data into numerical form. Unlike One Hot Encoding, which creates binary columns for each category, Label Encoding assigns a unique integer to each category. This method is particularly useful when dealing with ordinal categorical data, where the order of categories is important.\n",
    "\n",
    "What is Label Encoding?\n",
    "Label Encoding involves mapping each category in a categorical feature to a unique integer. This transformation helps machine learning algorithms that require numerical input to process categorical data effectively.\n",
    "\n",
    "For example, consider a categorical column \"Color\" with three categories: Red, Green, and Blue. Label Encoding transforms this into:\n",
    "\n",
    "![image.png](attachment:image.png)"
   ]
  },
  {
   "cell_type": "code",
   "execution_count": 34,
   "metadata": {},
   "outputs": [
    {
     "name": "stdout",
     "output_type": "stream",
     "text": [
      "[1 1 1 ... 0 0 0]\n"
     ]
    },
    {
     "name": "stderr",
     "output_type": "stream",
     "text": [
      "c:\\Users\\user\\AppData\\Local\\Programs\\Python\\Python311\\Lib\\site-packages\\sklearn\\preprocessing\\_label.py:114: DataConversionWarning: A column-vector y was passed when a 1d array was expected. Please change the shape of y to (n_samples, ), for example using ravel().\n",
      "  y = column_or_1d(y, warn=True)\n"
     ]
    }
   ],
   "source": [
    "from sklearn.preprocessing import LabelEncoder\n",
    "\n",
    "\n",
    "label_encoder = LabelEncoder()\n",
    "\n",
    "# Fit the encoder on the categorical features\n",
    "encoded_data = label_encoder.fit_transform(df[['IsHatespeech']])\n",
    "\n",
    "print(encoded_data)"
   ]
  },
  {
   "cell_type": "markdown",
   "metadata": {},
   "source": [
    "## Observations\n",
    "\n",
    "• Handles Ordinal Data: Label Encoding is suitable for ordinal data, where the order of categories is meaningful. <br>\n",
    "• Simplicity: It is simple to implement and requires less memory compared to One Hot Encoding.<br>\n",
    "• Model Compatibility: Many machine learning algorithms can directly work with label-encoded data."
   ]
  },
  {
   "cell_type": "code",
   "execution_count": 69,
   "metadata": {},
   "outputs": [
    {
     "name": "stdout",
     "output_type": "stream",
     "text": [
      "  (0, 0)\t1.0\n"
     ]
    }
   ],
   "source": [
    "from sklearn.feature_extraction.text import TfidfVectorizer\n",
    "tfidf_vectorizer = TfidfVectorizer()\n",
    "text_features = tfidf_vectorizer.fit_transform(['Text'])\n",
    "\n",
    "print(text_features)"
   ]
  }
 ],
 "metadata": {
  "kernelspec": {
   "display_name": "Python 3",
   "language": "python",
   "name": "python3"
  },
  "language_info": {
   "codemirror_mode": {
    "name": "ipython",
    "version": 3
   },
   "file_extension": ".py",
   "mimetype": "text/x-python",
   "name": "python",
   "nbconvert_exporter": "python",
   "pygments_lexer": "ipython3",
   "version": "3.11.4"
  }
 },
 "nbformat": 4,
 "nbformat_minor": 2
}
