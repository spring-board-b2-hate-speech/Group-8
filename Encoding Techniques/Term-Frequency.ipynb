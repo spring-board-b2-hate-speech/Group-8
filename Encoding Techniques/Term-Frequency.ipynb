{
 "cells": [
  {
   "cell_type": "code",
   "execution_count": 5,
   "metadata": {},
   "outputs": [
    {
     "name": "stdout",
     "output_type": "stream",
     "text": [
      "Term Frequency Vector:\n",
      "       aaaaa  aaliyah  aangirfan  aaron  aaryan  ab  abandon  abandoned  \\\n",
      "0          0        0          0      0       0   0        0          0   \n",
      "1          0        0          0      0       0   0        0          0   \n",
      "2          0        0          0      0       0   0        0          0   \n",
      "3          0        0          0      0       0   0        0          0   \n",
      "4          0        0          0      0       0   0        0          0   \n",
      "...      ...      ...        ...    ...     ...  ..      ...        ...   \n",
      "14771      0        0          0      0       0   0        0          0   \n",
      "14772      0        0          0      0       0   0        0          0   \n",
      "14773      0        0          0      0       0   0        0          0   \n",
      "14774      0        0          0      0       0   0        0          0   \n",
      "14775      0        0          0      0       0   0        0          0   \n",
      "\n",
      "       abbey  abbot  ...  zones  zoo  zorro  zpridez  ztv  zulu  zurich  \\\n",
      "0          0      0  ...      0    0      0        0    0     0       0   \n",
      "1          0      0  ...      0    0      0        0    0     0       0   \n",
      "2          0      0  ...      0    0      0        0    0     0       0   \n",
      "3          0      0  ...      0    0      0        0    0     0       0   \n",
      "4          0      0  ...      0    0      0        0    0     0       0   \n",
      "...      ...    ...  ...    ...  ...    ...      ...  ...   ...     ...   \n",
      "14771      0      0  ...      0    0      0        0    0     0       0   \n",
      "14772      0      0  ...      0    0      0        0    0     0       0   \n",
      "14773      0      0  ...      0    0      0        0    0     0       0   \n",
      "14774      0      0  ...      0    0      0        0    0     0       0   \n",
      "14775      0      0  ...      0    0      0        0    0     0       0   \n",
      "\n",
      "       zvjezdan  zyklon  zzsjrfozlfy  \n",
      "0             0       0            0  \n",
      "1             0       0            0  \n",
      "2             0       0            0  \n",
      "3             0       0            0  \n",
      "4             0       0            0  \n",
      "...         ...     ...          ...  \n",
      "14771         0       0            0  \n",
      "14772         0       0            0  \n",
      "14773         0       0            0  \n",
      "14774         0       0            0  \n",
      "14775         0       0            0  \n",
      "\n",
      "[14776 rows x 16233 columns]\n"
     ]
    }
   ],
   "source": [
    "import pandas as pd\n",
    "from sklearn.feature_extraction.text import CountVectorizer\n",
    "\n",
    "df = pd.read_csv('Preprocessed_cleaned_Final_dataset.csv')\n",
    "\n",
    "vectorizer = CountVectorizer()\n",
    "\n",
    "tf_vector = vectorizer.fit_transform(df['Text'])\n",
    "\n",
    "# feature names (terms)\n",
    "feature_names = vectorizer.get_feature_names_out()\n",
    "\n",
    "# Creating Sparse DataFrame for TF vector\n",
    "df_tf = pd.DataFrame.sparse.from_spmatrix(tf_vector, columns=feature_names)\n",
    "\n",
    "print(\"Term Frequency Vector:\")\n",
    "print(df_tf)\n"
   ]
  },
  {
   "cell_type": "markdown",
   "metadata": {},
   "source": [
    "# TERM FREQUENCY \n",
    "\n",
    "A Term Frequency (TF) encoder is a tool used to transform text documents into numerical representations by calculating the frequency of each term within the documents. This is useful in text mining and natural language processing (NLP) tasks.\n"
   ]
  }
 ],
 "metadata": {
  "kernelspec": {
   "display_name": "Python 3",
   "language": "python",
   "name": "python3"
  },
  "language_info": {
   "codemirror_mode": {
    "name": "ipython",
    "version": 3
   },
   "file_extension": ".py",
   "mimetype": "text/x-python",
   "name": "python",
   "nbconvert_exporter": "python",
   "pygments_lexer": "ipython3",
   "version": "3.11.4"
  }
 },
 "nbformat": 4,
 "nbformat_minor": 2
}
