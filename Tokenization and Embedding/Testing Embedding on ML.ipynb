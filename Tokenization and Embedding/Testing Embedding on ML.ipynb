{
 "cells": [
  {
   "cell_type": "code",
   "execution_count": 1,
   "id": "ad477712",
   "metadata": {},
   "outputs": [],
   "source": [
    "import pandas as pd"
   ]
  },
  {
   "cell_type": "code",
   "execution_count": 2,
   "id": "9901609b",
   "metadata": {},
   "outputs": [
    {
     "data": {
      "text/plain": [
       "'C:\\\\Users\\\\shrey\\\\Downloads'"
      ]
     },
     "execution_count": 2,
     "metadata": {},
     "output_type": "execute_result"
    }
   ],
   "source": [
    "pwd"
   ]
  },
  {
   "cell_type": "code",
   "execution_count": 3,
   "id": "8965dad5",
   "metadata": {},
   "outputs": [],
   "source": [
    "df = pd.read_csv(\"Preprocessed_cleaned_Final_dataset.csv\")"
   ]
  },
  {
   "cell_type": "code",
   "execution_count": 4,
   "id": "9ca9bdc2",
   "metadata": {},
   "outputs": [],
   "source": [
    "df1 = df.sample(1000)"
   ]
  },
  {
   "cell_type": "code",
   "execution_count": 13,
   "id": "fa9b85e8",
   "metadata": {},
   "outputs": [
    {
     "name": "stdout",
     "output_type": "stream",
     "text": [
      "<class 'pandas.core.frame.DataFrame'>\n",
      "Int64Index: 1000 entries, 337 to 1209\n",
      "Data columns (total 5 columns):\n",
      " #   Column        Non-Null Count  Dtype \n",
      "---  ------        --------------  ----- \n",
      " 0   Text          1000 non-null   object\n",
      " 1   IsHatespeech  1000 non-null   int64 \n",
      " 2   tokens        1000 non-null   object\n",
      " 3   clean_text    1000 non-null   object\n",
      " 4   text_length   1000 non-null   int64 \n",
      "dtypes: int64(2), object(3)\n",
      "memory usage: 79.2+ KB\n"
     ]
    }
   ],
   "source": [
    "df1.info()"
   ]
  },
  {
   "cell_type": "markdown",
   "id": "b4c4ee33",
   "metadata": {},
   "source": [
    "#### LogisticRegression"
   ]
  },
  {
   "cell_type": "code",
   "execution_count": 16,
   "id": "11e64add",
   "metadata": {},
   "outputs": [
    {
     "ename": "ValueError",
     "evalue": "too many values to unpack (expected 2)",
     "output_type": "error",
     "traceback": [
      "\u001b[1;31m---------------------------------------------------------------------------\u001b[0m",
      "\u001b[1;31mValueError\u001b[0m                                Traceback (most recent call last)",
      "Input \u001b[1;32mIn [16]\u001b[0m, in \u001b[0;36m<cell line: 12>\u001b[1;34m()\u001b[0m\n\u001b[0;32m      9\u001b[0m \u001b[38;5;28;01mimport\u001b[39;00m \u001b[38;5;21;01mseaborn\u001b[39;00m \u001b[38;5;28;01mas\u001b[39;00m \u001b[38;5;21;01msns\u001b[39;00m\n\u001b[0;32m     11\u001b[0m df \u001b[38;5;241m=\u001b[39m df1 \n\u001b[1;32m---> 12\u001b[0m train, y_test \u001b[38;5;241m=\u001b[39m train_test_split(df[\u001b[38;5;124m'\u001b[39m\u001b[38;5;124mclean_text\u001b[39m\u001b[38;5;124m'\u001b[39m], df[\u001b[38;5;124m'\u001b[39m\u001b[38;5;124mIsHatespeech\u001b[39m\u001b[38;5;124m'\u001b[39m], test_size\u001b[38;5;241m=\u001b[39m\u001b[38;5;241m0.2\u001b[39m, random_state\u001b[38;5;241m=\u001b[39m\u001b[38;5;241m42\u001b[39m)\n\u001b[0;32m     14\u001b[0m \u001b[38;5;28;01mdef\u001b[39;00m \u001b[38;5;21mtrain_and_evaluate\u001b[39m(X_train, X_test, y_train, y_test, encoder_name):\n\u001b[0;32m     15\u001b[0m     model \u001b[38;5;241m=\u001b[39m LogisticRegression(max_iter\u001b[38;5;241m=\u001b[39m\u001b[38;5;241m1000\u001b[39m)\n",
      "\u001b[1;31mValueError\u001b[0m: too many values to unpack (expected 2)"
     ]
    }
   ],
   "source": [
    "import pandas as pd\n",
    "import numpy as np\n",
    "from sklearn.model_selection import train_test_split\n",
    "from sklearn.linear_model import LogisticRegression\n",
    "from sklearn.metrics import classification_report, accuracy_score, precision_score, recall_score, f1_score, confusion_matrix, roc_auc_score\n",
    "from sklearn.feature_extraction.text import TfidfVectorizer, CountVectorizer\n",
    "from gensim.models import Word2Vec\n",
    "import matplotlib.pyplot as plt\n",
    "import seaborn as sns\n",
    "\n",
    "df = df1 \n",
    "train, y_test = train_test_split(df['clean_text'], df['IsHatespeech'], test_size=0.2, random_state=42)\n",
    "\n",
    "def train_and_evaluate(X_train, X_test, y_train, y_test, encoder_name):\n",
    "    model = LogisticRegression(max_iter=1000)\n",
    "    model.fit(X_train, y_train)\n",
    "    y_pred = model.predict(X_test)\n",
    "    \n",
    "    print(f\"\\n{encoder_name} Embeddings Performance:\")\n",
    "    print(\"Classification Report:\\n\", classification_report(y_test, y_pred))\n",
    "    print(\"Accuracy:\", accuracy_score(y_test, y_pred))\n",
    "    print(\"Precision:\", precision_score(y_test, y_pred, average='weighted'))\n",
    "    print(\"Recall:\", recall_score(y_test, y_pred, average='weighted'))\n",
    "    print(\"F1 Score:\", f1_score(y_test, y_pred, average='weighted'))\n",
    "    \n",
    "    cm = confusion_matrix(y_test, y_pred)\n",
    "    plt.figure(figsize=(10, 7))\n",
    "    sns.heatmap(cm, annot=True, fmt='d', cmap='Blues')\n",
    "    plt.title(f\"{encoder_name} Embeddings Confusion Matrix\")\n",
    "    plt.xlabel('Predicted')\n",
    "    plt.ylabel('Actual')\n",
    "    plt.show()\n",
    "    \n",
    "    if len(set(y_test)) == 2:  \n",
    "        y_prob = model.predict_proba(X_test)[:, 1]\n",
    "        roc_auc = roc_auc_score(y_test, y_prob)\n",
    "        print(\"AUC-ROC:\", roc_auc)\n",
    "\n"
   ]
  },
  {
   "cell_type": "markdown",
   "id": "a5aad95b",
   "metadata": {},
   "source": [
    "#### TF-IDF Embeddings"
   ]
  },
  {
   "cell_type": "code",
   "execution_count": 14,
   "id": "5c902b53",
   "metadata": {},
   "outputs": [
    {
     "name": "stdout",
     "output_type": "stream",
     "text": [
      "\n",
      "TF-IDF Embeddings Performance:\n",
      "Classification Report:\n",
      "               precision    recall  f1-score   support\n",
      "\n",
      "           0       0.68      0.68      0.68       102\n",
      "           1       0.66      0.66      0.66        98\n",
      "\n",
      "    accuracy                           0.67       200\n",
      "   macro avg       0.67      0.67      0.67       200\n",
      "weighted avg       0.67      0.67      0.67       200\n",
      "\n",
      "Accuracy: 0.67\n",
      "Precision: 0.67\n",
      "Recall: 0.67\n",
      "F1 Score: 0.67\n"
     ]
    },
    {
     "data": {
      "image/png": "[encoded data removed]",
      "text/plain": [
       "<Figure size 720x504 with 2 Axes>"
      ]
     },
     "metadata": {
      "needs_background": "light"
     },
     "output_type": "display_data"
    },
    {
     "name": "stdout",
     "output_type": "stream",
     "text": [
      "AUC-ROC: 0.7557523009203682\n"
     ]
    }
   ],
   "source": [
    "tfidf_vectorizer = TfidfVectorizer(max_features=1000)\n",
    "X_train_tfidf = tfidf_vectorizer.fit_transform(X_train)\n",
    "X_test_tfidf = tfidf_vectorizer.transform(X_test)\n",
    "train_and_evaluate(X_train_tfidf, X_test_tfidf, y_train, y_test, \"TF-IDF\")"
   ]
  },
  {
   "cell_type": "markdown",
   "id": "cba2c2af",
   "metadata": {},
   "source": [
    "#### Term Frequency Embeddings\n"
   ]
  },
  {
   "cell_type": "code",
   "execution_count": 15,
   "id": "1a5e8116",
   "metadata": {},
   "outputs": [
    {
     "name": "stdout",
     "output_type": "stream",
     "text": [
      "\n",
      "Term Frequency Embeddings Performance:\n",
      "Classification Report:\n",
      "               precision    recall  f1-score   support\n",
      "\n",
      "           0       0.67      0.59      0.63       102\n",
      "           1       0.62      0.70      0.66        98\n",
      "\n",
      "    accuracy                           0.65       200\n",
      "   macro avg       0.65      0.65      0.64       200\n",
      "weighted avg       0.65      0.65      0.64       200\n",
      "\n",
      "Accuracy: 0.645\n",
      "Precision: 0.6484148193136957\n",
      "Recall: 0.645\n",
      "F1 Score: 0.6439595180239985\n"
     ]
    },
    {
     "data": {
      "image/png": "[encoded data removed]",
      "text/plain": [
       "<Figure size 720x504 with 2 Axes>"
      ]
     },
     "metadata": {
      "needs_background": "light"
     },
     "output_type": "display_data"
    },
    {
     "name": "stdout",
     "output_type": "stream",
     "text": [
      "AUC-ROC: 0.7288415366146458\n"
     ]
    }
   ],
   "source": [
    "\n",
    "tf_vectorizer = CountVectorizer(max_features=1000)\n",
    "X_train_tf = tf_vectorizer.fit_transform(X_train)\n",
    "X_test_tf = tf_vectorizer.transform(X_test)\n",
    "train_and_evaluate(X_train_tf, X_test_tf, y_train, y_test, \"Term Frequency\")"
   ]
  },
  {
   "cell_type": "markdown",
   "id": "02c6b06c",
   "metadata": {},
   "source": [
    "#### Word2Vec Embeddings"
   ]
  },
  {
   "cell_type": "code",
   "execution_count": 17,
   "id": "b7d948b5",
   "metadata": {},
   "outputs": [
    {
     "name": "stdout",
     "output_type": "stream",
     "text": [
      "\n",
      "Word2Vec Embeddings Performance:\n",
      "Classification Report:\n",
      "               precision    recall  f1-score   support\n",
      "\n",
      "           0       0.54      0.91      0.68       102\n",
      "           1       0.69      0.20      0.31        98\n",
      "\n",
      "    accuracy                           0.56       200\n",
      "   macro avg       0.62      0.56      0.50       200\n",
      "weighted avg       0.62      0.56      0.50       200\n",
      "\n",
      "Accuracy: 0.565\n",
      "Precision: 0.6152994555353902\n",
      "Recall: 0.565\n",
      "F1 Score: 0.5018032361339448\n"
     ]
    },
    {
     "data": {
      "image/png": "[encoded data removed]",
      "text/plain": [
       "<Figure size 720x504 with 2 Axes>"
      ]
     },
     "metadata": {
      "needs_background": "light"
     },
     "output_type": "display_data"
    },
    {
     "name": "stdout",
     "output_type": "stream",
     "text": [
      "AUC-ROC: 0.6020408163265306\n"
     ]
    }
   ],
   "source": [
    "\n",
    "word2vec_model = Word2Vec(sentences=df['tokens'], vector_size=100, window=5, min_count=1, workers=4)\n",
    "def average_word_vectors(tokens, model, num_features):\n",
    "    feature_vec = np.zeros((num_features,), dtype=\"float32\")\n",
    "    n_words = 0\n",
    "    for word in tokens:\n",
    "        if word in model.wv:\n",
    "            n_words += 1\n",
    "            feature_vec = np.add(feature_vec, model.wv[word])\n",
    "    if n_words > 0:\n",
    "        feature_vec = np.divide(feature_vec, n_words)\n",
    "    return feature_vec\n",
    "\n",
    "X_train_word2vec = np.array([average_word_vectors(tokens, word2vec_model, 100) for tokens in df.loc[X_train.index, 'tokens']])\n",
    "X_test_word2vec = np.array([average_word_vectors(tokens, word2vec_model, 100) for tokens in df.loc[X_test.index, 'tokens']])\n",
    "train_and_evaluate(X_train_word2vec, X_test_word2vec, y_train, y_test, \"Word2Vec\")\n"
   ]
  },
  {
   "cell_type": "markdown",
   "id": "bf27cac7",
   "metadata": {},
   "source": [
    "#### SVM Model To Test The Embeddings"
   ]
  },
  {
   "cell_type": "code",
   "execution_count": 19,
   "id": "0508626d",
   "metadata": {},
   "outputs": [],
   "source": [
    "from sklearn.svm import SVC\n",
    "def train_and_evaluate_svm(X_train, X_test, y_train, y_test, encoder_name):\n",
    "    model = SVC(probability=True)\n",
    "    model.fit(X_train, y_train)\n",
    "    y_pred = model.predict(X_test)\n",
    "    \n",
    "    print(f\"\\n{encoder_name} Embeddings Performance with SVM:\")\n",
    "    print(\"Classification Report:\\n\", classification_report(y_test, y_pred))\n",
    "    print(\"Accuracy:\", accuracy_score(y_test, y_pred))\n",
    "    print(\"Precision:\", precision_score(y_test, y_pred, average='weighted'))\n",
    "    print(\"Recall:\", recall_score(y_test, y_pred, average='weighted'))\n",
    "    print(\"F1 Score:\", f1_score(y_test, y_pred, average='weighted'))\n",
    "    \n",
    "    cm = confusion_matrix(y_test, y_pred)\n",
    "    plt.figure(figsize=(10, 7))\n",
    "    sns.heatmap(cm, annot=True, fmt='d', cmap='Blues')\n",
    "    plt.title(f\"{encoder_name} Embeddings Confusion Matrix with SVM\")\n",
    "    plt.xlabel('Predicted')\n",
    "    plt.ylabel('Actual')\n",
    "    plt.show()\n",
    "    \n",
    "    if len(set(y_test)) == 2:  \n",
    "        y_prob = model.predict_proba(X_test)[:, 1]\n",
    "        roc_auc = roc_auc_score(y_test, y_prob)\n",
    "        print(\"AUC-ROC:\", roc_auc)\n",
    "\n",
    "\n"
   ]
  },
  {
   "cell_type": "markdown",
   "id": "3696f99f",
   "metadata": {},
   "source": [
    "#### TF-IDF Embeddings"
   ]
  },
  {
   "cell_type": "code",
   "execution_count": 21,
   "id": "74f81eef",
   "metadata": {},
   "outputs": [
    {
     "name": "stdout",
     "output_type": "stream",
     "text": [
      "\n",
      "TF-IDF Embeddings Performance with SVM:\n",
      "Classification Report:\n",
      "               precision    recall  f1-score   support\n",
      "\n",
      "           0       0.69      0.71      0.70       102\n",
      "           1       0.69      0.67      0.68        98\n",
      "\n",
      "    accuracy                           0.69       200\n",
      "   macro avg       0.69      0.69      0.69       200\n",
      "weighted avg       0.69      0.69      0.69       200\n",
      "\n",
      "Accuracy: 0.69\n",
      "Precision: 0.6899519230769231\n",
      "Recall: 0.69\n",
      "F1 Score: 0.6899069162246022\n"
     ]
    },
    {
     "data": {
      "image/png": "[encoded data removed]",
      "text/plain": [
       "<Figure size 720x504 with 2 Axes>"
      ]
     },
     "metadata": {
      "needs_background": "light"
     },
     "output_type": "display_data"
    },
    {
     "name": "stdout",
     "output_type": "stream",
     "text": [
      "AUC-ROC: 0.7553521408563425\n"
     ]
    }
   ],
   "source": [
    "train_and_evaluate_svm(X_train_tfidf, X_test_tfidf, y_train, y_test, \"TF-IDF\")"
   ]
  },
  {
   "cell_type": "markdown",
   "id": "20cabc51",
   "metadata": {},
   "source": [
    "#### Term Frequency Embeddings"
   ]
  },
  {
   "cell_type": "code",
   "execution_count": 23,
   "id": "5c7f281d",
   "metadata": {},
   "outputs": [
    {
     "name": "stdout",
     "output_type": "stream",
     "text": [
      "\n",
      "Term Frequency Embeddings Performance with SVM:\n",
      "Classification Report:\n",
      "               precision    recall  f1-score   support\n",
      "\n",
      "           0       0.75      0.54      0.63       102\n",
      "           1       0.63      0.82      0.71        98\n",
      "\n",
      "    accuracy                           0.68       200\n",
      "   macro avg       0.69      0.68      0.67       200\n",
      "weighted avg       0.69      0.68      0.67       200\n",
      "\n",
      "Accuracy: 0.675\n",
      "Precision: 0.6929079926653005\n",
      "Recall: 0.675\n",
      "F1 Score: 0.6690158730158732\n"
     ]
    },
    {
     "data": {
      "image/png": "[encoded data removed]",
      "text/plain": [
       "<Figure size 720x504 with 2 Axes>"
      ]
     },
     "metadata": {
      "needs_background": "light"
     },
     "output_type": "display_data"
    },
    {
     "name": "stdout",
     "output_type": "stream",
     "text": [
      "AUC-ROC: 0.7143357342937176\n"
     ]
    }
   ],
   "source": [
    "\n",
    "train_and_evaluate_svm(X_train_tf, X_test_tf, y_train, y_test, \"Term Frequency\")"
   ]
  },
  {
   "cell_type": "markdown",
   "id": "0d9a6225",
   "metadata": {},
   "source": [
    "### Word2Vec Embeddings"
   ]
  },
  {
   "cell_type": "code",
   "execution_count": 25,
   "id": "a673f008",
   "metadata": {},
   "outputs": [
    {
     "name": "stdout",
     "output_type": "stream",
     "text": [
      "\n",
      "Word2Vec Embeddings Performance with SVM:\n",
      "Classification Report:\n",
      "               precision    recall  f1-score   support\n",
      "\n",
      "           0       0.52      1.00      0.68       102\n",
      "           1       1.00      0.02      0.04        98\n",
      "\n",
      "    accuracy                           0.52       200\n",
      "   macro avg       0.76      0.51      0.36       200\n",
      "weighted avg       0.75      0.52      0.37       200\n",
      "\n",
      "Accuracy: 0.52\n",
      "Precision: 0.7527272727272728\n",
      "Recall: 0.52\n",
      "F1 Score: 0.3664\n"
     ]
    },
    {
     "data": {
      "image/png": "[encoded data removed]",
      "text/plain": [
       "<Figure size 720x504 with 2 Axes>"
      ]
     },
     "metadata": {
      "needs_background": "light"
     },
     "output_type": "display_data"
    },
    {
     "name": "stdout",
     "output_type": "stream",
     "text": [
      "AUC-ROC: 0.4525810324129652\n"
     ]
    }
   ],
   "source": [
    "\n",
    "train_and_evaluate_svm(X_train_word2vec, X_test_word2vec, y_train, y_test, \"Word2Vec\")"
   ]
  },
  {
   "cell_type": "markdown",
   "id": "b7aea283",
   "metadata": {},
   "source": [
    "# ***After Various Performance measures on ML Models IT can be Stated that TF-IDF Works best for our dataset ***"
   ]
  },
  {
   "cell_type": "code",
   "execution_count": null,
   "id": "55ddfaa6",
   "metadata": {},
   "outputs": [],
   "source": []
  }
 ],
 "metadata": {
  "kernelspec": {
   "display_name": "Python 3 (ipykernel)",
   "language": "python",
   "name": "python3"
  },
  "language_info": {
   "codemirror_mode": {
    "name": "ipython",
    "version": 3
   },
   "file_extension": ".py",
   "mimetype": "text/x-python",
   "name": "python",
   "nbconvert_exporter": "python",
   "pygments_lexer": "ipython3",
   "version": "3.9.12"
  }
 },
 "nbformat": 4,
 "nbformat_minor": 5
}
