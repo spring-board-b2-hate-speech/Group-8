{
 "cells": [
  {
   "cell_type": "code",
   "execution_count": 49,
   "id": "71b4be30",
   "metadata": {},
   "outputs": [],
   "source": [
    "import pandas as pd\n",
    "import numpy as np\n",
    "import matplotlib.pyplot as plt\n",
    "import seaborn as sns\n",
    "import nltk\n",
    "import re"
   ]
  },
  {
   "cell_type": "code",
   "execution_count": 50,
   "id": "c50c69dd",
   "metadata": {},
   "outputs": [],
   "source": [
    "df = pd.read_csv(\"Final_Dataset.csv\")\n",
    "df = df.drop(['Unnamed: 0'], axis=1)"
   ]
  },
  {
   "cell_type": "markdown",
   "id": "ac1a78e6",
   "metadata": {},
   "source": [
    "# BASIC ANALYSIS"
   ]
  },
  {
   "cell_type": "code",
   "execution_count": 51,
   "id": "c9f3faa9",
   "metadata": {
    "scrolled": true
   },
   "outputs": [
    {
     "name": "stdout",
     "output_type": "stream",
     "text": [
      "<class 'pandas.core.frame.DataFrame'>\n",
      "RangeIndex: 727119 entries, 0 to 727118\n",
      "Data columns (total 2 columns):\n",
      " #   Column        Non-Null Count   Dtype \n",
      "---  ------        --------------   ----- \n",
      " 0   Text          727119 non-null  object\n",
      " 1   IsHatespeech  727119 non-null  int64 \n",
      "dtypes: int64(1), object(1)\n",
      "memory usage: 11.1+ MB\n"
     ]
    }
   ],
   "source": [
    "df.info()"
   ]
  },
  {
   "cell_type": "markdown",
   "id": "7d9fd56f",
   "metadata": {},
   "source": [
    "Dataset Information:\n",
    "\n",
    "Function: info()\n",
    "\n",
    "Purpose: Provides a concise summary of the DataFrame including the index dtype, column dtypes, non-null values, and memory usage."
   ]
  },
  {
   "cell_type": "code",
   "execution_count": 52,
   "id": "293594fb",
   "metadata": {},
   "outputs": [
    {
     "data": {
      "text/html": [
       "<div>\n",
       "<style scoped>\n",
       "    .dataframe tbody tr th:only-of-type {\n",
       "        vertical-align: middle;\n",
       "    }\n",
       "\n",
       "    .dataframe tbody tr th {\n",
       "        vertical-align: top;\n",
       "    }\n",
       "\n",
       "    .dataframe thead th {\n",
       "        text-align: right;\n",
       "    }\n",
       "</style>\n",
       "<table border=\"1\" class=\"dataframe\">\n",
       "  <thead>\n",
       "    <tr style=\"text-align: right;\">\n",
       "      <th></th>\n",
       "      <th>Text</th>\n",
       "      <th>IsHatespeech</th>\n",
       "    </tr>\n",
       "  </thead>\n",
       "  <tbody>\n",
       "    <tr>\n",
       "      <th>0</th>\n",
       "      <td>denial of normal the con be asked to comment o...</td>\n",
       "      <td>1</td>\n",
       "    </tr>\n",
       "    <tr>\n",
       "      <th>1</th>\n",
       "      <td>just by being able to tweet this insufferable ...</td>\n",
       "      <td>1</td>\n",
       "    </tr>\n",
       "    <tr>\n",
       "      <th>2</th>\n",
       "      <td>that is retarded you too cute to be single tha...</td>\n",
       "      <td>1</td>\n",
       "    </tr>\n",
       "    <tr>\n",
       "      <th>3</th>\n",
       "      <td>thought of a real badass mongol style declarat...</td>\n",
       "      <td>1</td>\n",
       "    </tr>\n",
       "    <tr>\n",
       "      <th>4</th>\n",
       "      <td>afro american basho</td>\n",
       "      <td>1</td>\n",
       "    </tr>\n",
       "  </tbody>\n",
       "</table>\n",
       "</div>"
      ],
      "text/plain": [
       "                                                Text  IsHatespeech\n",
       "0  denial of normal the con be asked to comment o...             1\n",
       "1  just by being able to tweet this insufferable ...             1\n",
       "2  that is retarded you too cute to be single tha...             1\n",
       "3  thought of a real badass mongol style declarat...             1\n",
       "4                                afro american basho             1"
      ]
     },
     "execution_count": 52,
     "metadata": {},
     "output_type": "execute_result"
    }
   ],
   "source": [
    "df.head()"
   ]
  },
  {
   "cell_type": "markdown",
   "id": "1f6a4b2a",
   "metadata": {},
   "source": [
    "First Few Rows of the Dataset:\n",
    "\n",
    "Function: head()\n",
    "\n",
    "Purpose: Displays the first few rows of the dataset."
   ]
  },
  {
   "cell_type": "code",
   "execution_count": 53,
   "id": "9e898eed",
   "metadata": {
    "scrolled": true
   },
   "outputs": [
    {
     "data": {
      "text/html": [
       "<div>\n",
       "<style scoped>\n",
       "    .dataframe tbody tr th:only-of-type {\n",
       "        vertical-align: middle;\n",
       "    }\n",
       "\n",
       "    .dataframe tbody tr th {\n",
       "        vertical-align: top;\n",
       "    }\n",
       "\n",
       "    .dataframe thead th {\n",
       "        text-align: right;\n",
       "    }\n",
       "</style>\n",
       "<table border=\"1\" class=\"dataframe\">\n",
       "  <thead>\n",
       "    <tr style=\"text-align: right;\">\n",
       "      <th></th>\n",
       "      <th>Text</th>\n",
       "      <th>IsHatespeech</th>\n",
       "    </tr>\n",
       "  </thead>\n",
       "  <tbody>\n",
       "    <tr>\n",
       "      <th>727114</th>\n",
       "      <td>I remember that they sent in the national defe...</td>\n",
       "      <td>0</td>\n",
       "    </tr>\n",
       "    <tr>\n",
       "      <th>727115</th>\n",
       "      <td>Stats don`t represent the problem. Race baitin...</td>\n",
       "      <td>1</td>\n",
       "    </tr>\n",
       "    <tr>\n",
       "      <th>727116</th>\n",
       "      <td>The quote from the mother... Wow that hit hard...</td>\n",
       "      <td>0</td>\n",
       "    </tr>\n",
       "    <tr>\n",
       "      <th>727117</th>\n",
       "      <td>this video is so racist</td>\n",
       "      <td>0</td>\n",
       "    </tr>\n",
       "    <tr>\n",
       "      <th>727118</th>\n",
       "      <td>God, the narrator has such an annoying lisp.</td>\n",
       "      <td>0</td>\n",
       "    </tr>\n",
       "  </tbody>\n",
       "</table>\n",
       "</div>"
      ],
      "text/plain": [
       "                                                     Text  IsHatespeech\n",
       "727114  I remember that they sent in the national defe...             0\n",
       "727115  Stats don`t represent the problem. Race baitin...             1\n",
       "727116  The quote from the mother... Wow that hit hard...             0\n",
       "727117                            this video is so racist             0\n",
       "727118      God, the narrator has such an annoying lisp.              0"
      ]
     },
     "execution_count": 53,
     "metadata": {},
     "output_type": "execute_result"
    }
   ],
   "source": [
    "df.tail()"
   ]
  },
  {
   "cell_type": "markdown",
   "id": "b94b0bac",
   "metadata": {},
   "source": [
    "Last Few Rows of the Dataset:\n",
    "\n",
    "Function: tail()\n",
    "    \n",
    "Purpose: Displays the last few rows of the dataset.\n"
   ]
  },
  {
   "cell_type": "code",
   "execution_count": 54,
   "id": "c30a78ff",
   "metadata": {},
   "outputs": [
    {
     "name": "stdout",
     "output_type": "stream",
     "text": [
      "Text            0\n",
      "IsHatespeech    0\n",
      "dtype: int64\n"
     ]
    }
   ],
   "source": [
    "# check for missing values\n",
    "print(df.isnull().sum())"
   ]
  },
  {
   "cell_type": "markdown",
   "id": "918d256a",
   "metadata": {},
   "source": [
    "Sum of Missing Values:\n",
    "\n",
    "Function: isnull().sum()\n",
    "\n",
    "Purpose: Computes the sum of missing values for each column"
   ]
  },
  {
   "cell_type": "code",
   "execution_count": 55,
   "id": "35972c77",
   "metadata": {},
   "outputs": [
    {
     "data": {
      "text/plain": [
       "Index(['Text', 'IsHatespeech'], dtype='object')"
      ]
     },
     "execution_count": 55,
     "metadata": {},
     "output_type": "execute_result"
    }
   ],
   "source": [
    "df.columns\n"
   ]
  },
  {
   "cell_type": "markdown",
   "id": "ee1ffefd",
   "metadata": {},
   "source": [
    "Columns in the Dataset:\n",
    "\n",
    "Function: .columns\n",
    "    \n",
    "Purpose: Lists all the column names in the dataset."
   ]
  },
  {
   "cell_type": "code",
   "execution_count": 56,
   "id": "59d443aa",
   "metadata": {},
   "outputs": [
    {
     "name": "stdout",
     "output_type": "stream",
     "text": [
      "25050\n"
     ]
    }
   ],
   "source": [
    "\n",
    "print(df.duplicated().sum())\n",
    "df = df.drop_duplicates()\n"
   ]
  },
  {
   "cell_type": "markdown",
   "id": "80e33886",
   "metadata": {},
   "source": [
    "Checking for Duplicates:\n",
    "\n",
    "Function: duplicated().sum()\n",
    "Purpose: Counts the number of duplicate rows in the dataset.\n",
    "    \n",
    "Function: drop_duplicated()\n",
    "Purpose: Droping those duplicate rows."
   ]
  },
  {
   "cell_type": "markdown",
   "id": "3a2d9a35",
   "metadata": {},
   "source": [
    "***********************************************************************************\n",
    "#Visual representation of the number of text rows having Hate-Speech and the ones Not having Hate-Speech#"
   ]
  },
  {
   "cell_type": "code",
   "execution_count": 57,
   "id": "cd0ab9bd",
   "metadata": {},
   "outputs": [
    {
     "name": "stdout",
     "output_type": "stream",
     "text": [
      "1    359235\n",
      "0    342834\n",
      "Name: IsHatespeech, dtype: int64\n"
     ]
    },
    {
     "data": {
      "image/png": "[encoded data removed]",
      "text/plain": [
       "<Figure size 576x432 with 1 Axes>"
      ]
     },
     "metadata": {
      "needs_background": "light"
     },
     "output_type": "display_data"
    }
   ],
   "source": [
    "\n",
    "class_counts = df[\"IsHatespeech\"].value_counts()\n",
    "print(class_counts)\n",
    "plt.figure(figsize=(8, 6))\n",
    "class_counts.plot(kind='bar', color=['skyblue', 'salmon'])\n",
    "plt.title('Comparison of Hate Speech vs Non-Hate Speech')\n",
    "plt.xlabel('Is Hate Speech')\n",
    "plt.ylabel('Number of Instances')\n",
    "plt.xticks(ticks=[0, 1], labels=['Non-Hate Speech (0)', 'Hate Speech (1)'], rotation=0)\n",
    "plt.show()"
   ]
  },
  {
   "cell_type": "markdown",
   "id": "2988ca09",
   "metadata": {},
   "source": [
    "# DATA CLEANING"
   ]
  },
  {
   "cell_type": "markdown",
   "id": "f5bc9c2b",
   "metadata": {},
   "source": [
    "#### Lowercasing: Convert all text to lowercase or uppercase to ensure consistency in text comparison. Python’s .lower()"
   ]
  },
  {
   "cell_type": "code",
   "execution_count": 58,
   "id": "ecdf8ec8",
   "metadata": {},
   "outputs": [],
   "source": [
    "df['Text'] = df['Text'].str.lower()\n"
   ]
  },
  {
   "cell_type": "markdown",
   "id": "32570c9e",
   "metadata": {},
   "source": [
    "#### Removing Punctuation and Numbers from the text"
   ]
  },
  {
   "cell_type": "code",
   "execution_count": 59,
   "id": "16d4e74a",
   "metadata": {},
   "outputs": [],
   "source": [
    "import string\n",
    "def remove_noise(text):\n",
    "    text = text.translate(str.maketrans('', '', string.punctuation))\n",
    "    text = ''.join([i for i in text if not i.isdigit()])\n",
    "    return text\n",
    "\n",
    "df['Text'] = df['Text'].apply(remove_noise)\n",
    "\n"
   ]
  },
  {
   "cell_type": "markdown",
   "id": "43c022cc",
   "metadata": {},
   "source": [
    "#### Tokenization: Tokenize the text data into words or subword units (tokens). This step is often done during data preprocessing but is fundamental to feature engineering."
   ]
  },
  {
   "cell_type": "code",
   "execution_count": 60,
   "id": "eaaf952b",
   "metadata": {},
   "outputs": [
    {
     "name": "stderr",
     "output_type": "stream",
     "text": [
      "[nltk_data] Downloading package punkt to\n",
      "[nltk_data]     C:\\Users\\shrey\\AppData\\Roaming\\nltk_data...\n",
      "[nltk_data]   Package punkt is already up-to-date!\n"
     ]
    },
    {
     "data": {
      "text/html": [
       "<div>\n",
       "<style scoped>\n",
       "    .dataframe tbody tr th:only-of-type {\n",
       "        vertical-align: middle;\n",
       "    }\n",
       "\n",
       "    .dataframe tbody tr th {\n",
       "        vertical-align: top;\n",
       "    }\n",
       "\n",
       "    .dataframe thead th {\n",
       "        text-align: right;\n",
       "    }\n",
       "</style>\n",
       "<table border=\"1\" class=\"dataframe\">\n",
       "  <thead>\n",
       "    <tr style=\"text-align: right;\">\n",
       "      <th></th>\n",
       "      <th>Text</th>\n",
       "      <th>IsHatespeech</th>\n",
       "      <th>tokens</th>\n",
       "    </tr>\n",
       "  </thead>\n",
       "  <tbody>\n",
       "    <tr>\n",
       "      <th>0</th>\n",
       "      <td>denial of normal the con be asked to comment o...</td>\n",
       "      <td>1</td>\n",
       "      <td>[denial, of, normal, the, con, be, asked, to, ...</td>\n",
       "    </tr>\n",
       "    <tr>\n",
       "      <th>1</th>\n",
       "      <td>just by being able to tweet this insufferable ...</td>\n",
       "      <td>1</td>\n",
       "      <td>[just, by, being, able, to, tweet, this, insuf...</td>\n",
       "    </tr>\n",
       "    <tr>\n",
       "      <th>2</th>\n",
       "      <td>that is retarded you too cute to be single tha...</td>\n",
       "      <td>1</td>\n",
       "      <td>[that, is, retarded, you, too, cute, to, be, s...</td>\n",
       "    </tr>\n",
       "    <tr>\n",
       "      <th>3</th>\n",
       "      <td>thought of a real badass mongol style declarat...</td>\n",
       "      <td>1</td>\n",
       "      <td>[thought, of, a, real, badass, mongol, style, ...</td>\n",
       "    </tr>\n",
       "    <tr>\n",
       "      <th>4</th>\n",
       "      <td>afro american basho</td>\n",
       "      <td>1</td>\n",
       "      <td>[afro, american, basho]</td>\n",
       "    </tr>\n",
       "  </tbody>\n",
       "</table>\n",
       "</div>"
      ],
      "text/plain": [
       "                                                Text  IsHatespeech  \\\n",
       "0  denial of normal the con be asked to comment o...             1   \n",
       "1  just by being able to tweet this insufferable ...             1   \n",
       "2  that is retarded you too cute to be single tha...             1   \n",
       "3  thought of a real badass mongol style declarat...             1   \n",
       "4                                afro american basho             1   \n",
       "\n",
       "                                              tokens  \n",
       "0  [denial, of, normal, the, con, be, asked, to, ...  \n",
       "1  [just, by, being, able, to, tweet, this, insuf...  \n",
       "2  [that, is, retarded, you, too, cute, to, be, s...  \n",
       "3  [thought, of, a, real, badass, mongol, style, ...  \n",
       "4                            [afro, american, basho]  "
      ]
     },
     "execution_count": 60,
     "metadata": {},
     "output_type": "execute_result"
    }
   ],
   "source": [
    "from nltk.tokenize import word_tokenize\n",
    "nltk.download('punkt')\n",
    "\n",
    "def tokenize_text(text):\n",
    "    return word_tokenize(text)\n",
    "\n",
    "df['Text'] = df['Text'].astype(str)\n",
    "\n",
    "df['tokens'] = df['Text'].apply(tokenize_text)\n",
    "df.head()"
   ]
  },
  {
   "cell_type": "markdown",
   "id": "d9f200bd",
   "metadata": {},
   "source": [
    "#### Remove Common Stopwords: Depending on your analysis, you may want to remove common stopwords (e.g., “the,” “and,” “is”) to focus on more meaningful content."
   ]
  },
  {
   "cell_type": "code",
   "execution_count": 61,
   "id": "5acd614e",
   "metadata": {},
   "outputs": [
    {
     "name": "stderr",
     "output_type": "stream",
     "text": [
      "[nltk_data] Downloading package stopwords to\n",
      "[nltk_data]     C:\\Users\\shrey\\AppData\\Roaming\\nltk_data...\n",
      "[nltk_data]   Package stopwords is already up-to-date!\n"
     ]
    }
   ],
   "source": [
    "from nltk.corpus import stopwords\n",
    "\n",
    "nltk.download('stopwords')\n",
    "stop_words = set(stopwords.words('english'))\n",
    "\n",
    "def remove_stopwords(tokens):\n",
    "    return [word for word in tokens if word not in stop_words]\n",
    "\n",
    "df['tokens'] = df['tokens'].apply(remove_stopwords)\n"
   ]
  },
  {
   "cell_type": "markdown",
   "id": "b2974030",
   "metadata": {},
   "source": [
    "#### Lemmatization: Use lemmatization to reduce words to their base or dictionary form (e.g., “better” becomes “good”)"
   ]
  },
  {
   "cell_type": "code",
   "execution_count": 62,
   "id": "85995626",
   "metadata": {},
   "outputs": [
    {
     "name": "stderr",
     "output_type": "stream",
     "text": [
      "[nltk_data] Downloading package wordnet to\n",
      "[nltk_data]     C:\\Users\\shrey\\AppData\\Roaming\\nltk_data...\n",
      "[nltk_data]   Package wordnet is already up-to-date!\n"
     ]
    }
   ],
   "source": [
    "from nltk.stem import WordNetLemmatizer\n",
    "\n",
    "nltk.download('wordnet')\n",
    "\n",
    "lemmatizer = WordNetLemmatizer()\n",
    "\n",
    "def lemmatize_tokens(tokens):\n",
    "    return [lemmatizer.lemmatize(word) for word in tokens]\n",
    "\n",
    "df['tokens'] = df['tokens'].apply(lemmatize_tokens)\n"
   ]
  },
  {
   "cell_type": "markdown",
   "id": "4ef9920c",
   "metadata": {},
   "source": [
    "#### Reassemble tokens into cleaned text"
   ]
  },
  {
   "cell_type": "code",
   "execution_count": 63,
   "id": "b7f8b39d",
   "metadata": {},
   "outputs": [],
   "source": [
    "\n",
    "df['clean_text'] = df['tokens'].apply(lambda x: ' '.join(x))\n"
   ]
  },
  {
   "cell_type": "markdown",
   "id": "06d557e5",
   "metadata": {},
   "source": [
    "#### Remove special characters and emojis"
   ]
  },
  {
   "cell_type": "code",
   "execution_count": 64,
   "id": "d600f905",
   "metadata": {},
   "outputs": [],
   "source": [
    "\n",
    "def remove_special_characters(text):\n",
    "    text = re.sub(r'[^a-zA-Z\\s]', '', text)\n",
    "    return text\n",
    "\n",
    "df['clean_text'] = df['clean_text'].apply(remove_special_characters)"
   ]
  },
  {
   "cell_type": "markdown",
   "id": "5a83d413",
   "metadata": {},
   "source": [
    "#### Remove URLs, mentions, and hashtags"
   ]
  },
  {
   "cell_type": "code",
   "execution_count": 65,
   "id": "55eda36a",
   "metadata": {},
   "outputs": [],
   "source": [
    "def remove_urls_mentions_hashtags(text):\n",
    "    text = re.sub(r'http\\S+|www\\S+|https\\S+', '', text)\n",
    "    text = re.sub(r'\\@\\w+|\\#', '', text)\n",
    "    return text\n",
    "\n",
    "df['clean_text'] = df['clean_text'].apply(remove_urls_mentions_hashtags)"
   ]
  },
  {
   "cell_type": "markdown",
   "id": "7ee366aa",
   "metadata": {},
   "source": [
    "#### Create a feature for text length"
   ]
  },
  {
   "cell_type": "code",
   "execution_count": 66,
   "id": "55bc3674",
   "metadata": {},
   "outputs": [],
   "source": [
    "\n",
    "df['text_length'] = df['clean_text'].apply(len)\n",
    "\n"
   ]
  },
  {
   "cell_type": "code",
   "execution_count": 67,
   "id": "29e0341a",
   "metadata": {},
   "outputs": [
    {
     "data": {
      "text/html": [
       "<div>\n",
       "<style scoped>\n",
       "    .dataframe tbody tr th:only-of-type {\n",
       "        vertical-align: middle;\n",
       "    }\n",
       "\n",
       "    .dataframe tbody tr th {\n",
       "        vertical-align: top;\n",
       "    }\n",
       "\n",
       "    .dataframe thead th {\n",
       "        text-align: right;\n",
       "    }\n",
       "</style>\n",
       "<table border=\"1\" class=\"dataframe\">\n",
       "  <thead>\n",
       "    <tr style=\"text-align: right;\">\n",
       "      <th></th>\n",
       "      <th>Text</th>\n",
       "      <th>IsHatespeech</th>\n",
       "      <th>tokens</th>\n",
       "      <th>clean_text</th>\n",
       "      <th>text_length</th>\n",
       "    </tr>\n",
       "  </thead>\n",
       "  <tbody>\n",
       "    <tr>\n",
       "      <th>0</th>\n",
       "      <td>denial of normal the con be asked to comment o...</td>\n",
       "      <td>1</td>\n",
       "      <td>[denial, normal, con, asked, comment, tragedy,...</td>\n",
       "      <td>denial normal con asked comment tragedy emotio...</td>\n",
       "      <td>56</td>\n",
       "    </tr>\n",
       "    <tr>\n",
       "      <th>1</th>\n",
       "      <td>just by being able to tweet this insufferable ...</td>\n",
       "      <td>1</td>\n",
       "      <td>[able, tweet, insufferable, bullshit, prof, tr...</td>\n",
       "      <td>able tweet insufferable bullshit prof trump na...</td>\n",
       "      <td>55</td>\n",
       "    </tr>\n",
       "    <tr>\n",
       "      <th>2</th>\n",
       "      <td>that is retarded you too cute to be single tha...</td>\n",
       "      <td>1</td>\n",
       "      <td>[retarded, cute, single, life]</td>\n",
       "      <td>retarded cute single life</td>\n",
       "      <td>25</td>\n",
       "    </tr>\n",
       "  </tbody>\n",
       "</table>\n",
       "</div>"
      ],
      "text/plain": [
       "                                                Text  IsHatespeech  \\\n",
       "0  denial of normal the con be asked to comment o...             1   \n",
       "1  just by being able to tweet this insufferable ...             1   \n",
       "2  that is retarded you too cute to be single tha...             1   \n",
       "\n",
       "                                              tokens  \\\n",
       "0  [denial, normal, con, asked, comment, tragedy,...   \n",
       "1  [able, tweet, insufferable, bullshit, prof, tr...   \n",
       "2                     [retarded, cute, single, life]   \n",
       "\n",
       "                                          clean_text  text_length  \n",
       "0  denial normal con asked comment tragedy emotio...           56  \n",
       "1  able tweet insufferable bullshit prof trump na...           55  \n",
       "2                          retarded cute single life           25  "
      ]
     },
     "execution_count": 67,
     "metadata": {},
     "output_type": "execute_result"
    }
   ],
   "source": [
    "df.head(3)"
   ]
  },
  {
   "cell_type": "code",
   "execution_count": 68,
   "id": "6419af15",
   "metadata": {},
   "outputs": [
    {
     "name": "stdout",
     "output_type": "stream",
     "text": [
      "<class 'pandas.core.frame.DataFrame'>\n",
      "Int64Index: 702069 entries, 0 to 727118\n",
      "Data columns (total 5 columns):\n",
      " #   Column        Non-Null Count   Dtype \n",
      "---  ------        --------------   ----- \n",
      " 0   Text          702069 non-null  object\n",
      " 1   IsHatespeech  702069 non-null  int64 \n",
      " 2   tokens        702069 non-null  object\n",
      " 3   clean_text    702069 non-null  object\n",
      " 4   text_length   702069 non-null  int64 \n",
      "dtypes: int64(2), object(3)\n",
      "memory usage: 32.1+ MB\n"
     ]
    }
   ],
   "source": [
    "df.info()"
   ]
  },
  {
   "cell_type": "markdown",
   "id": "bad8a183",
   "metadata": {},
   "source": [
    "# EDA"
   ]
  },
  {
   "cell_type": "code",
   "execution_count": 69,
   "id": "31c46917",
   "metadata": {},
   "outputs": [
    {
     "name": "stdout",
     "output_type": "stream",
     "text": [
      "(702069, 5)\n",
      "Text            object\n",
      "IsHatespeech     int64\n",
      "tokens          object\n",
      "clean_text      object\n",
      "text_length      int64\n",
      "dtype: object\n"
     ]
    }
   ],
   "source": [
    "\n",
    "print(df.shape)\n",
    "print(df.dtypes)\n"
   ]
  },
  {
   "cell_type": "markdown",
   "id": "62aafbc8",
   "metadata": {},
   "source": [
    "#### Text Length Analysis\n",
    "Text Length Distribution: Calculate and plot the distribution of text lengths.\n",
    "\n",
    "Compare Text Length: Compare the text length distribution between hate speech and non-hate speech."
   ]
  },
  {
   "cell_type": "code",
   "execution_count": 70,
   "id": "de352333",
   "metadata": {},
   "outputs": [
    {
     "data": {
      "image/png": "[encoded data removed]",
      "text/plain": [
       "<Figure size 720x432 with 1 Axes>"
      ]
     },
     "metadata": {
      "needs_background": "light"
     },
     "output_type": "display_data"
    },
    {
     "data": {
      "image/png": "[encoded data removed]",
      "text/plain": [
       "<Figure size 720x432 with 1 Axes>"
      ]
     },
     "metadata": {
      "needs_background": "light"
     },
     "output_type": "display_data"
    }
   ],
   "source": [
    "df['text_length'] = df['clean_text'].apply(len)\n",
    "\n",
    "plt.figure(figsize=(10, 6))\n",
    "sns.histplot(df['text_length'], bins=100, kde=True)\n",
    "plt.title('Distribution of Text Lengths')\n",
    "plt.xlabel('Text Length')\n",
    "plt.ylabel('Frequency')\n",
    "plt.xlim(0, 1000)  \n",
    "plt.show()\n",
    "\n",
    "plt.figure(figsize=(10, 6))\n",
    "sns.histplot(df[df['IsHatespeech'] == 0]['text_length'], bins=50, color='blue', label='Non-Hate Speech', kde=True)\n",
    "sns.histplot(df[df['IsHatespeech'] == 1]['text_length'], bins=50, color='red', label='Hate Speech', kde=True)\n",
    "plt.title('Text Length Distribution by IsHatespeech')\n",
    "plt.xlabel('Text Length')\n",
    "plt.ylabel('Frequency')\n",
    "plt.legend()\n",
    "plt.xlim(0, 1000) \n",
    "plt.show()\n"
   ]
  },
  {
   "cell_type": "code",
   "execution_count": 71,
   "id": "c7c9bfe8",
   "metadata": {},
   "outputs": [
    {
     "data": {
      "image/png": "[encoded data removed]",
      "text/plain": [
       "<Figure size 720x360 with 1 Axes>"
      ]
     },
     "metadata": {
      "needs_background": "light"
     },
     "output_type": "display_data"
    }
   ],
   "source": [
    "\n",
    "plt.figure(figsize=(10, 5))\n",
    "df['text_length'].plot(kind='hist', bins=500, color='RED')\n",
    "plt.title('Distribution of Text Lengths')\n",
    "plt.xlim(0, 1000)\n",
    "plt.xlabel('Text Length')\n",
    "plt.ylabel('Frequency')\n",
    "plt.show()\n"
   ]
  },
  {
   "cell_type": "markdown",
   "id": "8edf16da",
   "metadata": {},
   "source": [
    "### Word Frequency Analysis\n",
    "#### Common Words: Identify and plot the most common words in the dataset.\n",
    "#### Common Words by Class: Compare the most common words between hate speech and non-hate speech."
   ]
  },
  {
   "cell_type": "code",
   "execution_count": 72,
   "id": "f3e932e8",
   "metadata": {},
   "outputs": [
    {
     "data": {
      "image/png": "[encoded data removed]",
      "text/plain": [
       "<Figure size 720x432 with 1 Axes>"
      ]
     },
     "metadata": {
      "needs_background": "light"
     },
     "output_type": "display_data"
    },
    {
     "data": {
      "image/png": "[encoded data removed]",
      "text/plain": [
       "<Figure size 720x432 with 1 Axes>"
      ]
     },
     "metadata": {
      "needs_background": "light"
     },
     "output_type": "display_data"
    },
    {
     "data": {
      "image/png": "[encoded data removed]",
      "text/plain": [
       "<Figure size 720x432 with 1 Axes>"
      ]
     },
     "metadata": {
      "needs_background": "light"
     },
     "output_type": "display_data"
    }
   ],
   "source": [
    "\n",
    "from collections import Counter\n",
    "\n",
    "def word_frequencies(tokens):\n",
    "    return Counter([word for token_list in tokens for word in token_list])\n",
    "\n",
    "\n",
    "all_words = word_frequencies(df['tokens'])\n",
    "common_words = all_words.most_common(20)\n",
    "words, counts = zip(*common_words)\n",
    "\n",
    "plt.figure(figsize=(10, 6))\n",
    "sns.barplot(x=list(counts), y=list(words))\n",
    "plt.title('Top 20 Most Common Words')\n",
    "plt.xlabel('Count')\n",
    "plt.ylabel('Words')\n",
    "plt.show()\n",
    "\n",
    "\n",
    "hate_speech_words = word_frequencies(df[df['IsHatespeech'] == 1]['tokens'])\n",
    "non_hate_speech_words = word_frequencies(df[df['IsHatespeech'] == 0]['tokens'])\n",
    "\n",
    "common_hate_speech_words = hate_speech_words.most_common(20)\n",
    "common_non_hate_speech_words = non_hate_speech_words.most_common(20)\n",
    "\n",
    "hate_words, hate_counts = zip(*common_hate_speech_words)\n",
    "non_hate_words, non_hate_counts = zip(*common_non_hate_speech_words)\n",
    "\n",
    "plt.figure(figsize=(10, 6))\n",
    "sns.barplot(x=list(hate_counts), y=list(hate_words))\n",
    "plt.title('Top 20 Most Common Words in Hate Speech')\n",
    "plt.xlabel('Count')\n",
    "plt.ylabel('Words')\n",
    "plt.show()\n",
    "\n",
    "plt.figure(figsize=(10, 6))\n",
    "sns.barplot(x=list(non_hate_counts), y=list(non_hate_words))\n",
    "plt.title('Top 20 Most Common Words in Non-Hate Speech')\n",
    "plt.xlabel('Count')\n",
    "plt.ylabel('Words')\n",
    "plt.show()\n"
   ]
  },
  {
   "cell_type": "code",
   "execution_count": 73,
   "id": "2950ee5e",
   "metadata": {},
   "outputs": [],
   "source": [
    "df.to_csv('Preprocessed_cleaned_Final_dataset.csv', index=False)\n"
   ]
  },
  {
   "cell_type": "code",
   "execution_count": null,
   "id": "245a9fd0",
   "metadata": {},
   "outputs": [],
   "source": []
  }
 ],
 "metadata": {
  "kernelspec": {
   "display_name": "Python 3 (ipykernel)",
   "language": "python",
   "name": "python3"
  },
  "language_info": {
   "codemirror_mode": {
    "name": "ipython",
    "version": 3
   },
   "file_extension": ".py",
   "mimetype": "text/x-python",
   "name": "python",
   "nbconvert_exporter": "python",
   "pygments_lexer": "ipython3",
   "version": "3.9.12"
  }
 },
 "nbformat": 4,
 "nbformat_minor": 5
}
