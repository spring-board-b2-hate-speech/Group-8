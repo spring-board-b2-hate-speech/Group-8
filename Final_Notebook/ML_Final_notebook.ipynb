{
 "cells": [
  {
   "cell_type": "code",
   "execution_count": 2,
   "id": "71b4be30",
   "metadata": {},
   "outputs": [],
   "source": [
    "import pandas as pd\n",
    "import numpy as np\n",
    "import matplotlib.pyplot as plt\n",
    "import seaborn as sns\n",
    "import nltk\n",
    "import re"
   ]
  },
  {
   "cell_type": "code",
   "execution_count": 3,
   "id": "c50c69dd",
   "metadata": {},
   "outputs": [],
   "source": [
    "df = pd.read_csv(\"Small_Hatespeech10k.csv\")"
   ]
  },
  {
   "cell_type": "markdown",
   "id": "62175532",
   "metadata": {},
   "source": [
    "# BASIC ANALYSIS"
   ]
  },
  {
   "cell_type": "markdown",
   "id": "70daa8c4",
   "metadata": {},
   "source": [
    "#### Dataset Information:\n",
    "\n",
    "Function: info()\n",
    "\n",
    "Purpose: Provides a concise summary of the DataFrame including the index dtype, column dtypes, non-null values, and memory usage."
   ]
  },
  {
   "cell_type": "code",
   "execution_count": 6,
   "id": "c9f3faa9",
   "metadata": {
    "scrolled": true
   },
   "outputs": [
    {
     "name": "stdout",
     "output_type": "stream",
     "text": [
      "<class 'pandas.core.frame.DataFrame'>\n",
      "RangeIndex: 10000 entries, 0 to 9999\n",
      "Data columns (total 2 columns):\n",
      " #   Column        Non-Null Count  Dtype \n",
      "---  ------        --------------  ----- \n",
      " 0   Text          10000 non-null  object\n",
      " 1   IsHatespeech  10000 non-null  int64 \n",
      "dtypes: int64(1), object(1)\n",
      "memory usage: 156.4+ KB\n"
     ]
    }
   ],
   "source": [
    "df.info()"
   ]
  },
  {
   "cell_type": "markdown",
   "id": "c07e10b7",
   "metadata": {},
   "source": [
    "#### First Few Rows of the Dataset:\n",
    "\n",
    "Function: head()\n",
    "\n",
    "Purpose: Displays the first few rows of the dataset."
   ]
  },
  {
   "cell_type": "code",
   "execution_count": 7,
   "id": "4fbf6163",
   "metadata": {},
   "outputs": [
    {
     "data": {
      "text/html": [
       "<div>\n",
       "<style scoped>\n",
       "    .dataframe tbody tr th:only-of-type {\n",
       "        vertical-align: middle;\n",
       "    }\n",
       "\n",
       "    .dataframe tbody tr th {\n",
       "        vertical-align: top;\n",
       "    }\n",
       "\n",
       "    .dataframe thead th {\n",
       "        text-align: right;\n",
       "    }\n",
       "</style>\n",
       "<table border=\"1\" class=\"dataframe\">\n",
       "  <thead>\n",
       "    <tr style=\"text-align: right;\">\n",
       "      <th></th>\n",
       "      <th>Text</th>\n",
       "      <th>IsHatespeech</th>\n",
       "    </tr>\n",
       "  </thead>\n",
       "  <tbody>\n",
       "    <tr>\n",
       "      <th>0</th>\n",
       "      <td>frustratingly small please find an image at le...</td>\n",
       "      <td>0</td>\n",
       "    </tr>\n",
       "    <tr>\n",
       "      <th>1</th>\n",
       "      <td>padding cell padding class mainpagebg solid ve...</td>\n",
       "      <td>0</td>\n",
       "    </tr>\n",
       "    <tr>\n",
       "      <th>2</th>\n",
       "      <td>from the scenarios you present i see you belie...</td>\n",
       "      <td>0</td>\n",
       "    </tr>\n",
       "    <tr>\n",
       "      <th>3</th>\n",
       "      <td>i have to go inside you tomorrow i hate myself...</td>\n",
       "      <td>0</td>\n",
       "    </tr>\n",
       "    <tr>\n",
       "      <th>4</th>\n",
       "      <td>retweet china s bird flu outbreak good signs b...</td>\n",
       "      <td>0</td>\n",
       "    </tr>\n",
       "  </tbody>\n",
       "</table>\n",
       "</div>"
      ],
      "text/plain": [
       "                                                Text  IsHatespeech\n",
       "0  frustratingly small please find an image at le...             0\n",
       "1  padding cell padding class mainpagebg solid ve...             0\n",
       "2  from the scenarios you present i see you belie...             0\n",
       "3  i have to go inside you tomorrow i hate myself...             0\n",
       "4  retweet china s bird flu outbreak good signs b...             0"
      ]
     },
     "execution_count": 7,
     "metadata": {},
     "output_type": "execute_result"
    }
   ],
   "source": [
    "df.head()"
   ]
  },
  {
   "cell_type": "markdown",
   "id": "c2960bc7",
   "metadata": {},
   "source": [
    "#### Last Few Rows of the Dataset:\n",
    "\n",
    "Function: tail()\n",
    "    \n",
    "Purpose: Displays the last few rows of the dataset.\n"
   ]
  },
  {
   "cell_type": "code",
   "execution_count": 34,
   "id": "e05dd3dd",
   "metadata": {
    "scrolled": true
   },
   "outputs": [
    {
     "data": {
      "text/html": [
       "<div>\n",
       "<style scoped>\n",
       "    .dataframe tbody tr th:only-of-type {\n",
       "        vertical-align: middle;\n",
       "    }\n",
       "\n",
       "    .dataframe tbody tr th {\n",
       "        vertical-align: top;\n",
       "    }\n",
       "\n",
       "    .dataframe thead th {\n",
       "        text-align: right;\n",
       "    }\n",
       "</style>\n",
       "<table border=\"1\" class=\"dataframe\">\n",
       "  <thead>\n",
       "    <tr style=\"text-align: right;\">\n",
       "      <th></th>\n",
       "      <th>Text</th>\n",
       "      <th>IsHatespeech</th>\n",
       "    </tr>\n",
       "  </thead>\n",
       "  <tbody>\n",
       "    <tr>\n",
       "      <th>9995</th>\n",
       "      <td>chastity is really the quality with girls the ...</td>\n",
       "      <td>1</td>\n",
       "    </tr>\n",
       "    <tr>\n",
       "      <th>9996</th>\n",
       "      <td>wow cannot be like these folks riding this sub...</td>\n",
       "      <td>1</td>\n",
       "    </tr>\n",
       "    <tr>\n",
       "      <th>9997</th>\n",
       "      <td>now you are such a mean nigger</td>\n",
       "      <td>1</td>\n",
       "    </tr>\n",
       "    <tr>\n",
       "      <th>9998</th>\n",
       "      <td>but i let them know girls don't run shit round...</td>\n",
       "      <td>1</td>\n",
       "    </tr>\n",
       "    <tr>\n",
       "      <th>9999</th>\n",
       "      <td>why does gavin williamson i still still work f...</td>\n",
       "      <td>1</td>\n",
       "    </tr>\n",
       "  </tbody>\n",
       "</table>\n",
       "</div>"
      ],
      "text/plain": [
       "                                                   Text  IsHatespeech\n",
       "9995  chastity is really the quality with girls the ...             1\n",
       "9996  wow cannot be like these folks riding this sub...             1\n",
       "9997                     now you are such a mean nigger             1\n",
       "9998  but i let them know girls don't run shit round...             1\n",
       "9999  why does gavin williamson i still still work f...             1"
      ]
     },
     "execution_count": 34,
     "metadata": {},
     "output_type": "execute_result"
    }
   ],
   "source": [
    "df.tail()"
   ]
  },
  {
   "cell_type": "markdown",
   "id": "27ab9d8c",
   "metadata": {},
   "source": [
    "#### Sum of Missing Values:\n",
    "\n",
    "Function: isnull().sum()\n",
    "\n",
    "Purpose: Computes the sum of missing values for each column"
   ]
  },
  {
   "cell_type": "code",
   "execution_count": 8,
   "id": "c30a78ff",
   "metadata": {},
   "outputs": [
    {
     "name": "stdout",
     "output_type": "stream",
     "text": [
      "Text            0\n",
      "IsHatespeech    0\n",
      "dtype: int64\n"
     ]
    }
   ],
   "source": [
    "print(df.isnull().sum())"
   ]
  },
  {
   "cell_type": "markdown",
   "id": "66da049d",
   "metadata": {},
   "source": [
    "#### Columns in the Dataset:\n",
    "\n",
    "Function: .columns\n",
    "    \n",
    "Purpose: Lists all the column names in the dataset."
   ]
  },
  {
   "cell_type": "code",
   "execution_count": 9,
   "id": "118ecd9e",
   "metadata": {},
   "outputs": [
    {
     "data": {
      "text/plain": [
       "Index(['Text', 'IsHatespeech'], dtype='object')"
      ]
     },
     "execution_count": 9,
     "metadata": {},
     "output_type": "execute_result"
    }
   ],
   "source": [
    "df.columns\n"
   ]
  },
  {
   "cell_type": "markdown",
   "id": "6f3029a6",
   "metadata": {},
   "source": [
    "#### Checking for Duplicates:\n",
    "\n",
    "Function: duplicated().sum()\n",
    "Purpose: Counts the number of duplicate rows in the dataset.\n",
    "    \n",
    "Function: drop_duplicated()\n",
    "Purpose: Droping those duplicate rows."
   ]
  },
  {
   "cell_type": "code",
   "execution_count": 10,
   "id": "59d443aa",
   "metadata": {},
   "outputs": [
    {
     "name": "stdout",
     "output_type": "stream",
     "text": [
      "7\n"
     ]
    }
   ],
   "source": [
    "\n",
    "print(df.duplicated().sum())\n",
    "df = df.drop_duplicates()\n"
   ]
  },
  {
   "cell_type": "markdown",
   "id": "3f79537f",
   "metadata": {},
   "source": [
    "***********************************************************************************\n",
    "### Visual representation of the number of text rows having Hate-Speech and the ones Not having Hate-Speech#"
   ]
  },
  {
   "cell_type": "code",
   "execution_count": 11,
   "id": "cd0ab9bd",
   "metadata": {},
   "outputs": [
    {
     "name": "stdout",
     "output_type": "stream",
     "text": [
      "1    4998\n",
      "0    4995\n",
      "Name: IsHatespeech, dtype: int64\n"
     ]
    },
    {
     "data": {
      "image/png": "[encoded data removed]",
      "text/plain": [
       "<Figure size 576x432 with 1 Axes>"
      ]
     },
     "metadata": {
      "needs_background": "light"
     },
     "output_type": "display_data"
    }
   ],
   "source": [
    "\n",
    "class_counts = df[\"IsHatespeech\"].value_counts()\n",
    "print(class_counts)\n",
    "plt.figure(figsize=(8, 6))\n",
    "class_counts.plot(kind='bar', color=['skyblue', 'salmon'])\n",
    "plt.title('Comparison of Hate Speech vs Non-Hate Speech')\n",
    "plt.xlabel('Is Hate Speech')\n",
    "plt.ylabel('Number of Instances')\n",
    "plt.xticks(ticks=[0, 1], labels=['Non-Hate Speech (0)', 'Hate Speech (1)'], rotation=0)\n",
    "plt.show()"
   ]
  },
  {
   "cell_type": "markdown",
   "id": "75fb910c",
   "metadata": {},
   "source": [
    "# DATA CLEANING"
   ]
  },
  {
   "cell_type": "markdown",
   "id": "5f3ad246",
   "metadata": {},
   "source": [
    "#### Lowercasing: Convert all text to lowercase or uppercase to ensure consistency in text comparison. Python’s .lower()"
   ]
  },
  {
   "cell_type": "code",
   "execution_count": 12,
   "id": "ecdf8ec8",
   "metadata": {},
   "outputs": [
    {
     "name": "stderr",
     "output_type": "stream",
     "text": [
      "C:\\Users\\shrey\\AppData\\Local\\Temp\\ipykernel_5792\\1580990995.py:1: SettingWithCopyWarning: \n",
      "A value is trying to be set on a copy of a slice from a DataFrame.\n",
      "Try using .loc[row_indexer,col_indexer] = value instead\n",
      "\n",
      "See the caveats in the documentation: https://pandas.pydata.org/pandas-docs/stable/user_guide/indexing.html#returning-a-view-versus-a-copy\n",
      "  df['Text'] = df['Text'].str.lower()\n"
     ]
    }
   ],
   "source": [
    "df['Text'] = df['Text'].str.lower()\n"
   ]
  },
  {
   "cell_type": "markdown",
   "id": "8a702118",
   "metadata": {},
   "source": [
    "#### Check that the text only contains text in english and remove any other  "
   ]
  },
  {
   "cell_type": "code",
   "execution_count": 13,
   "id": "aaead6fc",
   "metadata": {},
   "outputs": [],
   "source": [
    "from langdetect import detect, DetectorFactory\n",
    "\n",
    "DetectorFactory.seed = 0\n",
    "\n",
    "def is_english(text):\n",
    "    try:\n",
    "        return detect(text) == 'en'\n",
    "    except:\n",
    "        return False\n",
    "\n",
    "df = df[df['Text'].apply(is_english)]"
   ]
  },
  {
   "cell_type": "markdown",
   "id": "25aed8b0",
   "metadata": {},
   "source": [
    "#### Remove URLs, mentions, and hashtags"
   ]
  },
  {
   "cell_type": "code",
   "execution_count": 14,
   "id": "55eda36a",
   "metadata": {},
   "outputs": [],
   "source": [
    "def remove_urls_mentions_hashtags(text):\n",
    "    text = re.sub(r'http\\S+|www\\S+|https\\S+', '', text)\n",
    "    text = re.sub(r'\\@\\w+|\\#', '', text)\n",
    "    return text\n",
    "\n",
    "df['Text'] = df['Text'].apply(remove_urls_mentions_hashtags)"
   ]
  },
  {
   "cell_type": "markdown",
   "id": "fe91583b",
   "metadata": {},
   "source": [
    "#### Remove special characters and emojis"
   ]
  },
  {
   "cell_type": "code",
   "execution_count": 15,
   "id": "d600f905",
   "metadata": {},
   "outputs": [],
   "source": [
    "\n",
    "def remove_special_characters(text):\n",
    "    text = re.sub(r'[^a-zA-Z\\s]', '', text)\n",
    "    return text\n",
    "\n",
    "df['Text'] = df['Text'].apply(remove_special_characters)"
   ]
  },
  {
   "cell_type": "markdown",
   "id": "ad98e8f5",
   "metadata": {},
   "source": [
    "#### Expanding the contractions to better identify the meaning of words"
   ]
  },
  {
   "cell_type": "code",
   "execution_count": 16,
   "id": "6f9bfbd1",
   "metadata": {},
   "outputs": [],
   "source": [
    "import contractions\n",
    "\n",
    "def expand_contractions(text):\n",
    "    expanded_words = [contractions.fix(word) for word in text.split()]\n",
    "    expanded_text = ' '.join(expanded_words)\n",
    "    return expanded_text\n",
    "\n",
    "df['Text'] = df['Text'].apply(expand_contractions)"
   ]
  },
  {
   "cell_type": "markdown",
   "id": "f02bf4f4",
   "metadata": {},
   "source": [
    "#### Removing Punctuation and Numbers from the text"
   ]
  },
  {
   "cell_type": "code",
   "execution_count": 17,
   "id": "16d4e74a",
   "metadata": {},
   "outputs": [],
   "source": [
    "import string\n",
    "def remove_noise(text):\n",
    "    text = text.translate(str.maketrans('', '', string.punctuation))\n",
    "    text = ''.join([i for i in text if not i.isdigit()])\n",
    "    return text\n",
    "\n",
    "df['Text'] = df['Text'].apply(remove_noise)\n",
    "\n"
   ]
  },
  {
   "cell_type": "markdown",
   "id": "f0f44a5f",
   "metadata": {},
   "source": [
    "#### Tokenization: Tokenize the text data into words or subword units (tokens). This step is often done during data preprocessing but is fundamental to feature engineering."
   ]
  },
  {
   "cell_type": "code",
   "execution_count": 18,
   "id": "c1e3c07c",
   "metadata": {},
   "outputs": [
    {
     "name": "stderr",
     "output_type": "stream",
     "text": [
      "[nltk_data] Downloading package punkt to\n",
      "[nltk_data]     C:\\Users\\shrey\\AppData\\Roaming\\nltk_data...\n",
      "[nltk_data]   Package punkt is already up-to-date!\n"
     ]
    },
    {
     "data": {
      "text/html": [
       "<div>\n",
       "<style scoped>\n",
       "    .dataframe tbody tr th:only-of-type {\n",
       "        vertical-align: middle;\n",
       "    }\n",
       "\n",
       "    .dataframe tbody tr th {\n",
       "        vertical-align: top;\n",
       "    }\n",
       "\n",
       "    .dataframe thead th {\n",
       "        text-align: right;\n",
       "    }\n",
       "</style>\n",
       "<table border=\"1\" class=\"dataframe\">\n",
       "  <thead>\n",
       "    <tr style=\"text-align: right;\">\n",
       "      <th></th>\n",
       "      <th>Text</th>\n",
       "      <th>IsHatespeech</th>\n",
       "      <th>tokens</th>\n",
       "    </tr>\n",
       "  </thead>\n",
       "  <tbody>\n",
       "    <tr>\n",
       "      <th>0</th>\n",
       "      <td>frustratingly small please find an image at le...</td>\n",
       "      <td>0</td>\n",
       "      <td>[frustratingly, small, please, find, an, image...</td>\n",
       "    </tr>\n",
       "    <tr>\n",
       "      <th>1</th>\n",
       "      <td>padding cell padding class mainpagebg solid ve...</td>\n",
       "      <td>0</td>\n",
       "      <td>[padding, cell, padding, class, mainpagebg, so...</td>\n",
       "    </tr>\n",
       "    <tr>\n",
       "      <th>2</th>\n",
       "      <td>from the scenarios you present i see you belie...</td>\n",
       "      <td>0</td>\n",
       "      <td>[from, the, scenarios, you, present, i, see, y...</td>\n",
       "    </tr>\n",
       "    <tr>\n",
       "      <th>3</th>\n",
       "      <td>i have to go inside you tomorrow i hate myself...</td>\n",
       "      <td>0</td>\n",
       "      <td>[i, have, to, go, inside, you, tomorrow, i, ha...</td>\n",
       "    </tr>\n",
       "    <tr>\n",
       "      <th>4</th>\n",
       "      <td>retweet china s bird flu outbreak good signs b...</td>\n",
       "      <td>0</td>\n",
       "      <td>[retweet, china, s, bird, flu, outbreak, good,...</td>\n",
       "    </tr>\n",
       "  </tbody>\n",
       "</table>\n",
       "</div>"
      ],
      "text/plain": [
       "                                                Text  IsHatespeech  \\\n",
       "0  frustratingly small please find an image at le...             0   \n",
       "1  padding cell padding class mainpagebg solid ve...             0   \n",
       "2  from the scenarios you present i see you belie...             0   \n",
       "3  i have to go inside you tomorrow i hate myself...             0   \n",
       "4  retweet china s bird flu outbreak good signs b...             0   \n",
       "\n",
       "                                              tokens  \n",
       "0  [frustratingly, small, please, find, an, image...  \n",
       "1  [padding, cell, padding, class, mainpagebg, so...  \n",
       "2  [from, the, scenarios, you, present, i, see, y...  \n",
       "3  [i, have, to, go, inside, you, tomorrow, i, ha...  \n",
       "4  [retweet, china, s, bird, flu, outbreak, good,...  "
      ]
     },
     "execution_count": 18,
     "metadata": {},
     "output_type": "execute_result"
    }
   ],
   "source": [
    "from nltk.tokenize import word_tokenize\n",
    "nltk.download('punkt')\n",
    "\n",
    "def tokenize_text(text):\n",
    "    return word_tokenize(text)\n",
    "\n",
    "df['Text'] = df['Text'].astype(str)\n",
    "\n",
    "df['tokens'] = df['Text'].apply(tokenize_text)\n",
    "df.head()"
   ]
  },
  {
   "cell_type": "markdown",
   "id": "fac1b56d",
   "metadata": {},
   "source": [
    "#### Remove Common Stopwords: Depending on your analysis, you may want to remove common stopwords (e.g., “the,” “and,” “is”) to focus on more meaningful content."
   ]
  },
  {
   "cell_type": "code",
   "execution_count": 19,
   "id": "5acd614e",
   "metadata": {},
   "outputs": [
    {
     "name": "stderr",
     "output_type": "stream",
     "text": [
      "[nltk_data] Downloading package stopwords to\n",
      "[nltk_data]     C:\\Users\\shrey\\AppData\\Roaming\\nltk_data...\n",
      "[nltk_data]   Package stopwords is already up-to-date!\n"
     ]
    }
   ],
   "source": [
    "from nltk.corpus import stopwords\n",
    "\n",
    "nltk.download('stopwords')\n",
    "stop_words = set(stopwords.words('english'))\n",
    "\n",
    "def remove_stopwords(tokens):\n",
    "    return [word for word in tokens if word not in stop_words]\n",
    "\n",
    "df['tokens'] = df['tokens'].apply(remove_stopwords)\n"
   ]
  },
  {
   "cell_type": "markdown",
   "id": "3fd616ab",
   "metadata": {},
   "source": [
    "#### Lemmatization: Use lemmatization to reduce words to their base or dictionary form (e.g., “better” becomes “good”)"
   ]
  },
  {
   "cell_type": "code",
   "execution_count": 20,
   "id": "85995626",
   "metadata": {},
   "outputs": [
    {
     "name": "stderr",
     "output_type": "stream",
     "text": [
      "[nltk_data] Downloading package wordnet to\n",
      "[nltk_data]     C:\\Users\\shrey\\AppData\\Roaming\\nltk_data...\n",
      "[nltk_data]   Package wordnet is already up-to-date!\n"
     ]
    }
   ],
   "source": [
    "from nltk.stem import WordNetLemmatizer\n",
    "\n",
    "nltk.download('wordnet')\n",
    "\n",
    "lemmatizer = WordNetLemmatizer()\n",
    "\n",
    "def lemmatize_tokens(tokens):\n",
    "    return [lemmatizer.lemmatize(word) for word in tokens]\n",
    "\n",
    "df['tokens'] = df['tokens'].apply(lemmatize_tokens)\n"
   ]
  },
  {
   "cell_type": "markdown",
   "id": "d370419e",
   "metadata": {},
   "source": [
    "#### Reassemble tokens into cleaned text"
   ]
  },
  {
   "cell_type": "code",
   "execution_count": 21,
   "id": "b7f8b39d",
   "metadata": {},
   "outputs": [],
   "source": [
    "\n",
    "df['clean_text'] = df['tokens'].apply(lambda x: ' '.join(x))\n"
   ]
  },
  {
   "cell_type": "markdown",
   "id": "c68f9ab8",
   "metadata": {},
   "source": [
    "#### Create a feature for text length"
   ]
  },
  {
   "cell_type": "code",
   "execution_count": 22,
   "id": "55bc3674",
   "metadata": {},
   "outputs": [],
   "source": [
    "\n",
    "df['text_length'] = df['clean_text'].apply(len)\n",
    "\n"
   ]
  },
  {
   "cell_type": "code",
   "execution_count": 23,
   "id": "29e0341a",
   "metadata": {},
   "outputs": [
    {
     "data": {
      "text/html": [
       "<div>\n",
       "<style scoped>\n",
       "    .dataframe tbody tr th:only-of-type {\n",
       "        vertical-align: middle;\n",
       "    }\n",
       "\n",
       "    .dataframe tbody tr th {\n",
       "        vertical-align: top;\n",
       "    }\n",
       "\n",
       "    .dataframe thead th {\n",
       "        text-align: right;\n",
       "    }\n",
       "</style>\n",
       "<table border=\"1\" class=\"dataframe\">\n",
       "  <thead>\n",
       "    <tr style=\"text-align: right;\">\n",
       "      <th></th>\n",
       "      <th>Text</th>\n",
       "      <th>IsHatespeech</th>\n",
       "      <th>tokens</th>\n",
       "      <th>clean_text</th>\n",
       "      <th>text_length</th>\n",
       "    </tr>\n",
       "  </thead>\n",
       "  <tbody>\n",
       "    <tr>\n",
       "      <th>0</th>\n",
       "      <td>frustratingly small please find an image at le...</td>\n",
       "      <td>0</td>\n",
       "      <td>[frustratingly, small, please, find, image, le...</td>\n",
       "      <td>frustratingly small please find image least pi...</td>\n",
       "      <td>117</td>\n",
       "    </tr>\n",
       "    <tr>\n",
       "      <th>1</th>\n",
       "      <td>padding cell padding class mainpagebg solid ve...</td>\n",
       "      <td>0</td>\n",
       "      <td>[padding, cell, padding, class, mainpagebg, so...</td>\n",
       "      <td>padding cell padding class mainpagebg solid ve...</td>\n",
       "      <td>1192</td>\n",
       "    </tr>\n",
       "    <tr>\n",
       "      <th>2</th>\n",
       "      <td>from the scenarios you present i see you belie...</td>\n",
       "      <td>0</td>\n",
       "      <td>[scenario, present, see, believe, people, robo...</td>\n",
       "      <td>scenario present see believe people robot abra...</td>\n",
       "      <td>560</td>\n",
       "    </tr>\n",
       "  </tbody>\n",
       "</table>\n",
       "</div>"
      ],
      "text/plain": [
       "                                                Text  IsHatespeech  \\\n",
       "0  frustratingly small please find an image at le...             0   \n",
       "1  padding cell padding class mainpagebg solid ve...             0   \n",
       "2  from the scenarios you present i see you belie...             0   \n",
       "\n",
       "                                              tokens  \\\n",
       "0  [frustratingly, small, please, find, image, le...   \n",
       "1  [padding, cell, padding, class, mainpagebg, so...   \n",
       "2  [scenario, present, see, believe, people, robo...   \n",
       "\n",
       "                                          clean_text  text_length  \n",
       "0  frustratingly small please find image least pi...          117  \n",
       "1  padding cell padding class mainpagebg solid ve...         1192  \n",
       "2  scenario present see believe people robot abra...          560  "
      ]
     },
     "execution_count": 23,
     "metadata": {},
     "output_type": "execute_result"
    }
   ],
   "source": [
    "df.head(3)"
   ]
  },
  {
   "cell_type": "code",
   "execution_count": 24,
   "id": "41435f18",
   "metadata": {},
   "outputs": [
    {
     "name": "stdout",
     "output_type": "stream",
     "text": [
      "<class 'pandas.core.frame.DataFrame'>\n",
      "Int64Index: 9310 entries, 0 to 9999\n",
      "Data columns (total 5 columns):\n",
      " #   Column        Non-Null Count  Dtype \n",
      "---  ------        --------------  ----- \n",
      " 0   Text          9310 non-null   object\n",
      " 1   IsHatespeech  9310 non-null   int64 \n",
      " 2   tokens        9310 non-null   object\n",
      " 3   clean_text    9310 non-null   object\n",
      " 4   text_length   9310 non-null   int64 \n",
      "dtypes: int64(2), object(3)\n",
      "memory usage: 436.4+ KB\n"
     ]
    }
   ],
   "source": [
    "df.info()"
   ]
  },
  {
   "cell_type": "markdown",
   "id": "f5a3cd8f",
   "metadata": {},
   "source": [
    "# EDA"
   ]
  },
  {
   "cell_type": "markdown",
   "id": "4c83e596",
   "metadata": {},
   "source": [
    "#### Text Length Analysis\n",
    "Text Length Distribution: Calculate and plot the distribution of text lengths.\n",
    "\n",
    "Compare Text Length: Compare the text length distribution between hate speech and non-hate speech."
   ]
  },
  {
   "cell_type": "code",
   "execution_count": 26,
   "id": "1a87bcc9",
   "metadata": {},
   "outputs": [
    {
     "name": "stdout",
     "output_type": "stream",
     "text": [
      "(9310, 5)\n",
      "Text            object\n",
      "IsHatespeech     int64\n",
      "tokens          object\n",
      "clean_text      object\n",
      "text_length      int64\n",
      "dtype: object\n"
     ]
    }
   ],
   "source": [
    "\n",
    "print(df.shape)\n",
    "print(df.dtypes)\n"
   ]
  },
  {
   "cell_type": "markdown",
   "id": "40870217",
   "metadata": {},
   "source": [
    "#### Visualizing the Text Length distribution in our dataset"
   ]
  },
  {
   "cell_type": "code",
   "execution_count": 27,
   "id": "72dc5160",
   "metadata": {},
   "outputs": [
    {
     "data": {
      "image/png": "[encoded data removed]",
      "text/plain": [
       "<Figure size 720x432 with 1 Axes>"
      ]
     },
     "metadata": {
      "needs_background": "light"
     },
     "output_type": "display_data"
    },
    {
     "data": {
      "image/png": "[encoded data removed]",
      "text/plain": [
       "<Figure size 720x432 with 1 Axes>"
      ]
     },
     "metadata": {
      "needs_background": "light"
     },
     "output_type": "display_data"
    }
   ],
   "source": [
    "df['text_length'] = df['clean_text'].apply(len)\n",
    "\n",
    "plt.figure(figsize=(10, 6))\n",
    "sns.histplot(df['text_length'], bins=100, kde=True)\n",
    "plt.title('Distribution of Text Lengths')\n",
    "plt.xlabel('Text Length')\n",
    "plt.ylabel('Frequency')\n",
    "plt.xlim(0, 1000)  \n",
    "plt.show()\n",
    "\n",
    "plt.figure(figsize=(10, 6))\n",
    "sns.histplot(df[df['IsHatespeech'] == 0]['text_length'], bins=50, color='blue', label='Non-Hate Speech', kde=True)\n",
    "sns.histplot(df[df['IsHatespeech'] == 1]['text_length'], bins=50, color='red', label='Hate Speech', kde=True)\n",
    "plt.title('Text Length Distribution by IsHatespeech')\n",
    "plt.xlabel('Text Length')\n",
    "plt.ylabel('Frequency')\n",
    "plt.legend()\n",
    "plt.xlim(0, 1000) \n",
    "plt.show()\n"
   ]
  },
  {
   "cell_type": "code",
   "execution_count": 28,
   "id": "c7c9bfe8",
   "metadata": {},
   "outputs": [
    {
     "data": {
      "image/png": "[encoded data removed]",
      "text/plain": [
       "<Figure size 720x360 with 1 Axes>"
      ]
     },
     "metadata": {
      "needs_background": "light"
     },
     "output_type": "display_data"
    }
   ],
   "source": [
    "\n",
    "plt.figure(figsize=(10, 5))\n",
    "df['text_length'].plot(kind='hist', bins=500, color='RED')\n",
    "plt.title('Distribution of Text Lengths')\n",
    "plt.xlim(0, 1000)\n",
    "plt.xlabel('Text Length')\n",
    "plt.ylabel('Frequency')\n",
    "plt.show()\n"
   ]
  },
  {
   "cell_type": "markdown",
   "id": "3b9b06e7",
   "metadata": {},
   "source": [
    "### Word Frequency Analysis\n",
    "#### Common Words: Identify and plot the most common words in the dataset.\n",
    "#### Common Words by Class: Compare the most common words between hate speech and non-hate speech."
   ]
  },
  {
   "cell_type": "code",
   "execution_count": 29,
   "id": "62847e09",
   "metadata": {},
   "outputs": [
    {
     "data": {
      "image/png": "[encoded data removed]",
      "text/plain": [
       "<Figure size 720x432 with 1 Axes>"
      ]
     },
     "metadata": {
      "needs_background": "light"
     },
     "output_type": "display_data"
    },
    {
     "data": {
      "image/png": "[encoded data removed]",
      "text/plain": [
       "<Figure size 720x432 with 1 Axes>"
      ]
     },
     "metadata": {
      "needs_background": "light"
     },
     "output_type": "display_data"
    },
    {
     "data": {
      "image/png": "[encoded data removed]",
      "text/plain": [
       "<Figure size 720x432 with 1 Axes>"
      ]
     },
     "metadata": {
      "needs_background": "light"
     },
     "output_type": "display_data"
    }
   ],
   "source": [
    "\n",
    "from collections import Counter\n",
    "\n",
    "def word_frequencies(tokens):\n",
    "    return Counter([word for token_list in tokens for word in token_list])\n",
    "\n",
    "\n",
    "all_words = word_frequencies(df['tokens'])\n",
    "common_words = all_words.most_common(20)\n",
    "words, counts = zip(*common_words)\n",
    "\n",
    "plt.figure(figsize=(10, 6))\n",
    "sns.barplot(x=list(counts), y=list(words))\n",
    "plt.title('Top 20 Most Common Words')\n",
    "plt.xlabel('Count')\n",
    "plt.ylabel('Words')\n",
    "plt.show()\n",
    "\n",
    "\n",
    "hate_speech_words = word_frequencies(df[df['IsHatespeech'] == 1]['tokens'])\n",
    "non_hate_speech_words = word_frequencies(df[df['IsHatespeech'] == 0]['tokens'])\n",
    "\n",
    "common_hate_speech_words = hate_speech_words.most_common(20)\n",
    "common_non_hate_speech_words = non_hate_speech_words.most_common(20)\n",
    "\n",
    "hate_words, hate_counts = zip(*common_hate_speech_words)\n",
    "non_hate_words, non_hate_counts = zip(*common_non_hate_speech_words)\n",
    "\n",
    "plt.figure(figsize=(10, 6))\n",
    "sns.barplot(x=list(hate_counts), y=list(hate_words))\n",
    "plt.title('Top 20 Most Common Words in Hate Speech')\n",
    "plt.xlabel('Count')\n",
    "plt.ylabel('Words')\n",
    "plt.show()\n",
    "\n",
    "plt.figure(figsize=(10, 6))\n",
    "sns.barplot(x=list(non_hate_counts), y=list(non_hate_words))\n",
    "plt.title('Top 20 Most Common Words in Non-Hate Speech')\n",
    "plt.xlabel('Count')\n",
    "plt.ylabel('Words')\n",
    "plt.show()\n"
   ]
  },
  {
   "cell_type": "markdown",
   "id": "c34b601c",
   "metadata": {},
   "source": [
    "### Word Tokenization\n",
    "Word tokenization is the process of splitting a string of text into individual words or tokens. It is a fundamental step in natural language processing (NLP) and text mining tasks. By breaking down text into words, it allows for more detailed and granular analysis."
   ]
  },
  {
   "cell_type": "code",
   "execution_count": 30,
   "id": "eef2f32f",
   "metadata": {},
   "outputs": [
    {
     "data": {
      "text/plain": [
       "0    [frustratingly, small, please, find, image, le...\n",
       "1    [padding, cell, padding, class, mainpagebg, so...\n",
       "2    [scenario, present, see, believe, people, robo...\n",
       "3    [go, inside, tomorrow, hate, every, time, feel...\n",
       "4    [retweet, china, bird, flu, outbreak, good, si...\n",
       "Name: tokens, dtype: object"
      ]
     },
     "execution_count": 30,
     "metadata": {},
     "output_type": "execute_result"
    }
   ],
   "source": [
    "df['tokens'].head()"
   ]
  },
  {
   "cell_type": "markdown",
   "id": "f67cab93",
   "metadata": {},
   "source": [
    "#### The Dataset is mostly balanced and no need to perform any imbalanced data handling techniques on it."
   ]
  },
  {
   "cell_type": "code",
   "execution_count": 32,
   "id": "c4e05e14",
   "metadata": {},
   "outputs": [
    {
     "data": {
      "image/png": "[encoded data removed]",
      "text/plain": [
       "<Figure size 432x288 with 1 Axes>"
      ]
     },
     "metadata": {
      "needs_background": "light"
     },
     "output_type": "display_data"
    }
   ],
   "source": [
    "counts = df['IsHatespeech'].value_counts()\n",
    "counts.plot(kind='bar', color=['blue', 'orange'])\n",
    "\n",
    "\n",
    "plt.title('Number of 0 and 1 in IsHatespeech Column')\n",
    "plt.xlabel('IsHatespeech')\n",
    "plt.ylabel('Count')\n",
    "plt.xticks([0, 1], ['0 (Non-Hate Speech)', '1 (Hate Speech)'], rotation=0)\n",
    "\n",
    "plt.show()"
   ]
  },
  {
   "cell_type": "code",
   "execution_count": 33,
   "id": "27473c0c",
   "metadata": {},
   "outputs": [],
   "source": [
    "df = df.dropna()"
   ]
  },
  {
   "cell_type": "markdown",
   "id": "e472c39f",
   "metadata": {},
   "source": [
    "#### TF-IDF Embedding \n",
    "After testing various embedding techninques TF-IDF was the best fit for our dataset and its performance was also good with reaspect to other techniques. A temporary ML model was used to determine this performance of embedding techniques.\n",
    "\n",
    "Here the max_features parameter is choosen as 2500 after trying with various other values this provided the best benchmark score\n",
    "\n",
    "#### Split of Dataset into Train and Test\n",
    "The datset was split into two parts the training dataset which is about 80% dataset and testing dataset which is about 20% both taken at random state."
   ]
  },
  {
   "cell_type": "code",
   "execution_count": 35,
   "id": "a0ec143f",
   "metadata": {},
   "outputs": [
    {
     "name": "stdout",
     "output_type": "stream",
     "text": [
      "Training Dataset shape : (7448,)\n",
      "Test Dataset shape : (1862,)\n"
     ]
    }
   ],
   "source": [
    "from sklearn.model_selection import train_test_split, GridSearchCV\n",
    "from sklearn.feature_extraction.text import TfidfVectorizer\n",
    "\n",
    "X = df['clean_text']\n",
    "y = df['IsHatespeech']\n",
    "\n",
    "X_train, X_test, y_train, y_test = train_test_split(X, y, test_size=0.2, random_state=42)\n",
    "\n",
    "print(\"Training Dataset shape :\",X_train.shape)\n",
    "print(\"Test Dataset shape :\",X_test.shape)\n",
    "\n",
    "tfidf_vectorizer = TfidfVectorizer(max_features=2500)\n",
    "X_train_tfidf = tfidf_vectorizer.fit_transform(X_train)\n",
    "X_test_tfidf = tfidf_vectorizer.transform(X_test)"
   ]
  },
  {
   "cell_type": "markdown",
   "id": "b20a434b",
   "metadata": {},
   "source": [
    "### Benchmark Using ML model\n",
    "\n",
    "#### Support Vector Model\n",
    "This model was used to set a standard benchmark score for the dataset. Here the model was Hypertunned and best fit parameters were tasted and the parameter which seemed best were used to train the model. We considered the Accuracy and F1 score to evaluate the performance of the model.\n",
    "\n",
    "##### Performance Score:\n",
    "Accuracy: 0.7830290010741139\n",
    "\n",
    "F1 Score: 0.78848167539267\n",
    "\n",
    "\n"
   ]
  },
  {
   "cell_type": "code",
   "execution_count": 37,
   "id": "8a3eaad4",
   "metadata": {},
   "outputs": [
    {
     "name": "stdout",
     "output_type": "stream",
     "text": [
      "SVM Performance with TF-IDF:\n",
      "Classification Report:\n",
      "               precision    recall  f1-score   support\n",
      "\n",
      "           0       0.80      0.75      0.78       934\n",
      "           1       0.77      0.81      0.79       928\n",
      "\n",
      "    accuracy                           0.78      1862\n",
      "   macro avg       0.78      0.78      0.78      1862\n",
      "weighted avg       0.78      0.78      0.78      1862\n",
      "\n",
      "Accuracy: 0.7830290010741139\n",
      "AUC-ROC: 0.856439327512368\n",
      "Confusion Matrix:\n",
      " [[705 229]\n",
      " [175 753]]\n",
      "F1 Score: 0.78848167539267\n",
      "Precision: 0.7668024439918534\n",
      "Recall: 0.8114224137931034\n"
     ]
    }
   ],
   "source": [
    "from sklearn.svm import SVC\n",
    "from sklearn.metrics import classification_report, accuracy_score, roc_auc_score, precision_score, recall_score, f1_score,confusion_matrix\n",
    "\n",
    "svm_model = SVC(C=1, gamma='scale', kernel='rbf', random_state=42, probability=True)\n",
    "\n",
    "svm_model.fit(X_train_tfidf, y_train)\n",
    "\n",
    "y_pred_svm = svm_model.predict(X_test_tfidf)\n",
    "y_pred_svm_proba = svm_model.predict_proba(X_test_tfidf)[:, 1]\n",
    "\n",
    "print(\"SVM Performance with TF-IDF:\")\n",
    "print(\"Classification Report:\\n\", classification_report(y_test, y_pred_svm))\n",
    "print(\"Accuracy:\", accuracy_score(y_test, y_pred_svm))\n",
    "print(\"AUC-ROC:\", roc_auc_score(y_test, y_pred_svm_proba))\n",
    "print(\"Confusion Matrix:\\n\", confusion_matrix(y_test, y_pred_svm))\n",
    "print(\"F1 Score:\", f1_score(y_test, y_pred_svm))\n",
    "print(\"Precision:\",precision_score(y_test, y_pred_svm))\n",
    "print(\"Recall:\", recall_score(y_test, y_pred_svm))"
   ]
  },
  {
   "cell_type": "markdown",
   "id": "fa3d1c97",
   "metadata": {},
   "source": [
    "From this the benchmark for our deep learning model is set now we only have to achive better reasults than the benchmark score set by the ML model.\n",
    "\n",
    "Here we have considered the Accuracy and F1 score for our benchmark score. Since our dataset is quite balanced the accuracy can also play a good role but we should also keep an eye for the precision and recall so we used the combined function of the F1 score which provide us with a combination of both precision and recall. "
   ]
  },
  {
   "cell_type": "code",
   "execution_count": null,
   "id": "79c890d2",
   "metadata": {},
   "outputs": [],
   "source": []
  }
 ],
 "metadata": {
  "kernelspec": {
   "display_name": "Python 3 (ipykernel)",
   "language": "python",
   "name": "python3"
  },
  "language_info": {
   "codemirror_mode": {
    "name": "ipython",
    "version": 3
   },
   "file_extension": ".py",
   "mimetype": "text/x-python",
   "name": "python",
   "nbconvert_exporter": "python",
   "pygments_lexer": "ipython3",
   "version": "3.9.12"
  }
 },
 "nbformat": 4,
 "nbformat_minor": 5
}
